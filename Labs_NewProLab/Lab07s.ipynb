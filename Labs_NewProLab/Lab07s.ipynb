{
 "cells": [
  {
   "cell_type": "code",
   "execution_count": 10,
   "metadata": {
    "collapsed": false,
    "deletable": true,
    "editable": true
   },
   "outputs": [
    {
     "name": "stdout",
     "output_type": "stream",
     "text": [
      "Welcome to\n",
      "      ____              __\n",
      "     / __/__  ___ _____/ /__\n",
      "    _\\ \\/ _ \\/ _ `/ __/  '_/\n",
      "   /__ / .__/\\_,_/_/ /_/\\_\\   version 2.3.0\n",
      "      /_/\n",
      "\n",
      "Using Python version 3.6.4 (default, Jan 28 2018 00:00:00)\n",
      "SparkSession available as 'spark'.\n"
     ]
    }
   ],
   "source": [
    "import os\n",
    "import sys\n",
    "os.environ[\"PYSPARK_SUBMIT_ARGS\"]='--packages com.databricks:spark-csv_2.10:1.2.0 pyspark-shell --num-executors 5'\n",
    "os.environ[\"PYSPARK_PYTHON\"]='python3'\n",
    "os.environ[\"SPARK_HOME\"]='/usr/hdp/current/spark2-client'\n",
    "\n",
    "spark_home = os.environ.get('SPARK_HOME', None)\n",
    "if not spark_home:\n",
    "    raise ValueError('SPARK_HOME environment variable is not set')\n",
    "sys.path.insert(0, os.path.join(spark_home, 'python'))\n",
    "sys.path.insert(0, os.path.join(spark_home, 'python/lib/py4j-0.10.6-src.zip'))\n",
    "os.environ[\"PYSPARK_PYTHON\"] = 'python3'\n",
    "exec(open(os.path.join(spark_home, 'python/pyspark/shell.py')).read())\n",
    "import re"
   ]
  },
  {
   "cell_type": "code",
   "execution_count": 11,
   "metadata": {
    "collapsed": true
   },
   "outputs": [],
   "source": [
    "ids = [15516,22777,13131,5660,965,877]"
   ]
  },
  {
   "cell_type": "code",
   "execution_count": 12,
   "metadata": {
    "collapsed": false,
    "deletable": true,
    "editable": true
   },
   "outputs": [],
   "source": [
    "#подгружаем все что нам понадобится\n",
    "from pyspark.conf import SparkConf\n",
    "spark=SparkSession.builder.config(conf=SparkConf()).getOrCreate()\n",
    "\n",
    "from pyspark.sql.functions import col\n",
    "\n",
    "import re\n",
    "from pyspark.sql.functions import udf\n",
    "\n",
    "from pyspark.ml.feature import HashingTF, IDF, Tokenizer\n",
    "from pyspark.ml.feature import Normalizer\n",
    "\n",
    "import numpy as np\n",
    "from pyspark.ml.linalg import *\n",
    "from pyspark.sql.types import * \n",
    "from pyspark.sql.functions import *\n",
    "from pyspark.sql.functions import udf\n",
    "\n",
    "import json"
   ]
  },
  {
   "cell_type": "code",
   "execution_count": 13,
   "metadata": {
    "collapsed": false,
    "deletable": true,
    "editable": true
   },
   "outputs": [],
   "source": [
    "#читаем данные\n",
    "sqlContext = SQLContext (sc)\n",
    "dataInit = sqlContext.read.json(\"/labs/lab07data/DO_record_per_line.json\")"
   ]
  },
  {
   "cell_type": "code",
   "execution_count": 14,
   "metadata": {
    "collapsed": false,
    "deletable": true,
    "editable": true,
    "scrolled": false
   },
   "outputs": [
    {
     "name": "stdout",
     "output_type": "stream",
     "text": [
      "['cat', 'desc', 'id', 'lang', 'name', 'provider']\n",
      "35\n"
     ]
    }
   ],
   "source": [
    "print(dataInit.columns)\n",
    "print(dataInit.select('lang').distinct().count())"
   ]
  },
  {
   "cell_type": "code",
   "execution_count": 15,
   "metadata": {
    "collapsed": false,
    "deletable": true,
    "editable": true
   },
   "outputs": [
    {
     "data": {
      "text/plain": [
       "[[877, 0.1], [965, 0.1], [5660, 0.8], [13131, 0.1], [15516, 0.4], [22777, 0.8]]"
      ]
     },
     "execution_count": 15,
     "metadata": {},
     "output_type": "execute_result"
    }
   ],
   "source": [
    " [[877, 0.1], [965, 0.1], [5660, 0.8], [13131, 0.2], [15516, 0.8], [22777, 0.8]]\n",
    "    \n",
    "[[877, 0.1], [965, 0.1], [5660, 0.8], [13131, 0.1], [15516, 0.4], [22777, 0.8]]"
   ]
  },
  {
   "cell_type": "code",
   "execution_count": 16,
   "metadata": {
    "collapsed": false,
    "deletable": true,
    "editable": true
   },
   "outputs": [
    {
     "name": "stdout",
     "output_type": "stream",
     "text": [
      "+--------------------+----+-----+\n",
      "|                name|lang|   id|\n",
      "+--------------------+----+-----+\n",
      "|Нейрокомпьютинг и...|  ru|  877|\n",
      "|Основы работы с G...|  ru|  965|\n",
      "|Escritura Emocion...|  es| 5660|\n",
      "|Instala Google An...|  es|13131|\n",
      "|Optimizing Perfor...|  en|15516|\n",
      "|Attract High Payi...|  en|22777|\n",
      "+--------------------+----+-----+\n",
      "\n"
     ]
    }
   ],
   "source": [
    "dataInit.where(col('id').isin(ids)).select('name','lang','id').show()"
   ]
  },
  {
   "cell_type": "code",
   "execution_count": 17,
   "metadata": {
    "collapsed": false,
    "deletable": true,
    "editable": true
   },
   "outputs": [
    {
     "name": "stdout",
     "output_type": "stream",
     "text": [
      "+--------------------+----+-----+\n",
      "|                name|lang|   id|\n",
      "+--------------------+----+-----+\n",
      "|Regular Expressio...|  en| 6149|\n",
      "|Learn Medical Mar...|  en| 6234|\n",
      "| Medicinal Marijuana|  en| 6235|\n",
      "|Drawing on the iP...|  en|14505|\n",
      "|Using Regular Exp...|  en|16328|\n",
      "|Learning Regular ...|  en|17495|\n",
      "|The Patient-to-Pa...|  en|20217|\n",
      "|JavaScript from s...|  en|24248|\n",
      "|Lazy Ninja's Guid...|  en|25969|\n",
      "|How I made $1800 ...|  en|26624|\n",
      "|Get the job YOU w...|  en|26999|\n",
      "+--------------------+----+-----+\n",
      "\n"
     ]
    }
   ],
   "source": [
    "dataInit.where(col('id').isin('6235','6234', '6149', '16328', '20217', '26624', '14505', '17495', '26999', '25969', '24248'))\\\n",
    ".select('name','lang','id').show()"
   ]
  },
  {
   "cell_type": "code",
   "execution_count": 18,
   "metadata": {
    "collapsed": false,
    "deletable": true,
    "editable": true,
    "scrolled": true
   },
   "outputs": [
    {
     "data": {
      "text/plain": [
       "Row(cat='3/business_management|6/economics_finance', desc='This course introduces the basic financial statements used by most businesses, as well as the essential tools used to prepare them. This course will serve as a resource to help business students succeed in their upcoming university-level accounting classes, and as a refresher for upper division accounting students who are struggling to recall elementary concepts essential to more advanced accounting topics. Business owners will also benefit from this class by gaining essential skills necessary to organize and manage information pertinent to operating their business. At the conclusion of the class, students will understand the balance sheet, income statement, and cash flow statement. They will be able to differentiate between cash basis and accrual basis techniques, and know when each is appropriate. They’ll also understand the accounting equation, how to journalize and post transactions, how to adjust and close accounts, and how to prepare key financial reports. All material for this class is written and delivered by the professor, and can be previewed here. Students must have access to a spreadsheet program to participate.', id=4, lang='en', name='Accounting Cycle: The Foundation of Business Measurement and Reporting', provider='Canvas Network')"
      ]
     },
     "execution_count": 18,
     "metadata": {},
     "output_type": "execute_result"
    }
   ],
   "source": [
    "dataInit.first()"
   ]
  },
  {
   "cell_type": "code",
   "execution_count": 19,
   "metadata": {
    "collapsed": false,
    "deletable": true,
    "editable": true
   },
   "outputs": [
    {
     "name": "stdout",
     "output_type": "stream",
     "text": [
      "+----+-----+\n",
      "|lang|count|\n",
      "+----+-----+\n",
      "|  ms|    1|\n",
      "|  uz|    1|\n",
      "|  sv|    1|\n",
      "|  pl|    1|\n",
      "|  et|    1|\n",
      "|  sw|    1|\n",
      "|  fa|    1|\n",
      "|  vi|    1|\n",
      "|  id|    1|\n",
      "|  bg|    2|\n",
      "|  af|    2|\n",
      "|  hu|    2|\n",
      "|  nb|    2|\n",
      "|  fi|    2|\n",
      "|  ko|    3|\n",
      "|  da|    3|\n",
      "|  hr|    4|\n",
      "|  sk|    5|\n",
      "|  el|    5|\n",
      "|  hi|    6|\n",
      "|  nl|    6|\n",
      "|  ca|    6|\n",
      "|  he|    8|\n",
      "|  ur|   11|\n",
      "|  ar|   34|\n",
      "|  it|   62|\n",
      "|  ja|   77|\n",
      "|  fr|  104|\n",
      "|  tr|  120|\n",
      "|  de|  166|\n",
      "|  zh|  169|\n",
      "|  pt|  187|\n",
      "|  ru| 1231|\n",
      "|  es| 1374|\n",
      "|  en|24553|\n",
      "+----+-----+\n",
      "\n"
     ]
    }
   ],
   "source": [
    "lang=dataInit.groupby('lang').count().sort('count')\n",
    "lang.show(100)"
   ]
  },
  {
   "cell_type": "code",
   "execution_count": 20,
   "metadata": {
    "collapsed": false,
    "deletable": true,
    "editable": true
   },
   "outputs": [
    {
     "data": {
      "text/plain": [
       "[{'count': 1, 'lang': 'vi'},\n",
       " {'count': 1, 'lang': 'uz'},\n",
       " {'count': 1, 'lang': 'sw'},\n",
       " {'count': 1, 'lang': 'id'},\n",
       " {'count': 1, 'lang': 'pl'},\n",
       " {'count': 1, 'lang': 'ms'},\n",
       " {'count': 1, 'lang': 'sv'},\n",
       " {'count': 1, 'lang': 'fa'},\n",
       " {'count': 1, 'lang': 'et'},\n",
       " {'count': 2, 'lang': 'bg'},\n",
       " {'count': 2, 'lang': 'nb'},\n",
       " {'count': 2, 'lang': 'hu'},\n",
       " {'count': 2, 'lang': 'fi'},\n",
       " {'count': 2, 'lang': 'af'},\n",
       " {'count': 3, 'lang': 'ko'},\n",
       " {'count': 3, 'lang': 'da'},\n",
       " {'count': 4, 'lang': 'hr'},\n",
       " {'count': 5, 'lang': 'sk'},\n",
       " {'count': 5, 'lang': 'el'},\n",
       " {'count': 6, 'lang': 'hi'},\n",
       " {'count': 6, 'lang': 'nl'},\n",
       " {'count': 6, 'lang': 'ca'},\n",
       " {'count': 8, 'lang': 'he'},\n",
       " {'count': 11, 'lang': 'ur'},\n",
       " {'count': 34, 'lang': 'ar'},\n",
       " {'count': 62, 'lang': 'it'},\n",
       " {'count': 77, 'lang': 'ja'},\n",
       " {'count': 104, 'lang': 'fr'},\n",
       " {'count': 120, 'lang': 'tr'},\n",
       " {'count': 166, 'lang': 'de'},\n",
       " {'count': 169, 'lang': 'zh'},\n",
       " {'count': 187, 'lang': 'pt'},\n",
       " {'count': 1231, 'lang': 'ru'},\n",
       " {'count': 1374, 'lang': 'es'},\n",
       " {'count': 24553, 'lang': 'en'}]"
      ]
     },
     "execution_count": 20,
     "metadata": {},
     "output_type": "execute_result"
    }
   ],
   "source": [
    "lang_list=lang.rdd.map(lambda Row: {'lang':Row[0],'count':Row[1]}).collect()\n",
    "lang_list"
   ]
  },
  {
   "cell_type": "code",
   "execution_count": 21,
   "metadata": {
    "collapsed": false,
    "deletable": true,
    "editable": true,
    "scrolled": true
   },
   "outputs": [
    {
     "data": {
      "image/png": "[encoded data removed]",
      "text/plain": [
       "<matplotlib.figure.Figure at 0x7f09dd65cb38>"
      ]
     },
     "metadata": {},
     "output_type": "display_data"
    }
   ],
   "source": [
    "import matplotlib.pyplot as plt\n",
    "\n",
    "vals=[]\n",
    "names=[]\n",
    "for i in lang_list:\n",
    "    vals.append(i.get('count'))\n",
    "    names.append(i.get('lang'))\n",
    "\n",
    "plt.figure(figsize=(20,10))\n",
    "plt.bar(range(35),vals)\n",
    "plt.xticks(range(35),names)\n",
    "ax = plt.gca()\n",
    "ax.tick_params(axis = 'both', which = 'major', labelsize = 15)\n",
    "plt.show()"
   ]
  },
  {
   "cell_type": "code",
   "execution_count": 22,
   "metadata": {
    "collapsed": false,
    "deletable": true,
    "editable": true
   },
   "outputs": [
    {
     "data": {
      "text/plain": [
       "Row(description='Accounting Cycle: The Foundation of Business Measurement and Reporting This course introduces the basic financial statements used by most businesses, as well as the essential tools used to prepare them. This course will serve as a resource to help business students succeed in their upcoming university-level accounting classes, and as a refresher for upper division accounting students who are struggling to recall elementary concepts essential to more advanced accounting topics. Business owners will also benefit from this class by gaining essential skills necessary to organize and manage information pertinent to operating their business. At the conclusion of the class, students will understand the balance sheet, income statement, and cash flow statement. They will be able to differentiate between cash basis and accrual basis techniques, and know when each is appropriate. They’ll also understand the accounting equation, how to journalize and post transactions, how to adjust and close accounts, and how to prepare key financial reports. All material for this class is written and delivered by the professor, and can be previewed here. Students must have access to a spreadsheet program to participate.')"
      ]
     },
     "execution_count": 22,
     "metadata": {},
     "output_type": "execute_result"
    }
   ],
   "source": [
    "langs=['en','ru','es']\n",
    "\n",
    "#data_ru_eng=dataInit.where(col('lang').isin(langs))\n",
    "dataToprocess=dataInit.withColumn('description', concat(col('name'), lit(' '), col('desc')))\n",
    "dataToprocess.select('description').first()"
   ]
  },
  {
   "cell_type": "code",
   "execution_count": 23,
   "metadata": {
    "collapsed": false,
    "deletable": true,
    "editable": true
   },
   "outputs": [
    {
     "name": "stdout",
     "output_type": "stream",
     "text": [
      "+--------------------+--------------------+---+----+--------------------+--------------+--------------------+\n",
      "|                 cat|                desc| id|lang|                name|      provider|         description|\n",
      "+--------------------+--------------------+---+----+--------------------+--------------+--------------------+\n",
      "|3/business_manage...|This course intro...|  4|  en|Accounting Cycle:...|Canvas Network|Accounting Cycle:...|\n",
      "|              11/law|This online cours...|  5|  en|American Counter ...|Canvas Network|American Counter ...|\n",
      "+--------------------+--------------------+---+----+--------------------+--------------+--------------------+\n",
      "only showing top 2 rows\n",
      "\n"
     ]
    }
   ],
   "source": [
    "dataToprocess.show(2)"
   ]
  },
  {
   "cell_type": "code",
   "execution_count": 24,
   "metadata": {
    "collapsed": false,
    "deletable": true,
    "editable": true
   },
   "outputs": [
    {
     "name": "stdout",
     "output_type": "stream",
     "text": [
      "+---+--------------------+----+\n",
      "| id|               clean|lang|\n",
      "+---+--------------------+----+\n",
      "|  4|this course intro...|  en|\n",
      "|  5|this online cours...|  en|\n",
      "|  6|this course is ta...|  fr|\n",
      "|  7|we live in digita...|  en|\n",
      "|  8|this self paced c...|  en|\n",
      "|  9|this game based c...|  en|\n",
      "| 10|what in your digi...|  en|\n",
      "| 11|the goal of the d...|  en|\n",
      "| 12|ready to explore ...|  en|\n",
      "| 13|this self paced c...|  en|\n",
      "+---+--------------------+----+\n",
      "only showing top 10 rows\n",
      "\n"
     ]
    }
   ],
   "source": [
    "#парсим\n",
    "regex = re.compile(r'[\\w\\d]{2,}', re.U)\n",
    "#regex.findall(string.lower())\n",
    "           \n",
    "F1 = udf(lambda x: ' '.join(regex.findall(x.lower())))\n",
    "\n",
    "texts = dataInit.withColumn(\"clean\" ,F1(dataInit[\"desc\"])).select('id','clean','lang')\n",
    "\n",
    "texts.show(10)"
   ]
  },
  {
   "cell_type": "code",
   "execution_count": 25,
   "metadata": {
    "collapsed": false,
    "deletable": true,
    "editable": true,
    "scrolled": true
   },
   "outputs": [
    {
     "data": {
      "text/plain": [
       "Row(clean='this course introduces the basic financial statements used by most businesses as well as the essential tools used to prepare them this course will serve as resource to help business students succeed in their upcoming university level accounting classes and as refresher for upper division accounting students who are struggling to recall elementary concepts essential to more advanced accounting topics business owners will also benefit from this class by gaining essential skills necessary to organize and manage information pertinent to operating their business at the conclusion of the class students will understand the balance sheet income statement and cash flow statement they will be able to differentiate between cash basis and accrual basis techniques and know when each is appropriate they ll also understand the accounting equation how to journalize and post transactions how to adjust and close accounts and how to prepare key financial reports all material for this class is written and delivered by the professor and can be previewed here students must have access to spreadsheet program to participate')"
      ]
     },
     "execution_count": 25,
     "metadata": {},
     "output_type": "execute_result"
    }
   ],
   "source": [
    "texts.select('clean').first()"
   ]
  },
  {
   "cell_type": "code",
   "execution_count": 26,
   "metadata": {
    "collapsed": false,
    "deletable": true,
    "editable": true
   },
   "outputs": [
    {
     "name": "stdout",
     "output_type": "stream",
     "text": [
      "Normalized using L^1 norm\n",
      "+---+--------------------+----+--------------------+--------------------+--------------------+--------------------+\n",
      "| id|               clean|lang|               words|          hashing_TF|              tf_idf|        normFeatures|\n",
      "+---+--------------------+----+--------------------+--------------------+--------------------+--------------------+\n",
      "|  4|this course intro...|  en|[this, course, in...|(8000,[48,164,177...|(8000,[48,164,177...|(8000,[48,164,177...|\n",
      "|  5|this online cours...|  en|[this, online, co...|(8000,[0,32,37,48...|(8000,[0,32,37,48...|(8000,[0,32,37,48...|\n",
      "|  6|this course is ta...|  fr|[this, course, is...|(8000,[65,118,375...|(8000,[65,118,375...|(8000,[65,118,375...|\n",
      "|  7|we live in digita...|  en|[we, live, in, di...|(8000,[13,346,572...|(8000,[13,346,572...|(8000,[13,346,572...|\n",
      "|  8|this self paced c...|  en|[this, self, pace...|(8000,[32,61,77,1...|(8000,[32,61,77,1...|(8000,[32,61,77,1...|\n",
      "|  9|this game based c...|  en|[this, game, base...|(8000,[217,308,39...|(8000,[217,308,39...|(8000,[217,308,39...|\n",
      "| 10|what in your digi...|  en|[what, in, your, ...|(8000,[537,580,14...|(8000,[537,580,14...|(8000,[537,580,14...|\n",
      "| 11|the goal of the d...|  en|[the, goal, of, t...|(8000,[208,572,75...|(8000,[208,572,75...|(8000,[208,572,75...|\n",
      "| 12|ready to explore ...|  en|[ready, to, explo...|(8000,[140,465,62...|(8000,[140,465,62...|(8000,[140,465,62...|\n",
      "| 13|this self paced c...|  en|[this, self, pace...|(8000,[1239,1354,...|(8000,[1239,1354,...|(8000,[1239,1354,...|\n",
      "+---+--------------------+----+--------------------+--------------------+--------------------+--------------------+\n",
      "only showing top 10 rows\n",
      "\n"
     ]
    }
   ],
   "source": [
    "tokenizer = Tokenizer(inputCol=\"clean\", outputCol=\"words\" , )\n",
    "tempData = tokenizer.transform(texts)\n",
    "\n",
    "hashingTF = HashingTF(inputCol=\"words\", outputCol=\"hashing_TF\", numFeatures=8000)\n",
    "featurizedData = hashingTF.transform(tempData)\n",
    "featurizedData.cache()\n",
    "idf = IDF(inputCol=\"hashing_TF\", outputCol=\"tf_idf\")\n",
    "idfModel = idf.fit(featurizedData)\n",
    "rescaledData = idfModel.transform(featurizedData)\n",
    "\n",
    "normalizer = Normalizer(inputCol=\"tf_idf\", outputCol=\"normFeatures\", p=1.0)\n",
    "l1NormData = normalizer.transform(rescaledData)\n",
    "print(\"Normalized using L^1 norm\")\n",
    "l1NormData.show(10)"
   ]
  },
  {
   "cell_type": "code",
   "execution_count": 27,
   "metadata": {
    "collapsed": false,
    "deletable": true,
    "editable": true
   },
   "outputs": [
    {
     "ename": "NameError",
     "evalue": "name 'NGram' is not defined",
     "output_type": "error",
     "traceback": [
      "\u001b[0;31m---------------------------------------------------------------------------\u001b[0m",
      "\u001b[0;31mNameError\u001b[0m                                 Traceback (most recent call last)",
      "\u001b[0;32m<ipython-input-27-5d1475304bc0>\u001b[0m in \u001b[0;36m<module>\u001b[0;34m()\u001b[0m\n\u001b[0;32m----> 1\u001b[0;31m \u001b[0mngram\u001b[0m \u001b[0;34m=\u001b[0m \u001b[0mNGram\u001b[0m\u001b[0;34m(\u001b[0m\u001b[0mn\u001b[0m\u001b[0;34m=\u001b[0m\u001b[0;36m2\u001b[0m\u001b[0;34m,\u001b[0m \u001b[0minputCol\u001b[0m\u001b[0;34m=\u001b[0m\u001b[0;34m\"words\"\u001b[0m\u001b[0;34m,\u001b[0m \u001b[0moutputCol\u001b[0m\u001b[0;34m=\u001b[0m\u001b[0;34m\"ngrams\"\u001b[0m\u001b[0;34m)\u001b[0m\u001b[0;34m\u001b[0m\u001b[0m\n\u001b[0m",
      "\u001b[0;31mNameError\u001b[0m: name 'NGram' is not defined"
     ]
    }
   ],
   "source": [
    "#ngram = NGram(n=2, inputCol=\"words\", outputCol=\"ngrams\")"
   ]
  },
  {
   "cell_type": "code",
   "execution_count": 28,
   "metadata": {
    "collapsed": false,
    "deletable": true,
    "editable": true
   },
   "outputs": [],
   "source": [
    "myData=l1NormData.select('id','hashing_TF','normFeatures','lang')\n",
    "myData.cache()\n",
    "myData.write.save(\"lab_07s_tfidf_8000.parquet\")"
   ]
  },
  {
   "cell_type": "code",
   "execution_count": 29,
   "metadata": {
    "collapsed": false,
    "deletable": true,
    "editable": true,
    "scrolled": true
   },
   "outputs": [
    {
     "name": "stdout",
     "output_type": "stream",
     "text": [
      "+---+--------------------+--------------------+----+\n",
      "| id|          hashing_TF|        normFeatures|lang|\n",
      "+---+--------------------+--------------------+----+\n",
      "|  4|(8000,[48,164,177...|(8000,[48,164,177...|  en|\n",
      "|  5|(8000,[0,32,37,48...|(8000,[0,32,37,48...|  en|\n",
      "|  6|(8000,[65,118,375...|(8000,[65,118,375...|  fr|\n",
      "|  7|(8000,[13,346,572...|(8000,[13,346,572...|  en|\n",
      "|  8|(8000,[32,61,77,1...|(8000,[32,61,77,1...|  en|\n",
      "|  9|(8000,[217,308,39...|(8000,[217,308,39...|  en|\n",
      "| 10|(8000,[537,580,14...|(8000,[537,580,14...|  en|\n",
      "| 11|(8000,[208,572,75...|(8000,[208,572,75...|  en|\n",
      "| 12|(8000,[140,465,62...|(8000,[140,465,62...|  en|\n",
      "| 13|(8000,[1239,1354,...|(8000,[1239,1354,...|  en|\n",
      "+---+--------------------+--------------------+----+\n",
      "only showing top 10 rows\n",
      "\n"
     ]
    }
   ],
   "source": [
    "myData = spark.read.load(\"lab_07s_tfidf_8000.parquet\")\n",
    "myData.show(10)"
   ]
  },
  {
   "cell_type": "markdown",
   "metadata": {
    "deletable": true,
    "editable": true
   },
   "source": [
    "CALCULATE COS SIM "
   ]
  },
  {
   "cell_type": "markdown",
   "metadata": {
    "deletable": true,
    "editable": true
   },
   "source": [
    "ids для lab07:"
   ]
  },
  {
   "cell_type": "code",
   "execution_count": null,
   "metadata": {
    "collapsed": false,
    "deletable": true,
    "editable": true
   },
   "outputs": [],
   "source": [
    "ids=[[24664, u'en', u'Mastering Magento - Udemy']\\\n",
    "     , [23983, u'en', u'How to Price your Product & Service and Charge for Profit.']\\\n",
    "     , [11574, u'es', u'Aprender a escribir a los 4: M\\xe9todo Doman en Preescolar by Elisa Guerra']\\\n",
    "     , [12801, u'es', u'Aprende a tocar blues en el piano y teclado by Virtuosso Producciones']\\\n",
    "     , [25922, u'ru', u'\\u0414\\u0438\\u043d\\u0430\\u0441\\u0442\\u0438\\u0447\\u0435\\u0441\\u043a\\u0438\\u0439 \\u043c\\u0438\\u0440 \\u0434\\u043e\\u043c\\u043e\\u043d\\u0433\\u043e\\u043b\\u044c\\u0441\\u043a\\u043e\\u0439 \\u0420\\u0443\\u0441\\u0438']\\\n",
    "     , [1178, u'ru', u'\\u0420\\u0430\\u0431\\u043e\\u0442\\u0430 \\u0432 Microsoft Excel XP']]\n",
    "ids=sorted([x[0] for x in ids])\n",
    "print(ids)"
   ]
  },
  {
   "cell_type": "markdown",
   "metadata": {
    "deletable": true,
    "editable": true
   },
   "source": [
    "для ачивки:"
   ]
  },
  {
   "cell_type": "code",
   "execution_count": null,
   "metadata": {
    "collapsed": false,
    "deletable": true,
    "editable": true
   },
   "outputs": [],
   "source": [
    "ids=[[6235, u'en', u'Medicinal Marijuana']\\\n",
    "     , [9209, u'en', u'Cable TV Installer Training by David Deke']\\\n",
    "     , [9416, u'es', u'Curso de preparacion para la mujer embarazada by Daniela Becerra Morales']\\\n",
    "     , [5750, u'es', u'Administre Proyectos Efectivamente - Curso de Fundamentos by Projectical S.A.S. REP del PMI']\\\n",
    "     , [1387, u'ru', u'\\u0412\\u0432\\u0435\\u0434\\u0435\\u043d\\u0438\\u0435 \\u0432 \\u0442\\u0435\\u043e\\u0440\\u0438\\u044e \\u043f\\u0440\\u043e\\u0433\\u0440\\u0430\\u043c\\u043c\\u0438\\u0440\\u043e\\u0432\\u0430\\u043d\\u0438\\u044f. \\u041e\\u0431\\u044a\\u0435\\u043a\\u0442\\u043d\\u043e-\\u043e\\u0440\\u0438\\u0435\\u043d\\u0442\\u0438\\u0440\\u043e\\u0432\\u0430\\u043d\\u043d\\u044b\\u0439 \\u043f\\u043e\\u0434\\u0445\\u043e\\u0434']\\\n",
    "     , [8787, u'ru', u'\\u0424\\u0438\\u0437\\u0438\\u043a\\u0430. \\u041a\\u0432\\u0430\\u043d\\u0442\\u043e\\u0432\\u0430\\u044f \\u0444\\u0438\\u0437\\u0438\\u043a\\u0430. \\u041b\\u0435\\u043a\\u0446\\u0438\\u0438']]\n",
    "ids=sorted([x[0] for x in ids])\n",
    "print(ids)"
   ]
  },
  {
   "cell_type": "code",
   "execution_count": null,
   "metadata": {
    "collapsed": false,
    "deletable": true,
    "editable": true,
    "scrolled": false
   },
   "outputs": [],
   "source": [
    "myData.filter(col('id').isin(ids)).show()"
   ]
  },
  {
   "cell_type": "code",
   "execution_count": null,
   "metadata": {
    "collapsed": false,
    "deletable": true,
    "editable": true
   },
   "outputs": [],
   "source": [
    "course_1=myData.where(col('id')==int(ids[0])).select('normFeatures').collect()[0][0]\n",
    "course_2=myData.where(col('id')==int(ids[1])).select('normFeatures').collect()[0][0]\n",
    "course_3=myData.where(col('id')==int(ids[2])).select('normFeatures').collect()[0][0]\n",
    "course_4=myData.where(col('id')==int(ids[3])).select('normFeatures').collect()[0][0]\n",
    "course_5=myData.where(col('id')==int(ids[4])).select('normFeatures').collect()[0][0]\n",
    "course_6=myData.where(col('id')==int(ids[5])).select('normFeatures').collect()[0][0]"
   ]
  },
  {
   "cell_type": "code",
   "execution_count": null,
   "metadata": {
    "collapsed": false,
    "deletable": true,
    "editable": true
   },
   "outputs": [],
   "source": [
    "course_3"
   ]
  },
  {
   "cell_type": "code",
   "execution_count": null,
   "metadata": {
    "collapsed": false,
    "deletable": true,
    "editable": true
   },
   "outputs": [],
   "source": [
    "def cos_sim_sp(a,b):\n",
    "    \n",
    "    if a.norm(2) !=0 and a.norm(2) !=0:\n",
    "        res=a.dot(b)/(a.norm(2) *b.norm(2))\n",
    "    else:\n",
    "        res=0 \n",
    "    return float(res)\n",
    "\n",
    "def cos_sim(a,b):\n",
    "    if np.linalg.norm(a) !=0 and np.linalg.norm(b) !=0:\n",
    "        res=float(np.dot(a, b) / (np.linalg.norm(a) * np.linalg.norm(b)))\n",
    "    else:\n",
    "        res=0\n",
    "    return res\n",
    "\n",
    "def square_list(x):\n",
    "    return [float(val)**2 for val in x]"
   ]
  },
  {
   "cell_type": "code",
   "execution_count": null,
   "metadata": {
    "collapsed": false,
    "deletable": true,
    "editable": true
   },
   "outputs": [],
   "source": [
    "print(cos_sim(course_4,course_5))\n",
    "print(cos_sim_sp(course_4, course_5))"
   ]
  },
  {
   "cell_type": "code",
   "execution_count": null,
   "metadata": {
    "collapsed": false,
    "deletable": true,
    "editable": true
   },
   "outputs": [],
   "source": [
    "fun_cos = udf(lambda x:cos_sim_sp(x,course_1), FloatType())\n",
    "ccourse_1_res=list(myData.withColumn(\"similarity\", fun_cos(myData['normFeatures']))\\\n",
    "                   .select('id','similarity')\\\n",
    "                   .orderBy('similarity', ascending=False)\\\n",
    "                   .limit(11)\\\n",
    "                   .toPandas()['id'][1:10])"
   ]
  },
  {
   "cell_type": "code",
   "execution_count": null,
   "metadata": {
    "collapsed": false,
    "deletable": true,
    "editable": true
   },
   "outputs": [],
   "source": [
    "fun_cos = udf(lambda x:cos_sim_sp(x,course_2), FloatType())\n",
    "ccourse_2_res=list(myData.withColumn(\"similarity\", fun_cos(myData['normFeatures']))\\\n",
    "                   .select('id','similarity')\\\n",
    "                   .orderBy('similarity', ascending=False)\\\n",
    "                   .limit(11)\\\n",
    "                   .toPandas()['id'][1:10])"
   ]
  },
  {
   "cell_type": "code",
   "execution_count": null,
   "metadata": {
    "collapsed": false,
    "deletable": true,
    "editable": true,
    "scrolled": false
   },
   "outputs": [],
   "source": [
    "#myData.where(col('lang')=='en'\n",
    "#т.к. чекер изначально выдал %% совпадения 20, а надо min(30), то ограничим поиск схожих среди ('lang')=='en'\n",
    "fun_cos = udf(lambda x:cos_sim_sp(x,course_3), FloatType())\n",
    "ccourse_3_res=list(myData.where(col('lang')=='en').withColumn(\"similarity\", fun_cos(myData['normFeatures']))\\\n",
    "                   .select('id','similarity')\\\n",
    "                   .orderBy('similarity', ascending=False)\\\n",
    "                   .limit(11)\\\n",
    "                   .toPandas()['id'][1:10])"
   ]
  },
  {
   "cell_type": "code",
   "execution_count": null,
   "metadata": {
    "collapsed": true,
    "deletable": true,
    "editable": true
   },
   "outputs": [],
   "source": [
    "fun_cos = udf(lambda x:cos_sim_sp(x,course_4), FloatType())\n",
    "ccourse_4_res=list(myData.withColumn(\"similarity\", fun_cos(myData['normFeatures']))\\\n",
    "                   .select('id','similarity')\\\n",
    "                   .orderBy('similarity', ascending=False)\\\n",
    "                   .limit(11)\\\n",
    "                   .toPandas()['id'][1:10])"
   ]
  },
  {
   "cell_type": "code",
   "execution_count": null,
   "metadata": {
    "collapsed": false,
    "deletable": true,
    "editable": true
   },
   "outputs": [],
   "source": [
    "fun_cos = udf(lambda x:cos_sim_sp(x,course_5), FloatType())\n",
    "ccourse_5_res=list(myData.withColumn(\"similarity\", fun_cos(myData['normFeatures']))\\\n",
    "                   .select('id','similarity')\\\n",
    "                   .orderBy('similarity', ascending=False)\\\n",
    "                   .limit(11)\\\n",
    "                   .toPandas()['id'][1:10])"
   ]
  },
  {
   "cell_type": "code",
   "execution_count": null,
   "metadata": {
    "collapsed": true,
    "deletable": true,
    "editable": true
   },
   "outputs": [],
   "source": [
    "fun_cos = udf(lambda x:cos_sim_sp(x,course_6), FloatType())\n",
    "ccourse_6_res=list(myData.withColumn(\"similarity\", fun_cos(myData['normFeatures']))\\\n",
    "                   .select('id','similarity')\\\n",
    "                   .orderBy('similarity', ascending=False)\\\n",
    "                   .limit(11)\\\n",
    "                   .toPandas()['id'][1:10])"
   ]
  },
  {
   "cell_type": "code",
   "execution_count": null,
   "metadata": {
    "collapsed": false,
    "deletable": true,
    "editable": true
   },
   "outputs": [],
   "source": [
    "myData.where(col('id').isin(ids)).select('normFeatures','id').show()"
   ]
  },
  {
   "cell_type": "code",
   "execution_count": null,
   "metadata": {
    "collapsed": false,
    "deletable": true,
    "editable": true
   },
   "outputs": [],
   "source": [
    "# ccourse_1_res=[x.item() for x in ccourse_1_res]\n",
    "# ccourse_2_res=[x.item() for x in ccourse_2_res]\n",
    "# ccourse_3_res=[x.item() for x in ccourse_3_res]\n",
    "# ccourse_4_res=[x.item() for x in ccourse_4_res]\n",
    "# ccourse_5_res=[x.item() for x in ccourse_5_res]\n",
    "# ccourse_6_res=[x.item() for x in ccourse_6_res]\n",
    "\n",
    "\n",
    "ccourse_1_res=[int(x) for x in ccourse_1_res]\n",
    "ccourse_2_res=[int(x) for x in ccourse_2_res]\n",
    "ccourse_3_res=[int(x) for x in ccourse_3_res]\n",
    "ccourse_4_res=[int(x) for x in ccourse_4_res]\n",
    "ccourse_5_res=[int(x) for x in ccourse_5_res]\n",
    "ccourse_6_res=[int(x) for x in ccourse_6_res]"
   ]
  },
  {
   "cell_type": "code",
   "execution_count": null,
   "metadata": {
    "collapsed": true,
    "deletable": true,
    "editable": true
   },
   "outputs": [],
   "source": [
    "result = {int(ids[0]): ccourse_1_res,\n",
    "          int(ids[1]): ccourse_2_res,\n",
    "          int(ids[2]): ccourse_3_res,\n",
    "          int(ids[3]): ccourse_4_res,\n",
    "          int(ids[4]): ccourse_5_res,\n",
    "          int(ids[5]): ccourse_6_res}\n",
    "\n",
    "with open('lab07s.json', 'w') as f:\n",
    "    json.dump(result, f)"
   ]
  },
  {
   "cell_type": "code",
   "execution_count": null,
   "metadata": {
    "collapsed": false,
    "deletable": true,
    "editable": true
   },
   "outputs": [],
   "source": [
    "sc.stop()"
   ]
  }
 ],
 "metadata": {
  "kernelspec": {
   "display_name": "Python 3",
   "language": "python",
   "name": "python3"
  },
  "language_info": {
   "codemirror_mode": {
    "name": "ipython",
    "version": 3
   },
   "file_extension": ".py",
   "mimetype": "text/x-python",
   "name": "python",
   "nbconvert_exporter": "python",
   "pygments_lexer": "ipython3",
   "version": "3.6.4"
  }
 },
 "nbformat": 4,
 "nbformat_minor": 2
}
