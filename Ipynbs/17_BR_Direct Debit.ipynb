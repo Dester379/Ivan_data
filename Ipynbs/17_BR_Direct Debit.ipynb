{
 "cells": [
  {
   "cell_type": "code",
   "execution_count": 9,
   "metadata": {
    "collapsed": true
   },
   "outputs": [],
   "source": [
    "#processing\n",
    "import pandas as pd\n",
    "import numpy as np\n",
    "import IDF\n",
    "from sklearn.preprocessing import StandardScaler\n",
    "from sklearn.preprocessing import LabelEncoder\n",
    "import matplotlib.pyplot as plt\n",
    "from pandas import ExcelWriter\n",
    "import scipy\n",
    "scaler = StandardScaler()\n",
    "label = LabelEncoder()\n",
    "import scikitplot as skplt\n",
    "#sql\n",
    "import pymysql.cursors \n",
    "#NLP\n",
    "import nltk\n",
    "import re\n",
    "import pymorphy2\n",
    "from nltk.tokenize import sent_tokenize, RegexpTokenizer\n",
    "from nltk.stem.snowball import RussianStemmer\n",
    "from nltk.util import ngrams\n",
    "from nltk.corpus import stopwords\n",
    "from nltk.tokenize import word_tokenize\n",
    "#warnings\n",
    "import warnings\n",
    "warnings.filterwarnings('ignore')\n",
    "#visualisation\n",
    "import seaborn as sns\n",
    "import matplotlib.pyplot as plt\n",
    "sns.set(style=\"white\", color_codes=True)\n",
    "%matplotlib inline\n",
    "#vectorization\n",
    "from sklearn.feature_extraction.text import CountVectorizer\n",
    "from sklearn.feature_extraction.text import TfidfTransformer\n",
    "#model \n",
    "from sklearn.grid_search import GridSearchCV\n",
    "from sklearn.cross_validation import cross_val_score\n",
    "from sklearn.cross_validation import train_test_split\n",
    "from sklearn.cross_validation import KFold\n",
    "from sklearn.metrics import roc_auc_score, roc_curve, log_loss, f1_score, confusion_matrix, precision_score, recall_score, classification_report, accuracy_score\n",
    "#classificators\n",
    "from sklearn.linear_model import LogisticRegression\n",
    "from sklearn.ensemble import RandomForestClassifier\n",
    "from sklearn.ensemble import ExtraTreesClassifier\n",
    "from sklearn.linear_model import SGDClassifier\n",
    "from sklearn.ensemble import VotingClassifier\n",
    "from sklearn.ensemble import GradientBoostingClassifier\n",
    "from catboost import CatBoostClassifier\n",
    "from sklearn.svm import SVC\n",
    "from sklearn.metrics import confusion_matrix\n",
    "from sklearn.utils import resample\n",
    "from sklearn.externals import joblib\n",
    "from datetime import datetime"
   ]
  },
  {
   "cell_type": "code",
   "execution_count": 22,
   "metadata": {},
   "outputs": [
    {
     "data": {
      "text/plain": [
       "datetime.datetime(2017, 2, 21, 13, 8, 28)"
      ]
     },
     "execution_count": 22,
     "metadata": {},
     "output_type": "execute_result"
    }
   ],
   "source": [
    "from time import strptime\n",
    "\n",
    "datetime.strptime('21feb17:13:08:28', '%d%b%y:%H:%M:%S')"
   ]
  },
  {
   "cell_type": "code",
   "execution_count": 17,
   "metadata": {},
   "outputs": [
    {
     "data": {
      "text/plain": [
       "time.struct_time(tm_year=1900, tm_mon=2, tm_mday=1, tm_hour=0, tm_min=0, tm_sec=0, tm_wday=3, tm_yday=32, tm_isdst=-1)"
      ]
     },
     "execution_count": 17,
     "metadata": {},
     "output_type": "execute_result"
    }
   ],
   "source": [
    "strptime('FEB','%b')"
   ]
  },
  {
   "cell_type": "markdown",
   "metadata": {},
   "source": [
    "## Loading and 1st processing"
   ]
  },
  {
   "cell_type": "code",
   "execution_count": 2,
   "metadata": {
    "collapsed": true
   },
   "outputs": [],
   "source": [
    "#Подключиться к базе данных\n",
    "def con():\n",
    "    conn = pymysql.connect(host='192.168.64.1', port=3306, user='i.serov', password='X3*1Uy(F', db='mysql')\n",
    "    return conn"
   ]
  },
  {
   "cell_type": "code",
   "execution_count": 3,
   "metadata": {},
   "outputs": [
    {
     "name": "stdout",
     "output_type": "stream",
     "text": [
      "Wall time: 13 s\n"
     ]
    }
   ],
   "source": [
    "%%time\n",
    "df = pd.read_sql('''\n",
    "SELECT\n",
    "    p.credit_id as crd_id,\n",
    "    date_attempt,\n",
    "    amount,\n",
    "    success,\n",
    "    iba.*,\n",
    "    cc1.*,\n",
    "    w.education,w.attested_income,w.employment, w.monthly_expenses,w.loan_reason,\n",
    "    pd.marital_status,pd.sex,pd.place_of_birth,pd.net_worth,\n",
    "    i.device_new,i.device_type, i.realipaddress_loc_city, \n",
    "    i.ruleset_score,\n",
    "    day(p.date_attempt)                            AS day_of_month_of_spisanie,\n",
    "    28 - day(p.date_attempt) as diff_good_day_attempt_day,\n",
    "    dayofweek(p.date_attempt)                      AS day_of_week_of_spisanie,\n",
    "    month(p.date_attempt)                      AS month_of_spisanie,\n",
    "    datediff(day(w.next_salary_date), day(c.date_requested)) AS days_bef_sal,\n",
    "    datediff(day(w.next_salary_date), day(p.date_attempt))   AS days_bef_income,\n",
    "    datediff(pd.birthday, c.date_requested) AS age,\n",
    "    p.amount / cc1.expired_debt                    AS percent_of_debt\n",
    "FROM br_release_moneyman.direct_debit_pay_attempt p\n",
    "    LEFT JOIN br_release_moneyman.credit c\n",
    "        ON p.credit_id = c.id\n",
    "    LEFT JOIN br_release_moneyman.credit_calculations cc1\n",
    "        ON p.credit_id = cc1.credit_id AND date(p.date_attempt) = (cc1.calculation_date + INTERVAL 1 DAY)\n",
    "    LEFT JOIN br_release_moneyman.borrower b\n",
    "        ON c.borrower_id = b.id\n",
    "    LEFT JOIN br_release_moneyman.work w\n",
    "        ON b.work_id = w.id\n",
    "    LEFT JOIN br_release_moneyman.personal_data pd\n",
    "        ON b.personal_data_id = pd.id\n",
    "    LEFT JOIN br_release_moneyman.iovation i\n",
    "        ON i.credit_id = c.id\n",
    "    LEFT JOIN br_release_moneyman.credit_risk_filter crf\n",
    "        ON c.id = crf.credit_id\n",
    "    LEFT JOIN br_release_moneyman.instantor_bank_account iba\n",
    "        ON iba.instantor_user_details_id = crf.instantor_user_details_id\n",
    "WHERE success is not NULL and c.date_requested>'2017-01-01' and date_attempt<'2018-03-20' and iba.instantor_user_details_id is not null\n",
    "ORDER BY p.credit_id DESC\n",
    "''', con=con())"
   ]
  },
  {
   "cell_type": "code",
   "execution_count": 44,
   "metadata": {},
   "outputs": [
    {
     "data": {
      "text/plain": [
       "(19965, 259)"
      ]
     },
     "execution_count": 44,
     "metadata": {},
     "output_type": "execute_result"
    }
   ],
   "source": [
    "df.shape"
   ]
  },
  {
   "cell_type": "code",
   "execution_count": 32,
   "metadata": {},
   "outputs": [
    {
     "data": {
      "text/plain": [
       "0    18455\n",
       "1     1621\n",
       "Name: success, dtype: int64"
      ]
     },
     "execution_count": 32,
     "metadata": {},
     "output_type": "execute_result"
    }
   ],
   "source": [
    "df.success.value_counts()"
   ]
  },
  {
   "cell_type": "code",
   "execution_count": 69,
   "metadata": {
    "collapsed": true
   },
   "outputs": [],
   "source": [
    "df = df_1.copy()"
   ]
  },
  {
   "cell_type": "code",
   "execution_count": 70,
   "metadata": {
    "collapsed": true
   },
   "outputs": [],
   "source": [
    "to_drop = ['id','iban','holder_name','status', 'calculation_date',\n",
    "       'instantor_user_details_id', 'prev_credit_calculation_id', 'currency', 'number']\n",
    "df = df.drop(to_drop, axis=1)\n",
    "df.amount = df.amount.map(lambda x: float(x))\n",
    "df = df[(df.amount<1000) & (df.amount>10)]"
   ]
  },
  {
   "cell_type": "code",
   "execution_count": 71,
   "metadata": {
    "collapsed": true
   },
   "outputs": [],
   "source": [
    "df_tc = df.copy()\n",
    "#df = df_tc.copy()"
   ]
  },
  {
   "cell_type": "code",
   "execution_count": 72,
   "metadata": {
    "collapsed": true
   },
   "outputs": [],
   "source": [
    "cat_vars=['bank_name','education','employment','loan_reason', 'marital_status','place_of_birth',\n",
    "          'net_worth','realipaddress_loc_city', 'device_type']\n",
    "for i in cat_vars:\n",
    "    df[i]=label.fit_transform(df[i].astype(str))\n",
    "    joblib.dump(label, 'BR_DD_labl_%s.pkl'% i);"
   ]
  },
  {
   "cell_type": "code",
   "execution_count": 73,
   "metadata": {
    "collapsed": true
   },
   "outputs": [],
   "source": [
    "'''cat_val = []\n",
    "for i in cat_val:\n",
    "    X[i]=X[i].map(lambda x: str(x))\n",
    "    X[i]=label.fit_transform(X[i])\n",
    "    joblib.dump(label, 'BR_DD_labl_%s.pkl'% i);''';"
   ]
  },
  {
   "cell_type": "code",
   "execution_count": 74,
   "metadata": {
    "collapsed": true
   },
   "outputs": [],
   "source": [
    "df = df.drop('salarie_dates', axis=1)"
   ]
  },
  {
   "cell_type": "code",
   "execution_count": 32,
   "metadata": {},
   "outputs": [
    {
     "data": {
      "text/plain": [
       "0    17022\n",
       "1     1615\n",
       "Name: success, dtype: int64"
      ]
     },
     "execution_count": 32,
     "metadata": {},
     "output_type": "execute_result"
    }
   ],
   "source": [
    "df.success.value_counts()"
   ]
  },
  {
   "cell_type": "code",
   "execution_count": 75,
   "metadata": {
    "collapsed": true
   },
   "outputs": [],
   "source": [
    "df = df.fillna(-1)\n",
    "df2 = df.copy()\n",
    "#df = df2.copy()"
   ]
  },
  {
   "cell_type": "code",
   "execution_count": 539,
   "metadata": {
    "collapsed": true
   },
   "outputs": [],
   "source": [
    "df_train = df[df.date_attempt<(datetime.strptime('2018-02-01', '%Y-%m-%d'))]\n",
    "df_test = df[df.date_attempt>(datetime.strptime('2018-02-01', '%Y-%m-%d'))]"
   ]
  },
  {
   "cell_type": "code",
   "execution_count": 540,
   "metadata": {},
   "outputs": [
    {
     "data": {
      "text/plain": [
       "0    7339\n",
       "1     805\n",
       "Name: success, dtype: int64"
      ]
     },
     "execution_count": 540,
     "metadata": {},
     "output_type": "execute_result"
    }
   ],
   "source": [
    "df_test.success.value_counts()"
   ]
  },
  {
   "cell_type": "code",
   "execution_count": 76,
   "metadata": {
    "collapsed": true
   },
   "outputs": [],
   "source": [
    "def downsample(df):\n",
    "    df_suc = df[df.success==1]\n",
    "    df_fail = df[df.success==0]\n",
    "    df_fail_ds = resample(df_fail,replace=False,n_samples=2000,random_state=123)\n",
    "    df_downsampled = pd.concat([df_fail_ds, df_suc])\n",
    "    df_downsampled = df_downsampled.sample(frac=1).reset_index(drop=True)\n",
    "    return df_downsampled\n",
    "#df = downsample(df_train)\n",
    "#df = df_train.copy()"
   ]
  },
  {
   "cell_type": "code",
   "execution_count": 77,
   "metadata": {
    "collapsed": true
   },
   "outputs": [],
   "source": [
    "df = downsample(df)"
   ]
  },
  {
   "cell_type": "code",
   "execution_count": 78,
   "metadata": {
    "collapsed": true
   },
   "outputs": [],
   "source": [
    "y = df.success\n",
    "X = df.drop(['success','credit_id', 'crd_id', 'date_attempt'], axis = 1)"
   ]
  },
  {
   "cell_type": "code",
   "execution_count": 542,
   "metadata": {
    "collapsed": true
   },
   "outputs": [],
   "source": [
    "y_train = df.success\n",
    "X_train = df.drop(['success','credit_id', 'crd_id', 'date_attempt'], axis = 1)\n",
    "y_test = df_test.success\n",
    "X_test = df_test.drop(['success','credit_id', 'crd_id', 'date_attempt'], axis = 1)"
   ]
  },
  {
   "cell_type": "code",
   "execution_count": 445,
   "metadata": {
    "collapsed": true
   },
   "outputs": [],
   "source": [
    "'''y_train = df.success\n",
    "X_train = df.drop(['success','credit_id_x', 'credit_id_y', 'date_attempt'], axis = 1)\n",
    "y_test = df_test.success\n",
    "X_test = df_test.drop(['success','credit_id_x', 'credit_id_y', 'date_attempt'], axis = 1)''';"
   ]
  },
  {
   "cell_type": "code",
   "execution_count": 446,
   "metadata": {
    "collapsed": true
   },
   "outputs": [],
   "source": [
    "'''clf = GradientBoostingClassifier(random_state=0)\n",
    "tuned_parameters = [{'learning_rate': np.arange(0.2, 1, 0.2)},\n",
    "                    {'n_estimators': np.arange(60, 200, 20)},\n",
    "                    {'max_depth': np.arange(2, 6, 1)}]\n",
    "gs = GridSearchCV(clf, tuned_parameters, cv=5, scoring='recall').fit(X_train, y_train)''';"
   ]
  },
  {
   "cell_type": "code",
   "execution_count": null,
   "metadata": {
    "collapsed": true,
    "scrolled": true
   },
   "outputs": [],
   "source": [
    "clf = CatBoostClassifier().fit(X_train, y_train)\n",
    "#clf = RandomForestClassifier(class_weight={0:.01, 1:.99}).fit(X_train, y_train)\n",
    "#clf = GradientBoostingClassifier().fit(X_train, y_train)"
   ]
  },
  {
   "cell_type": "code",
   "execution_count": 42,
   "metadata": {},
   "outputs": [
    {
     "data": {
      "text/plain": [
       "Index(['cnt_pos_SAVINGS', 'cnt_pos_Student scholarship', 'cnt_pos_TRANSFER',\n",
       "       'cnt_pos_UNEMPLOYMENT SUBSIDARY', 'cnt_pos_WITHDRAWAL',\n",
       "       'cnt_neg_BANK CHARGES', 'cnt_neg_BANK INTERESTS', 'cnt_neg_BANK TAXES',\n",
       "       'cnt_neg_CHARGEBACK', 'cnt_neg_CHECK RETURN', 'cnt_neg_Credit',\n",
       "       'cnt_neg_DEPOSIT', 'cnt_neg_DIRECT DEBIT', 'cnt_neg_INSURANCE',\n",
       "       'cnt_neg_INTERESTS', 'cnt_neg_INVESTMENT', 'cnt_neg_IOF',\n",
       "       'cnt_neg_International purchase', 'cnt_neg_LOAN AGIPLAN',\n",
       "       'cnt_neg_LOAN ALFA', 'cnt_neg_LOAN BANK', 'cnt_neg_LOAN BV',\n",
       "       'cnt_neg_LOAN CETELEM', 'cnt_neg_LOAN CREFISA', 'cnt_neg_LOAN GERU',\n",
       "       'cnt_neg_LOAN JBCRED', 'cnt_neg_LOAN OMNI', 'cnt_neg_LOAN SIMPLIC',\n",
       "       'cnt_neg_LOAN SOROCRED', 'cnt_neg_MOBILE BILL',\n",
       "       'cnt_neg_MOBILE CREDITS', 'cnt_neg_Other', 'cnt_neg_RETIRENMENT',\n",
       "       'cnt_neg_SALARY', 'cnt_neg_SAVINGS', 'cnt_neg_TRANSFER',\n",
       "       'cnt_neg_TRANSPORT', 'cnt_neg_WITHDRAWAL', 'day_of_max_trans',\n",
       "       'max_sum_to_amount', 'is_date_eq_sal_date', 'dif_inst_sal',\n",
       "       'is_date_salary'],\n",
       "      dtype='object')"
      ]
     },
     "execution_count": 42,
     "metadata": {},
     "output_type": "execute_result"
    }
   ],
   "source": [
    "X.columns[200:300]"
   ]
  },
  {
   "cell_type": "code",
   "execution_count": 79,
   "metadata": {
    "scrolled": true
   },
   "outputs": [
    {
     "name": "stdout",
     "output_type": "stream",
     "text": [
      "0: learn: 0.6859646\ttotal: 46.9ms\tremaining: 46.9s\n",
      "1: learn: 0.6798911\ttotal: 91.5ms\tremaining: 45.7s\n",
      "2: learn: 0.6734417\ttotal: 137ms\tremaining: 45.5s\n",
      "3: learn: 0.6671332\ttotal: 182ms\tremaining: 45.4s\n",
      "4: learn: 0.6615091\ttotal: 245ms\tremaining: 48.7s\n",
      "5: learn: 0.6557675\ttotal: 296ms\tremaining: 49s\n",
      "6: learn: 0.65018\ttotal: 369ms\tremaining: 52.3s\n",
      "7: learn: 0.6451006\ttotal: 440ms\tremaining: 54.6s\n",
      "8: learn: 0.6400663\ttotal: 488ms\tremaining: 53.7s\n",
      "9: learn: 0.6358729\ttotal: 533ms\tremaining: 52.8s\n",
      "10: learn: 0.6311228\ttotal: 581ms\tremaining: 52.3s\n",
      "11: learn: 0.6262599\ttotal: 635ms\tremaining: 52.3s\n",
      "12: learn: 0.6224214\ttotal: 681ms\tremaining: 51.7s\n",
      "13: learn: 0.6188636\ttotal: 763ms\tremaining: 53.7s\n",
      "14: learn: 0.6147002\ttotal: 806ms\tremaining: 53s\n",
      "15: learn: 0.6117888\ttotal: 854ms\tremaining: 52.5s\n",
      "16: learn: 0.6091129\ttotal: 899ms\tremaining: 52s\n",
      "17: learn: 0.6059843\ttotal: 942ms\tremaining: 51.4s\n",
      "18: learn: 0.60242\ttotal: 988ms\tremaining: 51s\n",
      "19: learn: 0.5992796\ttotal: 1.03s\tremaining: 50.6s\n",
      "20: learn: 0.5965377\ttotal: 1.08s\tremaining: 50.2s\n",
      "21: learn: 0.5944827\ttotal: 1.13s\tremaining: 50.2s\n",
      "22: learn: 0.5915336\ttotal: 1.18s\tremaining: 50.1s\n",
      "23: learn: 0.5890335\ttotal: 1.23s\tremaining: 50s\n",
      "24: learn: 0.5859548\ttotal: 1.27s\tremaining: 49.7s\n",
      "25: learn: 0.5830851\ttotal: 1.35s\tremaining: 50.7s\n",
      "26: learn: 0.5803153\ttotal: 1.4s\tremaining: 50.4s\n",
      "27: learn: 0.5777295\ttotal: 1.45s\tremaining: 50.3s\n",
      "28: learn: 0.5761863\ttotal: 1.49s\tremaining: 50s\n",
      "29: learn: 0.5744108\ttotal: 1.54s\tremaining: 49.7s\n",
      "30: learn: 0.5721405\ttotal: 1.58s\tremaining: 49.6s\n",
      "31: learn: 0.5700836\ttotal: 1.63s\tremaining: 49.3s\n",
      "32: learn: 0.5675675\ttotal: 1.69s\tremaining: 49.4s\n",
      "33: learn: 0.5655917\ttotal: 1.73s\tremaining: 49.2s\n",
      "34: learn: 0.5634565\ttotal: 1.78s\tremaining: 49.1s\n",
      "35: learn: 0.5618082\ttotal: 1.83s\tremaining: 48.9s\n",
      "36: learn: 0.559856\ttotal: 1.87s\tremaining: 48.7s\n",
      "37: learn: 0.5581911\ttotal: 1.92s\tremaining: 48.6s\n",
      "38: learn: 0.5568446\ttotal: 1.97s\tremaining: 48.4s\n",
      "39: learn: 0.5549341\ttotal: 2.02s\tremaining: 48.5s\n",
      "40: learn: 0.5527656\ttotal: 2.07s\tremaining: 48.4s\n",
      "41: learn: 0.5513726\ttotal: 2.12s\tremaining: 48.3s\n",
      "42: learn: 0.5495788\ttotal: 2.16s\tremaining: 48.2s\n",
      "43: learn: 0.5485014\ttotal: 2.21s\tremaining: 48s\n",
      "44: learn: 0.5469317\ttotal: 2.26s\tremaining: 47.9s\n",
      "45: learn: 0.5451083\ttotal: 2.3s\tremaining: 47.8s\n",
      "46: learn: 0.5442718\ttotal: 2.36s\tremaining: 47.9s\n",
      "47: learn: 0.5431323\ttotal: 2.41s\tremaining: 47.9s\n",
      "48: learn: 0.5416628\ttotal: 2.46s\tremaining: 47.7s\n",
      "49: learn: 0.5401039\ttotal: 2.51s\tremaining: 47.7s\n",
      "50: learn: 0.53894\ttotal: 2.56s\tremaining: 47.6s\n",
      "51: learn: 0.5375533\ttotal: 2.6s\tremaining: 47.5s\n",
      "52: learn: 0.5365341\ttotal: 2.65s\tremaining: 47.4s\n",
      "53: learn: 0.5350891\ttotal: 2.7s\tremaining: 47.3s\n",
      "54: learn: 0.533799\ttotal: 2.75s\tremaining: 47.2s\n",
      "55: learn: 0.5323603\ttotal: 2.8s\tremaining: 47.1s\n",
      "56: learn: 0.5312712\ttotal: 2.84s\tremaining: 47s\n",
      "57: learn: 0.5299478\ttotal: 2.89s\tremaining: 46.9s\n",
      "58: learn: 0.5288175\ttotal: 2.94s\tremaining: 46.9s\n",
      "59: learn: 0.5275598\ttotal: 2.98s\tremaining: 46.7s\n",
      "60: learn: 0.5266778\ttotal: 3.04s\tremaining: 46.7s\n",
      "61: learn: 0.5254169\ttotal: 3.08s\tremaining: 46.6s\n",
      "62: learn: 0.524636\ttotal: 3.13s\tremaining: 46.5s\n",
      "63: learn: 0.5234681\ttotal: 3.18s\tremaining: 46.5s\n",
      "64: learn: 0.5226584\ttotal: 3.22s\tremaining: 46.4s\n",
      "65: learn: 0.5219613\ttotal: 3.27s\tremaining: 46.2s\n",
      "66: learn: 0.5211188\ttotal: 3.32s\tremaining: 46.3s\n",
      "67: learn: 0.5199871\ttotal: 3.37s\tremaining: 46.2s\n",
      "68: learn: 0.5188811\ttotal: 3.43s\tremaining: 46.3s\n",
      "69: learn: 0.5179166\ttotal: 3.48s\tremaining: 46.2s\n",
      "70: learn: 0.5173062\ttotal: 3.52s\tremaining: 46.1s\n",
      "71: learn: 0.5158356\ttotal: 3.57s\tremaining: 46s\n",
      "72: learn: 0.514673\ttotal: 3.62s\tremaining: 45.9s\n",
      "73: learn: 0.513874\ttotal: 3.66s\tremaining: 45.8s\n",
      "74: learn: 0.5126346\ttotal: 3.71s\tremaining: 45.7s\n",
      "75: learn: 0.5118702\ttotal: 3.77s\tremaining: 45.8s\n",
      "76: learn: 0.5112773\ttotal: 3.81s\tremaining: 45.7s\n",
      "77: learn: 0.5103376\ttotal: 3.86s\tremaining: 45.6s\n",
      "78: learn: 0.5097368\ttotal: 3.91s\tremaining: 45.5s\n",
      "79: learn: 0.5089626\ttotal: 3.95s\tremaining: 45.4s\n",
      "80: learn: 0.5085585\ttotal: 4.01s\tremaining: 45.5s\n",
      "81: learn: 0.5076525\ttotal: 4.05s\tremaining: 45.4s\n",
      "82: learn: 0.5068426\ttotal: 4.1s\tremaining: 45.3s\n",
      "83: learn: 0.5062481\ttotal: 4.15s\tremaining: 45.2s\n",
      "84: learn: 0.5054552\ttotal: 4.19s\tremaining: 45.1s\n",
      "85: learn: 0.5039748\ttotal: 4.25s\tremaining: 45.1s\n",
      "86: learn: 0.5034164\ttotal: 4.29s\tremaining: 45.1s\n",
      "87: learn: 0.5029631\ttotal: 4.35s\tremaining: 45.1s\n",
      "88: learn: 0.5024056\ttotal: 4.4s\tremaining: 45.1s\n",
      "89: learn: 0.5018605\ttotal: 4.45s\tremaining: 45s\n",
      "90: learn: 0.5011385\ttotal: 4.49s\tremaining: 44.9s\n",
      "91: learn: 0.5007885\ttotal: 4.54s\tremaining: 44.8s\n",
      "92: learn: 0.500312\ttotal: 4.58s\tremaining: 44.7s\n",
      "93: learn: 0.4995053\ttotal: 4.63s\tremaining: 44.6s\n",
      "94: learn: 0.4987807\ttotal: 4.68s\tremaining: 44.6s\n",
      "95: learn: 0.4981853\ttotal: 4.73s\tremaining: 44.5s\n",
      "96: learn: 0.4973737\ttotal: 4.77s\tremaining: 44.4s\n",
      "97: learn: 0.4968125\ttotal: 4.82s\tremaining: 44.4s\n",
      "98: learn: 0.4959416\ttotal: 4.87s\tremaining: 44.3s\n",
      "99: learn: 0.4955449\ttotal: 4.91s\tremaining: 44.2s\n",
      "100: learn: 0.4948659\ttotal: 4.96s\tremaining: 44.1s\n",
      "101: learn: 0.4944576\ttotal: 5.01s\tremaining: 44.1s\n",
      "102: learn: 0.4936795\ttotal: 5.06s\tremaining: 44.1s\n",
      "103: learn: 0.4932194\ttotal: 5.1s\tremaining: 44s\n",
      "104: learn: 0.4927712\ttotal: 5.15s\tremaining: 43.9s\n",
      "105: learn: 0.4920884\ttotal: 5.22s\tremaining: 44s\n",
      "106: learn: 0.4911316\ttotal: 5.27s\tremaining: 43.9s\n",
      "107: learn: 0.4906868\ttotal: 5.32s\tremaining: 43.9s\n",
      "108: learn: 0.4900061\ttotal: 5.37s\tremaining: 43.9s\n",
      "109: learn: 0.4896767\ttotal: 5.42s\tremaining: 43.8s\n",
      "110: learn: 0.4892086\ttotal: 5.47s\tremaining: 43.8s\n",
      "111: learn: 0.4885723\ttotal: 5.51s\tremaining: 43.7s\n",
      "112: learn: 0.4880802\ttotal: 5.56s\tremaining: 43.6s\n",
      "113: learn: 0.4875477\ttotal: 5.63s\tremaining: 43.8s\n",
      "114: learn: 0.486933\ttotal: 5.68s\tremaining: 43.7s\n",
      "115: learn: 0.4863429\ttotal: 5.72s\tremaining: 43.6s\n",
      "116: learn: 0.4857747\ttotal: 5.77s\tremaining: 43.6s\n",
      "117: learn: 0.4853636\ttotal: 5.82s\tremaining: 43.5s\n",
      "118: learn: 0.4848302\ttotal: 5.86s\tremaining: 43.4s\n",
      "119: learn: 0.4843845\ttotal: 5.92s\tremaining: 43.4s\n",
      "120: learn: 0.4839227\ttotal: 5.96s\tremaining: 43.3s\n",
      "121: learn: 0.4833734\ttotal: 6.01s\tremaining: 43.3s\n",
      "122: learn: 0.4830006\ttotal: 6.06s\tremaining: 43.2s\n",
      "123: learn: 0.4824909\ttotal: 6.12s\tremaining: 43.3s\n",
      "124: learn: 0.4820034\ttotal: 6.17s\tremaining: 43.2s\n",
      "125: learn: 0.4813152\ttotal: 6.21s\tremaining: 43.1s\n",
      "126: learn: 0.4807445\ttotal: 6.26s\tremaining: 43.1s\n",
      "127: learn: 0.4803741\ttotal: 6.31s\tremaining: 43s\n",
      "128: learn: 0.4798106\ttotal: 6.36s\tremaining: 42.9s\n",
      "129: learn: 0.4793156\ttotal: 6.41s\tremaining: 42.9s\n",
      "130: learn: 0.4790787\ttotal: 6.46s\tremaining: 42.8s\n",
      "131: learn: 0.4785246\ttotal: 6.5s\tremaining: 42.8s\n",
      "132: learn: 0.4782133\ttotal: 6.55s\tremaining: 42.7s\n",
      "133: learn: 0.4774174\ttotal: 6.6s\tremaining: 42.6s\n",
      "134: learn: 0.4769918\ttotal: 6.65s\tremaining: 42.6s\n",
      "135: learn: 0.4767014\ttotal: 6.69s\tremaining: 42.5s\n",
      "136: learn: 0.476049\ttotal: 6.74s\tremaining: 42.5s\n",
      "137: learn: 0.4752982\ttotal: 6.79s\tremaining: 42.4s\n",
      "138: learn: 0.4748415\ttotal: 6.84s\tremaining: 42.4s\n",
      "139: learn: 0.4742563\ttotal: 6.89s\tremaining: 42.3s\n",
      "140: learn: 0.4739389\ttotal: 6.94s\tremaining: 42.3s\n",
      "141: learn: 0.4734431\ttotal: 6.99s\tremaining: 42.2s\n",
      "142: learn: 0.4729307\ttotal: 7.03s\tremaining: 42.1s\n",
      "143: learn: 0.4723733\ttotal: 7.08s\tremaining: 42.1s\n",
      "144: learn: 0.4717889\ttotal: 7.13s\tremaining: 42s\n",
      "145: learn: 0.4711526\ttotal: 7.17s\tremaining: 42s\n",
      "146: learn: 0.4703847\ttotal: 7.22s\tremaining: 41.9s\n",
      "147: learn: 0.4698064\ttotal: 7.26s\tremaining: 41.8s\n",
      "148: learn: 0.4694944\ttotal: 7.31s\tremaining: 41.8s\n",
      "149: learn: 0.4691659\ttotal: 7.36s\tremaining: 41.7s\n",
      "150: learn: 0.4685976\ttotal: 7.41s\tremaining: 41.7s\n",
      "151: learn: 0.4682095\ttotal: 7.46s\tremaining: 41.6s\n",
      "152: learn: 0.4675793\ttotal: 7.51s\tremaining: 41.6s\n",
      "153: learn: 0.4667923\ttotal: 7.55s\tremaining: 41.5s\n",
      "154: learn: 0.4660369\ttotal: 7.6s\tremaining: 41.4s\n",
      "155: learn: 0.4655948\ttotal: 7.65s\tremaining: 41.4s\n",
      "156: learn: 0.4651001\ttotal: 7.7s\tremaining: 41.3s\n",
      "157: learn: 0.4644839\ttotal: 7.74s\tremaining: 41.2s\n",
      "158: learn: 0.4639298\ttotal: 7.79s\tremaining: 41.2s\n",
      "159: learn: 0.4635924\ttotal: 7.83s\tremaining: 41.1s\n",
      "160: learn: 0.4631752\ttotal: 7.88s\tremaining: 41.1s\n",
      "161: learn: 0.4624314\ttotal: 7.93s\tremaining: 41s\n",
      "162: learn: 0.4620753\ttotal: 7.98s\tremaining: 41s\n"
     ]
    },
    {
     "name": "stdout",
     "output_type": "stream",
     "text": [
      "163: learn: 0.4618829\ttotal: 8.02s\tremaining: 40.9s\n",
      "164: learn: 0.4610577\ttotal: 8.07s\tremaining: 40.9s\n",
      "165: learn: 0.4607318\ttotal: 8.12s\tremaining: 40.8s\n",
      "166: learn: 0.4601603\ttotal: 8.17s\tremaining: 40.7s\n",
      "167: learn: 0.4595171\ttotal: 8.21s\tremaining: 40.7s\n",
      "168: learn: 0.4589264\ttotal: 8.26s\tremaining: 40.6s\n",
      "169: learn: 0.4584424\ttotal: 8.31s\tremaining: 40.6s\n",
      "170: learn: 0.4578069\ttotal: 8.35s\tremaining: 40.5s\n",
      "171: learn: 0.4575258\ttotal: 8.4s\tremaining: 40.5s\n",
      "172: learn: 0.4569048\ttotal: 8.45s\tremaining: 40.4s\n",
      "173: learn: 0.456442\ttotal: 8.5s\tremaining: 40.4s\n",
      "174: learn: 0.4559903\ttotal: 8.55s\tremaining: 40.3s\n",
      "175: learn: 0.455254\ttotal: 8.6s\tremaining: 40.3s\n",
      "176: learn: 0.4547679\ttotal: 8.65s\tremaining: 40.2s\n",
      "177: learn: 0.4543341\ttotal: 8.69s\tremaining: 40.1s\n",
      "178: learn: 0.4540999\ttotal: 8.74s\tremaining: 40.1s\n",
      "179: learn: 0.453413\ttotal: 8.79s\tremaining: 40s\n",
      "180: learn: 0.4526526\ttotal: 8.85s\tremaining: 40s\n",
      "181: learn: 0.4522147\ttotal: 8.89s\tremaining: 40s\n",
      "182: learn: 0.4515881\ttotal: 8.94s\tremaining: 39.9s\n",
      "183: learn: 0.4513872\ttotal: 8.98s\tremaining: 39.8s\n",
      "184: learn: 0.4508295\ttotal: 9.03s\tremaining: 39.8s\n",
      "185: learn: 0.450433\ttotal: 9.08s\tremaining: 39.7s\n",
      "186: learn: 0.4500123\ttotal: 9.13s\tremaining: 39.7s\n",
      "187: learn: 0.4497348\ttotal: 9.17s\tremaining: 39.6s\n",
      "188: learn: 0.4494211\ttotal: 9.22s\tremaining: 39.6s\n",
      "189: learn: 0.448986\ttotal: 9.27s\tremaining: 39.5s\n",
      "190: learn: 0.4485089\ttotal: 9.32s\tremaining: 39.5s\n",
      "191: learn: 0.4481995\ttotal: 9.37s\tremaining: 39.4s\n",
      "192: learn: 0.4476872\ttotal: 9.41s\tremaining: 39.4s\n",
      "193: learn: 0.4470104\ttotal: 9.46s\tremaining: 39.3s\n",
      "194: learn: 0.4466771\ttotal: 9.51s\tremaining: 39.3s\n",
      "195: learn: 0.4463749\ttotal: 9.56s\tremaining: 39.2s\n",
      "196: learn: 0.4458774\ttotal: 9.61s\tremaining: 39.2s\n",
      "197: learn: 0.445541\ttotal: 9.66s\tremaining: 39.1s\n",
      "198: learn: 0.4450703\ttotal: 9.71s\tremaining: 39.1s\n",
      "199: learn: 0.4442014\ttotal: 9.76s\tremaining: 39s\n",
      "200: learn: 0.4439212\ttotal: 9.81s\tremaining: 39s\n",
      "201: learn: 0.4434536\ttotal: 9.85s\tremaining: 38.9s\n",
      "202: learn: 0.4431902\ttotal: 9.9s\tremaining: 38.9s\n",
      "203: learn: 0.4427039\ttotal: 9.94s\tremaining: 38.8s\n",
      "204: learn: 0.4422663\ttotal: 9.99s\tremaining: 38.8s\n",
      "205: learn: 0.4416678\ttotal: 10s\tremaining: 38.7s\n",
      "206: learn: 0.441083\ttotal: 10.1s\tremaining: 38.7s\n",
      "207: learn: 0.4405661\ttotal: 10.1s\tremaining: 38.6s\n",
      "208: learn: 0.4400515\ttotal: 10.2s\tremaining: 38.6s\n",
      "209: learn: 0.4397009\ttotal: 10.2s\tremaining: 38.5s\n",
      "210: learn: 0.4392646\ttotal: 10.3s\tremaining: 38.5s\n",
      "211: learn: 0.4387553\ttotal: 10.3s\tremaining: 38.4s\n",
      "212: learn: 0.4381476\ttotal: 10.4s\tremaining: 38.4s\n",
      "213: learn: 0.4376599\ttotal: 10.4s\tremaining: 38.3s\n",
      "214: learn: 0.4373455\ttotal: 10.5s\tremaining: 38.3s\n",
      "215: learn: 0.436893\ttotal: 10.5s\tremaining: 38.2s\n",
      "216: learn: 0.4363704\ttotal: 10.6s\tremaining: 38.2s\n",
      "217: learn: 0.4359074\ttotal: 10.6s\tremaining: 38.1s\n",
      "218: learn: 0.4353329\ttotal: 10.7s\tremaining: 38.1s\n",
      "219: learn: 0.4350058\ttotal: 10.7s\tremaining: 38s\n",
      "220: learn: 0.4347555\ttotal: 10.8s\tremaining: 38s\n",
      "221: learn: 0.4342474\ttotal: 10.8s\tremaining: 37.9s\n",
      "222: learn: 0.4338358\ttotal: 10.9s\tremaining: 37.9s\n",
      "223: learn: 0.4331452\ttotal: 10.9s\tremaining: 37.8s\n",
      "224: learn: 0.4327249\ttotal: 11s\tremaining: 37.8s\n",
      "225: learn: 0.4318725\ttotal: 11s\tremaining: 37.7s\n",
      "226: learn: 0.4312692\ttotal: 11.1s\tremaining: 37.6s\n",
      "227: learn: 0.4309994\ttotal: 11.1s\tremaining: 37.6s\n",
      "228: learn: 0.4306514\ttotal: 11.1s\tremaining: 37.5s\n",
      "229: learn: 0.4303584\ttotal: 11.2s\tremaining: 37.5s\n",
      "230: learn: 0.4298156\ttotal: 11.2s\tremaining: 37.4s\n",
      "231: learn: 0.4292725\ttotal: 11.3s\tremaining: 37.3s\n",
      "232: learn: 0.4284281\ttotal: 11.3s\tremaining: 37.3s\n",
      "233: learn: 0.4280298\ttotal: 11.4s\tremaining: 37.3s\n",
      "234: learn: 0.427638\ttotal: 11.4s\tremaining: 37.2s\n",
      "235: learn: 0.4272534\ttotal: 11.5s\tremaining: 37.2s\n",
      "236: learn: 0.4270322\ttotal: 11.5s\tremaining: 37.1s\n",
      "237: learn: 0.4268169\ttotal: 11.6s\tremaining: 37.1s\n",
      "238: learn: 0.4262826\ttotal: 11.6s\tremaining: 37s\n",
      "239: learn: 0.4256765\ttotal: 11.7s\tremaining: 37s\n",
      "240: learn: 0.4252477\ttotal: 11.7s\tremaining: 36.9s\n",
      "241: learn: 0.4249551\ttotal: 11.8s\tremaining: 36.9s\n",
      "242: learn: 0.4246315\ttotal: 11.8s\tremaining: 36.8s\n",
      "243: learn: 0.4244384\ttotal: 11.9s\tremaining: 36.8s\n",
      "244: learn: 0.4239505\ttotal: 11.9s\tremaining: 36.7s\n",
      "245: learn: 0.4234955\ttotal: 12s\tremaining: 36.7s\n",
      "246: learn: 0.4231341\ttotal: 12s\tremaining: 36.6s\n",
      "247: learn: 0.422562\ttotal: 12.1s\tremaining: 36.6s\n",
      "248: learn: 0.4219197\ttotal: 12.1s\tremaining: 36.5s\n",
      "249: learn: 0.421509\ttotal: 12.2s\tremaining: 36.5s\n",
      "250: learn: 0.4212999\ttotal: 12.2s\tremaining: 36.4s\n",
      "251: learn: 0.420815\ttotal: 12.3s\tremaining: 36.4s\n",
      "252: learn: 0.4203378\ttotal: 12.3s\tremaining: 36.3s\n",
      "253: learn: 0.4198697\ttotal: 12.4s\tremaining: 36.3s\n",
      "254: learn: 0.4195281\ttotal: 12.4s\tremaining: 36.3s\n",
      "255: learn: 0.4189005\ttotal: 12.5s\tremaining: 36.2s\n",
      "256: learn: 0.4185053\ttotal: 12.5s\tremaining: 36.1s\n",
      "257: learn: 0.4177929\ttotal: 12.6s\tremaining: 36.1s\n",
      "258: learn: 0.4173294\ttotal: 12.6s\tremaining: 36s\n",
      "259: learn: 0.4168409\ttotal: 12.6s\tremaining: 36s\n",
      "260: learn: 0.4162459\ttotal: 12.7s\tremaining: 35.9s\n",
      "261: learn: 0.4159931\ttotal: 12.7s\tremaining: 35.9s\n",
      "262: learn: 0.4157221\ttotal: 12.8s\tremaining: 35.8s\n",
      "263: learn: 0.4150985\ttotal: 12.8s\tremaining: 35.8s\n",
      "264: learn: 0.4148698\ttotal: 12.9s\tremaining: 35.7s\n",
      "265: learn: 0.4144834\ttotal: 12.9s\tremaining: 35.7s\n",
      "266: learn: 0.4139535\ttotal: 13s\tremaining: 35.6s\n",
      "267: learn: 0.413402\ttotal: 13s\tremaining: 35.6s\n",
      "268: learn: 0.412781\ttotal: 13.1s\tremaining: 35.5s\n",
      "269: learn: 0.4124125\ttotal: 13.1s\tremaining: 35.5s\n",
      "270: learn: 0.4119691\ttotal: 13.2s\tremaining: 35.4s\n",
      "271: learn: 0.4115315\ttotal: 13.2s\tremaining: 35.4s\n",
      "272: learn: 0.4109944\ttotal: 13.3s\tremaining: 35.3s\n",
      "273: learn: 0.4106282\ttotal: 13.3s\tremaining: 35.3s\n",
      "274: learn: 0.4100219\ttotal: 13.4s\tremaining: 35.3s\n",
      "275: learn: 0.4094728\ttotal: 13.4s\tremaining: 35.2s\n",
      "276: learn: 0.4091153\ttotal: 13.5s\tremaining: 35.2s\n",
      "277: learn: 0.4086696\ttotal: 13.5s\tremaining: 35.1s\n",
      "278: learn: 0.408308\ttotal: 13.6s\tremaining: 35.1s\n",
      "279: learn: 0.4076661\ttotal: 13.6s\tremaining: 35s\n",
      "280: learn: 0.4075397\ttotal: 13.7s\tremaining: 35s\n",
      "281: learn: 0.4072218\ttotal: 13.7s\tremaining: 34.9s\n",
      "282: learn: 0.4068139\ttotal: 13.8s\tremaining: 34.9s\n",
      "283: learn: 0.4061168\ttotal: 13.8s\tremaining: 34.8s\n",
      "284: learn: 0.40552\ttotal: 13.9s\tremaining: 34.8s\n",
      "285: learn: 0.4050554\ttotal: 13.9s\tremaining: 34.7s\n",
      "286: learn: 0.4047152\ttotal: 14s\tremaining: 34.7s\n",
      "287: learn: 0.4042369\ttotal: 14s\tremaining: 34.6s\n",
      "288: learn: 0.4036543\ttotal: 14.1s\tremaining: 34.6s\n",
      "289: learn: 0.4032841\ttotal: 14.1s\tremaining: 34.5s\n",
      "290: learn: 0.4030907\ttotal: 14.2s\tremaining: 34.5s\n",
      "291: learn: 0.4026658\ttotal: 14.2s\tremaining: 34.4s\n",
      "292: learn: 0.4021412\ttotal: 14.2s\tremaining: 34.4s\n",
      "293: learn: 0.4016557\ttotal: 14.3s\tremaining: 34.3s\n",
      "294: learn: 0.4011802\ttotal: 14.4s\tremaining: 34.3s\n",
      "295: learn: 0.4008348\ttotal: 14.4s\tremaining: 34.2s\n",
      "296: learn: 0.4002913\ttotal: 14.5s\tremaining: 34.2s\n",
      "297: learn: 0.3998108\ttotal: 14.5s\tremaining: 34.2s\n",
      "298: learn: 0.3994748\ttotal: 14.6s\tremaining: 34.1s\n",
      "299: learn: 0.3990947\ttotal: 14.6s\tremaining: 34.1s\n",
      "300: learn: 0.3986859\ttotal: 14.7s\tremaining: 34s\n",
      "301: learn: 0.3980561\ttotal: 14.7s\tremaining: 34s\n",
      "302: learn: 0.3977016\ttotal: 14.8s\tremaining: 34s\n",
      "303: learn: 0.397216\ttotal: 14.8s\tremaining: 33.9s\n",
      "304: learn: 0.3965755\ttotal: 14.9s\tremaining: 33.9s\n",
      "305: learn: 0.3962063\ttotal: 14.9s\tremaining: 33.8s\n",
      "306: learn: 0.3956536\ttotal: 15s\tremaining: 33.8s\n",
      "307: learn: 0.3950756\ttotal: 15s\tremaining: 33.7s\n",
      "308: learn: 0.3946132\ttotal: 15.1s\tremaining: 33.7s\n",
      "309: learn: 0.3939474\ttotal: 15.1s\tremaining: 33.6s\n",
      "310: learn: 0.3934964\ttotal: 15.2s\tremaining: 33.6s\n",
      "311: learn: 0.393118\ttotal: 15.2s\tremaining: 33.6s\n",
      "312: learn: 0.3926768\ttotal: 15.3s\tremaining: 33.5s\n",
      "313: learn: 0.3922789\ttotal: 15.3s\tremaining: 33.5s\n",
      "314: learn: 0.3917952\ttotal: 15.4s\tremaining: 33.4s\n",
      "315: learn: 0.391248\ttotal: 15.4s\tremaining: 33.4s\n",
      "316: learn: 0.3905158\ttotal: 15.5s\tremaining: 33.3s\n",
      "317: learn: 0.39021\ttotal: 15.5s\tremaining: 33.3s\n",
      "318: learn: 0.3899766\ttotal: 15.6s\tremaining: 33.2s\n",
      "319: learn: 0.3893655\ttotal: 15.6s\tremaining: 33.2s\n",
      "320: learn: 0.3889824\ttotal: 15.6s\tremaining: 33.1s\n",
      "321: learn: 0.3885905\ttotal: 15.7s\tremaining: 33s\n",
      "322: learn: 0.3880796\ttotal: 15.7s\tremaining: 33s\n",
      "323: learn: 0.387373\ttotal: 15.8s\tremaining: 32.9s\n",
      "324: learn: 0.3870269\ttotal: 15.8s\tremaining: 32.9s\n"
     ]
    },
    {
     "name": "stdout",
     "output_type": "stream",
     "text": [
      "325: learn: 0.3864677\ttotal: 15.9s\tremaining: 32.8s\n",
      "326: learn: 0.3861203\ttotal: 15.9s\tremaining: 32.8s\n",
      "327: learn: 0.3856191\ttotal: 16s\tremaining: 32.7s\n",
      "328: learn: 0.3851352\ttotal: 16s\tremaining: 32.7s\n",
      "329: learn: 0.3846493\ttotal: 16.1s\tremaining: 32.6s\n",
      "330: learn: 0.3841989\ttotal: 16.1s\tremaining: 32.6s\n",
      "331: learn: 0.3838121\ttotal: 16.2s\tremaining: 32.5s\n",
      "332: learn: 0.3834588\ttotal: 16.2s\tremaining: 32.5s\n",
      "333: learn: 0.383012\ttotal: 16.3s\tremaining: 32.4s\n",
      "334: learn: 0.3827581\ttotal: 16.3s\tremaining: 32.4s\n",
      "335: learn: 0.3823804\ttotal: 16.4s\tremaining: 32.3s\n",
      "336: learn: 0.381773\ttotal: 16.4s\tremaining: 32.3s\n",
      "337: learn: 0.3813177\ttotal: 16.5s\tremaining: 32.2s\n",
      "338: learn: 0.3808256\ttotal: 16.5s\tremaining: 32.2s\n",
      "339: learn: 0.3803034\ttotal: 16.6s\tremaining: 32.1s\n",
      "340: learn: 0.3799793\ttotal: 16.6s\tremaining: 32.1s\n",
      "341: learn: 0.3796562\ttotal: 16.7s\tremaining: 32s\n",
      "342: learn: 0.3792011\ttotal: 16.7s\tremaining: 32s\n",
      "343: learn: 0.3786412\ttotal: 16.8s\tremaining: 31.9s\n",
      "344: learn: 0.3780476\ttotal: 16.8s\tremaining: 31.9s\n",
      "345: learn: 0.377729\ttotal: 16.9s\tremaining: 31.9s\n",
      "346: learn: 0.3773545\ttotal: 16.9s\tremaining: 31.8s\n",
      "347: learn: 0.3770357\ttotal: 16.9s\tremaining: 31.8s\n",
      "348: learn: 0.3764667\ttotal: 17s\tremaining: 31.7s\n",
      "349: learn: 0.3760122\ttotal: 17s\tremaining: 31.7s\n",
      "350: learn: 0.3753492\ttotal: 17.1s\tremaining: 31.6s\n",
      "351: learn: 0.3747008\ttotal: 17.1s\tremaining: 31.6s\n",
      "352: learn: 0.37448\ttotal: 17.2s\tremaining: 31.5s\n",
      "353: learn: 0.3742416\ttotal: 17.2s\tremaining: 31.4s\n",
      "354: learn: 0.3736732\ttotal: 17.3s\tremaining: 31.4s\n",
      "355: learn: 0.3733829\ttotal: 17.3s\tremaining: 31.4s\n",
      "356: learn: 0.3729124\ttotal: 17.4s\tremaining: 31.3s\n",
      "357: learn: 0.3723073\ttotal: 17.4s\tremaining: 31.3s\n",
      "358: learn: 0.3721559\ttotal: 17.5s\tremaining: 31.2s\n",
      "359: learn: 0.3714728\ttotal: 17.5s\tremaining: 31.2s\n",
      "360: learn: 0.3710282\ttotal: 17.6s\tremaining: 31.1s\n",
      "361: learn: 0.3706766\ttotal: 17.6s\tremaining: 31.1s\n",
      "362: learn: 0.3701654\ttotal: 17.7s\tremaining: 31s\n",
      "363: learn: 0.3699472\ttotal: 17.7s\tremaining: 30.9s\n",
      "364: learn: 0.3694815\ttotal: 17.8s\tremaining: 30.9s\n",
      "365: learn: 0.3689555\ttotal: 17.8s\tremaining: 30.9s\n",
      "366: learn: 0.3683312\ttotal: 17.9s\tremaining: 30.8s\n",
      "367: learn: 0.3676801\ttotal: 17.9s\tremaining: 30.8s\n",
      "368: learn: 0.367336\ttotal: 18s\tremaining: 30.7s\n",
      "369: learn: 0.3668782\ttotal: 18s\tremaining: 30.7s\n",
      "370: learn: 0.3661379\ttotal: 18.1s\tremaining: 30.6s\n",
      "371: learn: 0.3655418\ttotal: 18.1s\tremaining: 30.6s\n",
      "372: learn: 0.3652081\ttotal: 18.2s\tremaining: 30.5s\n",
      "373: learn: 0.3647194\ttotal: 18.2s\tremaining: 30.5s\n",
      "374: learn: 0.3643364\ttotal: 18.3s\tremaining: 30.4s\n",
      "375: learn: 0.3640067\ttotal: 18.3s\tremaining: 30.4s\n",
      "376: learn: 0.3637409\ttotal: 18.4s\tremaining: 30.4s\n",
      "377: learn: 0.3634335\ttotal: 18.4s\tremaining: 30.3s\n",
      "378: learn: 0.3630073\ttotal: 18.5s\tremaining: 30.3s\n",
      "379: learn: 0.3625066\ttotal: 18.5s\tremaining: 30.2s\n",
      "380: learn: 0.3621537\ttotal: 18.6s\tremaining: 30.2s\n",
      "381: learn: 0.3619211\ttotal: 18.7s\tremaining: 30.2s\n",
      "382: learn: 0.3614879\ttotal: 18.7s\tremaining: 30.1s\n",
      "383: learn: 0.3609944\ttotal: 18.7s\tremaining: 30.1s\n",
      "384: learn: 0.3607826\ttotal: 18.8s\tremaining: 30s\n",
      "385: learn: 0.360437\ttotal: 18.8s\tremaining: 30s\n",
      "386: learn: 0.3602133\ttotal: 18.9s\tremaining: 29.9s\n",
      "387: learn: 0.3598486\ttotal: 18.9s\tremaining: 29.9s\n",
      "388: learn: 0.359587\ttotal: 19s\tremaining: 29.8s\n",
      "389: learn: 0.3591017\ttotal: 19s\tremaining: 29.8s\n",
      "390: learn: 0.3587839\ttotal: 19.1s\tremaining: 29.7s\n",
      "391: learn: 0.3583852\ttotal: 19.1s\tremaining: 29.7s\n",
      "392: learn: 0.3580979\ttotal: 19.2s\tremaining: 29.6s\n",
      "393: learn: 0.3575823\ttotal: 19.2s\tremaining: 29.6s\n",
      "394: learn: 0.3571265\ttotal: 19.3s\tremaining: 29.5s\n",
      "395: learn: 0.3566938\ttotal: 19.3s\tremaining: 29.5s\n",
      "396: learn: 0.3562858\ttotal: 19.4s\tremaining: 29.4s\n",
      "397: learn: 0.3557726\ttotal: 19.4s\tremaining: 29.4s\n",
      "398: learn: 0.3552077\ttotal: 19.5s\tremaining: 29.3s\n",
      "399: learn: 0.3547351\ttotal: 19.5s\tremaining: 29.3s\n",
      "400: learn: 0.3543189\ttotal: 19.6s\tremaining: 29.2s\n",
      "401: learn: 0.3539949\ttotal: 19.6s\tremaining: 29.2s\n",
      "402: learn: 0.3536434\ttotal: 19.7s\tremaining: 29.1s\n",
      "403: learn: 0.3531389\ttotal: 19.7s\tremaining: 29.1s\n",
      "404: learn: 0.3525268\ttotal: 19.8s\tremaining: 29s\n",
      "405: learn: 0.3522148\ttotal: 19.8s\tremaining: 29s\n",
      "406: learn: 0.3518319\ttotal: 19.9s\tremaining: 28.9s\n",
      "407: learn: 0.3515919\ttotal: 19.9s\tremaining: 28.9s\n",
      "408: learn: 0.3510342\ttotal: 20s\tremaining: 28.8s\n",
      "409: learn: 0.3504733\ttotal: 20s\tremaining: 28.8s\n",
      "410: learn: 0.3500942\ttotal: 20.1s\tremaining: 28.7s\n",
      "411: learn: 0.3497461\ttotal: 20.1s\tremaining: 28.7s\n",
      "412: learn: 0.3493692\ttotal: 20.1s\tremaining: 28.6s\n",
      "413: learn: 0.3486572\ttotal: 20.2s\tremaining: 28.6s\n",
      "414: learn: 0.348203\ttotal: 20.2s\tremaining: 28.5s\n",
      "415: learn: 0.3480109\ttotal: 20.3s\tremaining: 28.5s\n",
      "416: learn: 0.3477788\ttotal: 20.3s\tremaining: 28.4s\n",
      "417: learn: 0.3472761\ttotal: 20.4s\tremaining: 28.4s\n",
      "418: learn: 0.346966\ttotal: 20.4s\tremaining: 28.3s\n",
      "419: learn: 0.3464491\ttotal: 20.5s\tremaining: 28.3s\n",
      "420: learn: 0.3462772\ttotal: 20.5s\tremaining: 28.2s\n",
      "421: learn: 0.3458578\ttotal: 20.6s\tremaining: 28.2s\n",
      "422: learn: 0.3454433\ttotal: 20.6s\tremaining: 28.1s\n",
      "423: learn: 0.3452007\ttotal: 20.7s\tremaining: 28.1s\n",
      "424: learn: 0.3447704\ttotal: 20.7s\tremaining: 28s\n",
      "425: learn: 0.3444456\ttotal: 20.8s\tremaining: 28s\n",
      "426: learn: 0.3441707\ttotal: 20.8s\tremaining: 27.9s\n",
      "427: learn: 0.3438719\ttotal: 20.9s\tremaining: 27.9s\n",
      "428: learn: 0.3432974\ttotal: 20.9s\tremaining: 27.8s\n",
      "429: learn: 0.342917\ttotal: 21s\tremaining: 27.8s\n",
      "430: learn: 0.3424941\ttotal: 21s\tremaining: 27.7s\n",
      "431: learn: 0.3421748\ttotal: 21.1s\tremaining: 27.7s\n",
      "432: learn: 0.3417253\ttotal: 21.1s\tremaining: 27.6s\n",
      "433: learn: 0.3415665\ttotal: 21.1s\tremaining: 27.6s\n",
      "434: learn: 0.3411251\ttotal: 21.2s\tremaining: 27.5s\n",
      "435: learn: 0.3407099\ttotal: 21.2s\tremaining: 27.5s\n",
      "436: learn: 0.3404207\ttotal: 21.3s\tremaining: 27.4s\n",
      "437: learn: 0.339992\ttotal: 21.3s\tremaining: 27.4s\n",
      "438: learn: 0.3397745\ttotal: 21.4s\tremaining: 27.4s\n",
      "439: learn: 0.3394862\ttotal: 21.5s\tremaining: 27.3s\n",
      "440: learn: 0.3392563\ttotal: 21.5s\tremaining: 27.3s\n",
      "441: learn: 0.3386225\ttotal: 21.5s\tremaining: 27.2s\n",
      "442: learn: 0.3380924\ttotal: 21.6s\tremaining: 27.1s\n",
      "443: learn: 0.3377416\ttotal: 21.6s\tremaining: 27.1s\n",
      "444: learn: 0.3374275\ttotal: 21.7s\tremaining: 27.1s\n",
      "445: learn: 0.3370072\ttotal: 21.7s\tremaining: 27s\n",
      "446: learn: 0.3365795\ttotal: 21.8s\tremaining: 27s\n",
      "447: learn: 0.3363353\ttotal: 21.8s\tremaining: 26.9s\n",
      "448: learn: 0.3362259\ttotal: 21.9s\tremaining: 26.9s\n",
      "449: learn: 0.3359485\ttotal: 21.9s\tremaining: 26.8s\n",
      "450: learn: 0.3355062\ttotal: 22s\tremaining: 26.8s\n",
      "451: learn: 0.3350072\ttotal: 22.1s\tremaining: 26.8s\n",
      "452: learn: 0.3347083\ttotal: 22.1s\tremaining: 26.7s\n",
      "453: learn: 0.3345282\ttotal: 22.2s\tremaining: 26.7s\n",
      "454: learn: 0.3341859\ttotal: 22.2s\tremaining: 26.6s\n",
      "455: learn: 0.3337797\ttotal: 22.3s\tremaining: 26.6s\n",
      "456: learn: 0.3335417\ttotal: 22.3s\tremaining: 26.5s\n",
      "457: learn: 0.3329668\ttotal: 22.4s\tremaining: 26.5s\n",
      "458: learn: 0.332605\ttotal: 22.4s\tremaining: 26.4s\n",
      "459: learn: 0.3323089\ttotal: 22.5s\tremaining: 26.4s\n",
      "460: learn: 0.3321717\ttotal: 22.5s\tremaining: 26.3s\n",
      "461: learn: 0.3318003\ttotal: 22.6s\tremaining: 26.3s\n",
      "462: learn: 0.3314086\ttotal: 22.6s\tremaining: 26.2s\n",
      "463: learn: 0.3309158\ttotal: 22.7s\tremaining: 26.2s\n",
      "464: learn: 0.3305645\ttotal: 22.7s\tremaining: 26.1s\n",
      "465: learn: 0.3302045\ttotal: 22.8s\tremaining: 26.1s\n",
      "466: learn: 0.3300261\ttotal: 22.8s\tremaining: 26s\n",
      "467: learn: 0.329837\ttotal: 22.8s\tremaining: 26s\n",
      "468: learn: 0.3294637\ttotal: 22.9s\tremaining: 25.9s\n",
      "469: learn: 0.3290376\ttotal: 22.9s\tremaining: 25.9s\n",
      "470: learn: 0.3287442\ttotal: 23s\tremaining: 25.8s\n",
      "471: learn: 0.3284406\ttotal: 23s\tremaining: 25.8s\n",
      "472: learn: 0.3280427\ttotal: 23.1s\tremaining: 25.7s\n",
      "473: learn: 0.3277394\ttotal: 23.1s\tremaining: 25.7s\n",
      "474: learn: 0.3275631\ttotal: 23.2s\tremaining: 25.6s\n",
      "475: learn: 0.3273433\ttotal: 23.2s\tremaining: 25.6s\n",
      "476: learn: 0.3270023\ttotal: 23.3s\tremaining: 25.5s\n",
      "477: learn: 0.3267694\ttotal: 23.3s\tremaining: 25.5s\n",
      "478: learn: 0.3261976\ttotal: 23.4s\tremaining: 25.4s\n",
      "479: learn: 0.3258969\ttotal: 23.4s\tremaining: 25.4s\n",
      "480: learn: 0.3256226\ttotal: 23.5s\tremaining: 25.3s\n",
      "481: learn: 0.3252375\ttotal: 23.5s\tremaining: 25.3s\n",
      "482: learn: 0.3248916\ttotal: 23.6s\tremaining: 25.2s\n",
      "483: learn: 0.3246579\ttotal: 23.6s\tremaining: 25.2s\n"
     ]
    },
    {
     "name": "stdout",
     "output_type": "stream",
     "text": [
      "484: learn: 0.3242879\ttotal: 23.7s\tremaining: 25.1s\n",
      "485: learn: 0.3240029\ttotal: 23.7s\tremaining: 25.1s\n",
      "486: learn: 0.3235995\ttotal: 23.8s\tremaining: 25s\n",
      "487: learn: 0.3231101\ttotal: 23.8s\tremaining: 25s\n",
      "488: learn: 0.3228665\ttotal: 23.9s\tremaining: 24.9s\n",
      "489: learn: 0.3225933\ttotal: 23.9s\tremaining: 24.9s\n",
      "490: learn: 0.3222697\ttotal: 24s\tremaining: 24.9s\n",
      "491: learn: 0.322\ttotal: 24.1s\tremaining: 24.8s\n",
      "492: learn: 0.3216827\ttotal: 24.1s\tremaining: 24.8s\n",
      "493: learn: 0.321417\ttotal: 24.2s\tremaining: 24.7s\n",
      "494: learn: 0.3210225\ttotal: 24.2s\tremaining: 24.7s\n",
      "495: learn: 0.3205474\ttotal: 24.3s\tremaining: 24.7s\n",
      "496: learn: 0.3201002\ttotal: 24.3s\tremaining: 24.6s\n",
      "497: learn: 0.3198348\ttotal: 24.4s\tremaining: 24.6s\n",
      "498: learn: 0.3195557\ttotal: 24.4s\tremaining: 24.5s\n",
      "499: learn: 0.3192419\ttotal: 24.5s\tremaining: 24.5s\n",
      "500: learn: 0.319053\ttotal: 24.5s\tremaining: 24.4s\n",
      "501: learn: 0.3185983\ttotal: 24.6s\tremaining: 24.4s\n",
      "502: learn: 0.3182111\ttotal: 24.6s\tremaining: 24.3s\n",
      "503: learn: 0.3178808\ttotal: 24.7s\tremaining: 24.3s\n",
      "504: learn: 0.3176025\ttotal: 24.7s\tremaining: 24.2s\n",
      "505: learn: 0.3173097\ttotal: 24.8s\tremaining: 24.2s\n",
      "506: learn: 0.3169714\ttotal: 24.8s\tremaining: 24.1s\n",
      "507: learn: 0.316778\ttotal: 24.9s\tremaining: 24.1s\n",
      "508: learn: 0.3163336\ttotal: 24.9s\tremaining: 24.1s\n",
      "509: learn: 0.3160599\ttotal: 25s\tremaining: 24s\n",
      "510: learn: 0.3157783\ttotal: 25s\tremaining: 23.9s\n",
      "511: learn: 0.3152721\ttotal: 25.1s\tremaining: 23.9s\n",
      "512: learn: 0.3151295\ttotal: 25.1s\tremaining: 23.8s\n",
      "513: learn: 0.3146957\ttotal: 25.2s\tremaining: 23.8s\n",
      "514: learn: 0.3144334\ttotal: 25.2s\tremaining: 23.8s\n",
      "515: learn: 0.3143478\ttotal: 25.3s\tremaining: 23.7s\n",
      "516: learn: 0.3140097\ttotal: 25.3s\tremaining: 23.7s\n",
      "517: learn: 0.3138034\ttotal: 25.4s\tremaining: 23.6s\n",
      "518: learn: 0.3136108\ttotal: 25.4s\tremaining: 23.6s\n",
      "519: learn: 0.3134678\ttotal: 25.5s\tremaining: 23.5s\n",
      "520: learn: 0.3130003\ttotal: 25.5s\tremaining: 23.5s\n",
      "521: learn: 0.3128691\ttotal: 25.6s\tremaining: 23.4s\n",
      "522: learn: 0.3126251\ttotal: 25.6s\tremaining: 23.4s\n",
      "523: learn: 0.3123984\ttotal: 25.7s\tremaining: 23.3s\n",
      "524: learn: 0.3121941\ttotal: 25.7s\tremaining: 23.3s\n",
      "525: learn: 0.3120125\ttotal: 25.8s\tremaining: 23.2s\n",
      "526: learn: 0.3116543\ttotal: 25.8s\tremaining: 23.2s\n",
      "527: learn: 0.311515\ttotal: 25.9s\tremaining: 23.1s\n",
      "528: learn: 0.3112975\ttotal: 25.9s\tremaining: 23.1s\n",
      "529: learn: 0.3111205\ttotal: 26s\tremaining: 23s\n",
      "530: learn: 0.3108608\ttotal: 26s\tremaining: 23s\n",
      "531: learn: 0.310553\ttotal: 26.1s\tremaining: 22.9s\n",
      "532: learn: 0.3100357\ttotal: 26.1s\tremaining: 22.9s\n",
      "533: learn: 0.3097496\ttotal: 26.1s\tremaining: 22.8s\n",
      "534: learn: 0.309452\ttotal: 26.2s\tremaining: 22.8s\n",
      "535: learn: 0.3091522\ttotal: 26.2s\tremaining: 22.7s\n",
      "536: learn: 0.308914\ttotal: 26.3s\tremaining: 22.7s\n",
      "537: learn: 0.3084726\ttotal: 26.3s\tremaining: 22.6s\n",
      "538: learn: 0.3083108\ttotal: 26.4s\tremaining: 22.6s\n",
      "539: learn: 0.3081693\ttotal: 26.4s\tremaining: 22.5s\n",
      "540: learn: 0.3077973\ttotal: 26.5s\tremaining: 22.5s\n",
      "541: learn: 0.3074722\ttotal: 26.5s\tremaining: 22.4s\n",
      "542: learn: 0.3071487\ttotal: 26.6s\tremaining: 22.4s\n",
      "543: learn: 0.3069815\ttotal: 26.6s\tremaining: 22.3s\n",
      "544: learn: 0.3067388\ttotal: 26.7s\tremaining: 22.3s\n",
      "545: learn: 0.3065144\ttotal: 26.7s\tremaining: 22.2s\n",
      "546: learn: 0.3062706\ttotal: 26.8s\tremaining: 22.2s\n",
      "547: learn: 0.3059158\ttotal: 26.8s\tremaining: 22.1s\n",
      "548: learn: 0.3053535\ttotal: 26.9s\tremaining: 22.1s\n",
      "549: learn: 0.3049889\ttotal: 26.9s\tremaining: 22s\n",
      "550: learn: 0.3045192\ttotal: 27s\tremaining: 22s\n",
      "551: learn: 0.3040825\ttotal: 27s\tremaining: 21.9s\n",
      "552: learn: 0.3035446\ttotal: 27.1s\tremaining: 21.9s\n",
      "553: learn: 0.3032284\ttotal: 27.1s\tremaining: 21.8s\n",
      "554: learn: 0.3028792\ttotal: 27.1s\tremaining: 21.8s\n",
      "555: learn: 0.302608\ttotal: 27.2s\tremaining: 21.7s\n",
      "556: learn: 0.3022407\ttotal: 27.2s\tremaining: 21.7s\n",
      "557: learn: 0.3018775\ttotal: 27.3s\tremaining: 21.6s\n",
      "558: learn: 0.3015379\ttotal: 27.3s\tremaining: 21.6s\n",
      "559: learn: 0.3013608\ttotal: 27.4s\tremaining: 21.5s\n",
      "560: learn: 0.3008781\ttotal: 27.4s\tremaining: 21.5s\n",
      "561: learn: 0.3004869\ttotal: 27.5s\tremaining: 21.4s\n",
      "562: learn: 0.3003213\ttotal: 27.5s\tremaining: 21.4s\n",
      "563: learn: 0.2997295\ttotal: 27.6s\tremaining: 21.3s\n",
      "564: learn: 0.2995357\ttotal: 27.6s\tremaining: 21.3s\n",
      "565: learn: 0.299341\ttotal: 27.7s\tremaining: 21.2s\n",
      "566: learn: 0.2990269\ttotal: 27.7s\tremaining: 21.2s\n",
      "567: learn: 0.2988109\ttotal: 27.8s\tremaining: 21.1s\n",
      "568: learn: 0.2986697\ttotal: 27.8s\tremaining: 21.1s\n",
      "569: learn: 0.2985037\ttotal: 27.9s\tremaining: 21s\n",
      "570: learn: 0.2983879\ttotal: 27.9s\tremaining: 21s\n",
      "571: learn: 0.2981142\ttotal: 28s\tremaining: 20.9s\n",
      "572: learn: 0.2979868\ttotal: 28s\tremaining: 20.9s\n",
      "573: learn: 0.297545\ttotal: 28.1s\tremaining: 20.8s\n",
      "574: learn: 0.2972626\ttotal: 28.1s\tremaining: 20.8s\n",
      "575: learn: 0.296989\ttotal: 28.2s\tremaining: 20.7s\n",
      "576: learn: 0.2966042\ttotal: 28.2s\tremaining: 20.7s\n",
      "577: learn: 0.296256\ttotal: 28.3s\tremaining: 20.6s\n",
      "578: learn: 0.2960578\ttotal: 28.3s\tremaining: 20.6s\n",
      "579: learn: 0.2959635\ttotal: 28.3s\tremaining: 20.5s\n",
      "580: learn: 0.2958344\ttotal: 28.4s\tremaining: 20.5s\n",
      "581: learn: 0.2957055\ttotal: 28.4s\tremaining: 20.4s\n",
      "582: learn: 0.295213\ttotal: 28.5s\tremaining: 20.4s\n",
      "583: learn: 0.2949795\ttotal: 28.5s\tremaining: 20.3s\n",
      "584: learn: 0.2946622\ttotal: 28.6s\tremaining: 20.3s\n",
      "585: learn: 0.2942807\ttotal: 28.6s\tremaining: 20.2s\n",
      "586: learn: 0.2939667\ttotal: 28.7s\tremaining: 20.2s\n",
      "587: learn: 0.2936383\ttotal: 28.7s\tremaining: 20.1s\n",
      "588: learn: 0.2934842\ttotal: 28.8s\tremaining: 20.1s\n",
      "589: learn: 0.2933527\ttotal: 28.8s\tremaining: 20s\n",
      "590: learn: 0.2930084\ttotal: 28.9s\tremaining: 20s\n",
      "591: learn: 0.29255\ttotal: 28.9s\tremaining: 19.9s\n",
      "592: learn: 0.2923392\ttotal: 29s\tremaining: 19.9s\n",
      "593: learn: 0.2921095\ttotal: 29s\tremaining: 19.8s\n",
      "594: learn: 0.2917766\ttotal: 29.1s\tremaining: 19.8s\n",
      "595: learn: 0.2913694\ttotal: 29.1s\tremaining: 19.7s\n",
      "596: learn: 0.2909959\ttotal: 29.1s\tremaining: 19.7s\n",
      "597: learn: 0.2906297\ttotal: 29.2s\tremaining: 19.6s\n",
      "598: learn: 0.2902984\ttotal: 29.3s\tremaining: 19.6s\n",
      "599: learn: 0.2900906\ttotal: 29.3s\tremaining: 19.5s\n",
      "600: learn: 0.28984\ttotal: 29.3s\tremaining: 19.5s\n",
      "601: learn: 0.289703\ttotal: 29.4s\tremaining: 19.4s\n",
      "602: learn: 0.2894464\ttotal: 29.4s\tremaining: 19.4s\n",
      "603: learn: 0.2892045\ttotal: 29.5s\tremaining: 19.3s\n",
      "604: learn: 0.2888531\ttotal: 29.5s\tremaining: 19.3s\n",
      "605: learn: 0.2884995\ttotal: 29.6s\tremaining: 19.2s\n",
      "606: learn: 0.2883785\ttotal: 29.6s\tremaining: 19.2s\n",
      "607: learn: 0.2882643\ttotal: 29.7s\tremaining: 19.1s\n",
      "608: learn: 0.2880378\ttotal: 29.7s\tremaining: 19.1s\n",
      "609: learn: 0.287757\ttotal: 29.8s\tremaining: 19s\n",
      "610: learn: 0.2875734\ttotal: 29.8s\tremaining: 19s\n",
      "611: learn: 0.287285\ttotal: 29.9s\tremaining: 18.9s\n",
      "612: learn: 0.2870998\ttotal: 29.9s\tremaining: 18.9s\n",
      "613: learn: 0.2869897\ttotal: 30s\tremaining: 18.8s\n",
      "614: learn: 0.2866743\ttotal: 30s\tremaining: 18.8s\n",
      "615: learn: 0.2864774\ttotal: 30.1s\tremaining: 18.7s\n",
      "616: learn: 0.2862971\ttotal: 30.1s\tremaining: 18.7s\n",
      "617: learn: 0.286102\ttotal: 30.2s\tremaining: 18.6s\n",
      "618: learn: 0.2857523\ttotal: 30.2s\tremaining: 18.6s\n",
      "619: learn: 0.2854429\ttotal: 30.3s\tremaining: 18.6s\n",
      "620: learn: 0.2851043\ttotal: 30.3s\tremaining: 18.5s\n",
      "621: learn: 0.2848507\ttotal: 30.4s\tremaining: 18.5s\n",
      "622: learn: 0.284544\ttotal: 30.4s\tremaining: 18.4s\n",
      "623: learn: 0.2842014\ttotal: 30.5s\tremaining: 18.4s\n",
      "624: learn: 0.2838749\ttotal: 30.5s\tremaining: 18.3s\n",
      "625: learn: 0.2835266\ttotal: 30.6s\tremaining: 18.3s\n",
      "626: learn: 0.2833712\ttotal: 30.6s\tremaining: 18.2s\n",
      "627: learn: 0.2831455\ttotal: 30.7s\tremaining: 18.2s\n",
      "628: learn: 0.2829383\ttotal: 30.7s\tremaining: 18.1s\n",
      "629: learn: 0.2827447\ttotal: 30.8s\tremaining: 18.1s\n",
      "630: learn: 0.2824586\ttotal: 30.8s\tremaining: 18s\n",
      "631: learn: 0.2822115\ttotal: 30.9s\tremaining: 18s\n",
      "632: learn: 0.2820137\ttotal: 30.9s\tremaining: 17.9s\n",
      "633: learn: 0.2817935\ttotal: 31s\tremaining: 17.9s\n",
      "634: learn: 0.2816411\ttotal: 31s\tremaining: 17.8s\n",
      "635: learn: 0.2815317\ttotal: 31s\tremaining: 17.8s\n",
      "636: learn: 0.2814052\ttotal: 31.1s\tremaining: 17.7s\n",
      "637: learn: 0.280951\ttotal: 31.1s\tremaining: 17.7s\n",
      "638: learn: 0.2807127\ttotal: 31.2s\tremaining: 17.6s\n",
      "639: learn: 0.2804979\ttotal: 31.3s\tremaining: 17.6s\n",
      "640: learn: 0.2802094\ttotal: 31.3s\tremaining: 17.5s\n",
      "641: learn: 0.279771\ttotal: 31.4s\tremaining: 17.5s\n",
      "642: learn: 0.2794417\ttotal: 31.4s\tremaining: 17.4s\n",
      "643: learn: 0.2792741\ttotal: 31.4s\tremaining: 17.4s\n",
      "644: learn: 0.2791674\ttotal: 31.5s\tremaining: 17.3s\n",
      "645: learn: 0.2789768\ttotal: 31.5s\tremaining: 17.3s\n",
      "646: learn: 0.2787909\ttotal: 31.6s\tremaining: 17.2s\n"
     ]
    },
    {
     "name": "stdout",
     "output_type": "stream",
     "text": [
      "647: learn: 0.2786104\ttotal: 31.6s\tremaining: 17.2s\n",
      "648: learn: 0.2784572\ttotal: 31.7s\tremaining: 17.1s\n",
      "649: learn: 0.2783111\ttotal: 31.7s\tremaining: 17.1s\n",
      "650: learn: 0.2782197\ttotal: 31.8s\tremaining: 17s\n",
      "651: learn: 0.2780208\ttotal: 31.8s\tremaining: 17s\n",
      "652: learn: 0.2779572\ttotal: 31.9s\tremaining: 17s\n",
      "653: learn: 0.2777332\ttotal: 32.1s\tremaining: 17s\n",
      "654: learn: 0.2775648\ttotal: 32.1s\tremaining: 16.9s\n",
      "655: learn: 0.2774519\ttotal: 32.2s\tremaining: 16.9s\n",
      "656: learn: 0.2773145\ttotal: 32.2s\tremaining: 16.8s\n",
      "657: learn: 0.2771725\ttotal: 32.3s\tremaining: 16.8s\n",
      "658: learn: 0.2770675\ttotal: 32.3s\tremaining: 16.7s\n",
      "659: learn: 0.2767582\ttotal: 32.4s\tremaining: 16.7s\n",
      "660: learn: 0.2765673\ttotal: 32.4s\tremaining: 16.6s\n",
      "661: learn: 0.2765003\ttotal: 32.5s\tremaining: 16.6s\n",
      "662: learn: 0.276379\ttotal: 32.5s\tremaining: 16.5s\n",
      "663: learn: 0.276165\ttotal: 32.6s\tremaining: 16.5s\n",
      "664: learn: 0.2758509\ttotal: 32.7s\tremaining: 16.5s\n",
      "665: learn: 0.2755554\ttotal: 32.7s\tremaining: 16.4s\n",
      "666: learn: 0.2751759\ttotal: 32.8s\tremaining: 16.4s\n",
      "667: learn: 0.2749311\ttotal: 32.9s\tremaining: 16.3s\n",
      "668: learn: 0.2747277\ttotal: 32.9s\tremaining: 16.3s\n",
      "669: learn: 0.2745314\ttotal: 33s\tremaining: 16.2s\n",
      "670: learn: 0.2744233\ttotal: 33s\tremaining: 16.2s\n",
      "671: learn: 0.2742141\ttotal: 33.1s\tremaining: 16.1s\n",
      "672: learn: 0.2741498\ttotal: 33.1s\tremaining: 16.1s\n",
      "673: learn: 0.2739925\ttotal: 33.2s\tremaining: 16s\n",
      "674: learn: 0.2736129\ttotal: 33.2s\tremaining: 16s\n",
      "675: learn: 0.2733636\ttotal: 33.3s\tremaining: 15.9s\n",
      "676: learn: 0.2732281\ttotal: 33.3s\tremaining: 15.9s\n",
      "677: learn: 0.2730752\ttotal: 33.3s\tremaining: 15.8s\n",
      "678: learn: 0.272899\ttotal: 33.4s\tremaining: 15.8s\n",
      "679: learn: 0.2727368\ttotal: 33.4s\tremaining: 15.7s\n",
      "680: learn: 0.2726536\ttotal: 33.5s\tremaining: 15.7s\n",
      "681: learn: 0.272496\ttotal: 33.5s\tremaining: 15.6s\n",
      "682: learn: 0.2723181\ttotal: 33.6s\tremaining: 15.6s\n",
      "683: learn: 0.2719898\ttotal: 33.7s\tremaining: 15.6s\n",
      "684: learn: 0.2718026\ttotal: 33.7s\tremaining: 15.5s\n",
      "685: learn: 0.2714856\ttotal: 33.8s\tremaining: 15.5s\n",
      "686: learn: 0.2711405\ttotal: 33.8s\tremaining: 15.4s\n",
      "687: learn: 0.271012\ttotal: 33.9s\tremaining: 15.4s\n",
      "688: learn: 0.2708476\ttotal: 33.9s\tremaining: 15.3s\n",
      "689: learn: 0.2706583\ttotal: 34s\tremaining: 15.3s\n",
      "690: learn: 0.2703209\ttotal: 34s\tremaining: 15.2s\n",
      "691: learn: 0.2701085\ttotal: 34.1s\tremaining: 15.2s\n",
      "692: learn: 0.2699727\ttotal: 34.1s\tremaining: 15.1s\n",
      "693: learn: 0.2697241\ttotal: 34.2s\tremaining: 15.1s\n",
      "694: learn: 0.2694339\ttotal: 34.2s\tremaining: 15s\n",
      "695: learn: 0.2693162\ttotal: 34.3s\tremaining: 15s\n",
      "696: learn: 0.26921\ttotal: 34.3s\tremaining: 14.9s\n",
      "697: learn: 0.2690131\ttotal: 34.4s\tremaining: 14.9s\n",
      "698: learn: 0.2687692\ttotal: 34.4s\tremaining: 14.8s\n",
      "699: learn: 0.2684576\ttotal: 34.5s\tremaining: 14.8s\n",
      "700: learn: 0.2680936\ttotal: 34.5s\tremaining: 14.7s\n",
      "701: learn: 0.2678558\ttotal: 34.6s\tremaining: 14.7s\n",
      "702: learn: 0.2675916\ttotal: 34.6s\tremaining: 14.6s\n",
      "703: learn: 0.2674645\ttotal: 34.6s\tremaining: 14.6s\n",
      "704: learn: 0.2671124\ttotal: 34.7s\tremaining: 14.5s\n",
      "705: learn: 0.2669819\ttotal: 34.8s\tremaining: 14.5s\n",
      "706: learn: 0.2667379\ttotal: 34.8s\tremaining: 14.4s\n",
      "707: learn: 0.2665422\ttotal: 34.9s\tremaining: 14.4s\n",
      "708: learn: 0.266263\ttotal: 34.9s\tremaining: 14.3s\n",
      "709: learn: 0.2661099\ttotal: 35s\tremaining: 14.3s\n",
      "710: learn: 0.2657793\ttotal: 35s\tremaining: 14.2s\n",
      "711: learn: 0.2655502\ttotal: 35.1s\tremaining: 14.2s\n",
      "712: learn: 0.2654222\ttotal: 35.1s\tremaining: 14.1s\n",
      "713: learn: 0.2651242\ttotal: 35.2s\tremaining: 14.1s\n",
      "714: learn: 0.2647925\ttotal: 35.2s\tremaining: 14s\n",
      "715: learn: 0.2647057\ttotal: 35.3s\tremaining: 14s\n",
      "716: learn: 0.2644836\ttotal: 35.3s\tremaining: 13.9s\n",
      "717: learn: 0.2641355\ttotal: 35.4s\tremaining: 13.9s\n",
      "718: learn: 0.2639763\ttotal: 35.4s\tremaining: 13.8s\n",
      "719: learn: 0.263642\ttotal: 35.5s\tremaining: 13.8s\n",
      "720: learn: 0.263515\ttotal: 35.5s\tremaining: 13.7s\n",
      "721: learn: 0.2632233\ttotal: 35.5s\tremaining: 13.7s\n",
      "722: learn: 0.2631405\ttotal: 35.6s\tremaining: 13.6s\n",
      "723: learn: 0.2628656\ttotal: 35.6s\tremaining: 13.6s\n",
      "724: learn: 0.2627361\ttotal: 35.7s\tremaining: 13.5s\n",
      "725: learn: 0.2626334\ttotal: 35.7s\tremaining: 13.5s\n",
      "726: learn: 0.262474\ttotal: 35.8s\tremaining: 13.4s\n",
      "727: learn: 0.2623631\ttotal: 35.8s\tremaining: 13.4s\n",
      "728: learn: 0.2620659\ttotal: 35.9s\tremaining: 13.3s\n",
      "729: learn: 0.2619835\ttotal: 35.9s\tremaining: 13.3s\n",
      "730: learn: 0.2618039\ttotal: 36s\tremaining: 13.2s\n",
      "731: learn: 0.2615165\ttotal: 36s\tremaining: 13.2s\n",
      "732: learn: 0.2614527\ttotal: 36.1s\tremaining: 13.1s\n",
      "733: learn: 0.2609716\ttotal: 36.1s\tremaining: 13.1s\n",
      "734: learn: 0.2606821\ttotal: 36.2s\tremaining: 13s\n",
      "735: learn: 0.2605962\ttotal: 36.2s\tremaining: 13s\n",
      "736: learn: 0.2600671\ttotal: 36.3s\tremaining: 12.9s\n",
      "737: learn: 0.2595878\ttotal: 36.3s\tremaining: 12.9s\n",
      "738: learn: 0.2593795\ttotal: 36.4s\tremaining: 12.8s\n",
      "739: learn: 0.2592781\ttotal: 36.4s\tremaining: 12.8s\n",
      "740: learn: 0.2592027\ttotal: 36.5s\tremaining: 12.7s\n",
      "741: learn: 0.2589062\ttotal: 36.5s\tremaining: 12.7s\n",
      "742: learn: 0.2586795\ttotal: 36.6s\tremaining: 12.6s\n",
      "743: learn: 0.2583183\ttotal: 36.6s\tremaining: 12.6s\n",
      "744: learn: 0.2580583\ttotal: 36.7s\tremaining: 12.5s\n",
      "745: learn: 0.2579011\ttotal: 36.7s\tremaining: 12.5s\n",
      "746: learn: 0.2577385\ttotal: 36.8s\tremaining: 12.4s\n",
      "747: learn: 0.2576363\ttotal: 36.8s\tremaining: 12.4s\n",
      "748: learn: 0.257209\ttotal: 36.9s\tremaining: 12.3s\n",
      "749: learn: 0.2570592\ttotal: 36.9s\tremaining: 12.3s\n",
      "750: learn: 0.2568752\ttotal: 37s\tremaining: 12.3s\n",
      "751: learn: 0.2567175\ttotal: 37s\tremaining: 12.2s\n",
      "752: learn: 0.2564319\ttotal: 37s\tremaining: 12.2s\n",
      "753: learn: 0.2563316\ttotal: 37.1s\tremaining: 12.1s\n",
      "754: learn: 0.2559293\ttotal: 37.1s\tremaining: 12.1s\n",
      "755: learn: 0.2555527\ttotal: 37.2s\tremaining: 12s\n",
      "756: learn: 0.2553154\ttotal: 37.2s\tremaining: 12s\n",
      "757: learn: 0.2551537\ttotal: 37.3s\tremaining: 11.9s\n",
      "758: learn: 0.2549858\ttotal: 37.3s\tremaining: 11.9s\n",
      "759: learn: 0.2547953\ttotal: 37.4s\tremaining: 11.8s\n",
      "760: learn: 0.2545788\ttotal: 37.4s\tremaining: 11.8s\n",
      "761: learn: 0.25442\ttotal: 37.5s\tremaining: 11.7s\n",
      "762: learn: 0.2543145\ttotal: 37.5s\tremaining: 11.7s\n",
      "763: learn: 0.2540224\ttotal: 37.6s\tremaining: 11.6s\n",
      "764: learn: 0.2538615\ttotal: 37.6s\tremaining: 11.6s\n",
      "765: learn: 0.2536655\ttotal: 37.7s\tremaining: 11.5s\n",
      "766: learn: 0.2534196\ttotal: 37.7s\tremaining: 11.5s\n",
      "767: learn: 0.2531102\ttotal: 37.8s\tremaining: 11.4s\n",
      "768: learn: 0.2529059\ttotal: 37.8s\tremaining: 11.4s\n",
      "769: learn: 0.2525775\ttotal: 37.9s\tremaining: 11.3s\n",
      "770: learn: 0.2523246\ttotal: 37.9s\tremaining: 11.3s\n",
      "771: learn: 0.2520247\ttotal: 38s\tremaining: 11.2s\n",
      "772: learn: 0.2518169\ttotal: 38s\tremaining: 11.2s\n",
      "773: learn: 0.2515193\ttotal: 38.1s\tremaining: 11.1s\n",
      "774: learn: 0.2512951\ttotal: 38.1s\tremaining: 11.1s\n",
      "775: learn: 0.2511248\ttotal: 38.2s\tremaining: 11s\n",
      "776: learn: 0.2508937\ttotal: 38.2s\tremaining: 11s\n",
      "777: learn: 0.2507484\ttotal: 38.3s\tremaining: 10.9s\n",
      "778: learn: 0.250518\ttotal: 38.3s\tremaining: 10.9s\n",
      "779: learn: 0.250345\ttotal: 38.4s\tremaining: 10.8s\n",
      "780: learn: 0.2502076\ttotal: 38.4s\tremaining: 10.8s\n",
      "781: learn: 0.2500166\ttotal: 38.5s\tremaining: 10.7s\n",
      "782: learn: 0.2498366\ttotal: 38.5s\tremaining: 10.7s\n",
      "783: learn: 0.2496681\ttotal: 38.5s\tremaining: 10.6s\n",
      "784: learn: 0.249382\ttotal: 38.6s\tremaining: 10.6s\n",
      "785: learn: 0.2492894\ttotal: 38.6s\tremaining: 10.5s\n",
      "786: learn: 0.249093\ttotal: 38.7s\tremaining: 10.5s\n",
      "787: learn: 0.2489185\ttotal: 38.7s\tremaining: 10.4s\n",
      "788: learn: 0.2487364\ttotal: 38.8s\tremaining: 10.4s\n",
      "789: learn: 0.2486618\ttotal: 38.8s\tremaining: 10.3s\n",
      "790: learn: 0.2484674\ttotal: 38.9s\tremaining: 10.3s\n",
      "791: learn: 0.2483397\ttotal: 38.9s\tremaining: 10.2s\n",
      "792: learn: 0.2482279\ttotal: 39s\tremaining: 10.2s\n",
      "793: learn: 0.2481277\ttotal: 39s\tremaining: 10.1s\n",
      "794: learn: 0.2480178\ttotal: 39.1s\tremaining: 10.1s\n",
      "795: learn: 0.2477432\ttotal: 39.1s\tremaining: 10s\n",
      "796: learn: 0.2474409\ttotal: 39.2s\tremaining: 9.98s\n",
      "797: learn: 0.2472773\ttotal: 39.2s\tremaining: 9.93s\n",
      "798: learn: 0.247161\ttotal: 39.3s\tremaining: 9.88s\n",
      "799: learn: 0.2467918\ttotal: 39.3s\tremaining: 9.83s\n",
      "800: learn: 0.246713\ttotal: 39.4s\tremaining: 9.78s\n",
      "801: learn: 0.2463886\ttotal: 39.4s\tremaining: 9.73s\n",
      "802: learn: 0.2460452\ttotal: 39.5s\tremaining: 9.68s\n",
      "803: learn: 0.2458819\ttotal: 39.5s\tremaining: 9.63s\n",
      "804: learn: 0.2457383\ttotal: 39.6s\tremaining: 9.58s\n",
      "805: learn: 0.245532\ttotal: 39.6s\tremaining: 9.53s\n",
      "806: learn: 0.2451984\ttotal: 39.6s\tremaining: 9.48s\n"
     ]
    },
    {
     "name": "stdout",
     "output_type": "stream",
     "text": [
      "807: learn: 0.2450277\ttotal: 39.7s\tremaining: 9.43s\n",
      "808: learn: 0.2447587\ttotal: 39.7s\tremaining: 9.38s\n",
      "809: learn: 0.2446631\ttotal: 39.8s\tremaining: 9.33s\n",
      "810: learn: 0.2444353\ttotal: 39.8s\tremaining: 9.28s\n",
      "811: learn: 0.2443054\ttotal: 39.9s\tremaining: 9.23s\n",
      "812: learn: 0.2442629\ttotal: 39.9s\tremaining: 9.18s\n",
      "813: learn: 0.2441482\ttotal: 40s\tremaining: 9.13s\n",
      "814: learn: 0.2440486\ttotal: 40s\tremaining: 9.09s\n",
      "815: learn: 0.2438454\ttotal: 40.1s\tremaining: 9.04s\n",
      "816: learn: 0.2436707\ttotal: 40.1s\tremaining: 8.99s\n",
      "817: learn: 0.2435321\ttotal: 40.2s\tremaining: 8.94s\n",
      "818: learn: 0.2433342\ttotal: 40.2s\tremaining: 8.89s\n",
      "819: learn: 0.2430629\ttotal: 40.3s\tremaining: 8.84s\n",
      "820: learn: 0.2428727\ttotal: 40.3s\tremaining: 8.79s\n",
      "821: learn: 0.2426691\ttotal: 40.4s\tremaining: 8.74s\n",
      "822: learn: 0.2424694\ttotal: 40.4s\tremaining: 8.69s\n",
      "823: learn: 0.2422047\ttotal: 40.5s\tremaining: 8.64s\n",
      "824: learn: 0.2420811\ttotal: 40.5s\tremaining: 8.59s\n",
      "825: learn: 0.2418514\ttotal: 40.6s\tremaining: 8.54s\n",
      "826: learn: 0.2416202\ttotal: 40.6s\tremaining: 8.49s\n",
      "827: learn: 0.2412894\ttotal: 40.7s\tremaining: 8.44s\n",
      "828: learn: 0.2409971\ttotal: 40.7s\tremaining: 8.4s\n",
      "829: learn: 0.2408109\ttotal: 40.8s\tremaining: 8.35s\n",
      "830: learn: 0.2406002\ttotal: 40.8s\tremaining: 8.3s\n",
      "831: learn: 0.2404746\ttotal: 40.9s\tremaining: 8.25s\n",
      "832: learn: 0.2401785\ttotal: 40.9s\tremaining: 8.2s\n",
      "833: learn: 0.240011\ttotal: 41s\tremaining: 8.15s\n",
      "834: learn: 0.2397949\ttotal: 41s\tremaining: 8.1s\n",
      "835: learn: 0.2397526\ttotal: 41s\tremaining: 8.05s\n",
      "836: learn: 0.2395805\ttotal: 41.1s\tremaining: 8s\n",
      "837: learn: 0.239414\ttotal: 41.1s\tremaining: 7.95s\n",
      "838: learn: 0.2393172\ttotal: 41.2s\tremaining: 7.91s\n",
      "839: learn: 0.2391764\ttotal: 41.3s\tremaining: 7.86s\n",
      "840: learn: 0.2389045\ttotal: 41.3s\tremaining: 7.81s\n",
      "841: learn: 0.2387396\ttotal: 41.4s\tremaining: 7.76s\n",
      "842: learn: 0.238627\ttotal: 41.4s\tremaining: 7.71s\n",
      "843: learn: 0.2384483\ttotal: 41.5s\tremaining: 7.66s\n",
      "844: learn: 0.2382779\ttotal: 41.5s\tremaining: 7.61s\n",
      "845: learn: 0.2380236\ttotal: 41.5s\tremaining: 7.56s\n",
      "846: learn: 0.237637\ttotal: 41.6s\tremaining: 7.51s\n",
      "847: learn: 0.237505\ttotal: 41.6s\tremaining: 7.46s\n",
      "848: learn: 0.2374757\ttotal: 41.7s\tremaining: 7.41s\n",
      "849: learn: 0.2373164\ttotal: 41.7s\tremaining: 7.36s\n",
      "850: learn: 0.2372458\ttotal: 41.8s\tremaining: 7.32s\n",
      "851: learn: 0.2372035\ttotal: 41.8s\tremaining: 7.27s\n",
      "852: learn: 0.237052\ttotal: 41.9s\tremaining: 7.22s\n",
      "853: learn: 0.2369881\ttotal: 41.9s\tremaining: 7.17s\n",
      "854: learn: 0.2368317\ttotal: 42s\tremaining: 7.12s\n",
      "855: learn: 0.2366393\ttotal: 42s\tremaining: 7.07s\n",
      "856: learn: 0.2365155\ttotal: 42.1s\tremaining: 7.02s\n",
      "857: learn: 0.2362925\ttotal: 42.1s\tremaining: 6.97s\n",
      "858: learn: 0.2361645\ttotal: 42.2s\tremaining: 6.92s\n",
      "859: learn: 0.2360203\ttotal: 42.2s\tremaining: 6.88s\n",
      "860: learn: 0.2358072\ttotal: 42.3s\tremaining: 6.83s\n",
      "861: learn: 0.2356006\ttotal: 42.3s\tremaining: 6.78s\n",
      "862: learn: 0.2353987\ttotal: 42.4s\tremaining: 6.73s\n",
      "863: learn: 0.2352259\ttotal: 42.4s\tremaining: 6.68s\n",
      "864: learn: 0.2351253\ttotal: 42.5s\tremaining: 6.63s\n",
      "865: learn: 0.234979\ttotal: 42.5s\tremaining: 6.58s\n",
      "866: learn: 0.2348207\ttotal: 42.6s\tremaining: 6.53s\n",
      "867: learn: 0.2345643\ttotal: 42.6s\tremaining: 6.48s\n",
      "868: learn: 0.2344631\ttotal: 42.7s\tremaining: 6.43s\n",
      "869: learn: 0.2342536\ttotal: 42.7s\tremaining: 6.39s\n",
      "870: learn: 0.2340912\ttotal: 42.8s\tremaining: 6.34s\n",
      "871: learn: 0.234009\ttotal: 42.8s\tremaining: 6.29s\n",
      "872: learn: 0.233871\ttotal: 42.9s\tremaining: 6.24s\n",
      "873: learn: 0.2336193\ttotal: 42.9s\tremaining: 6.19s\n",
      "874: learn: 0.2335388\ttotal: 43s\tremaining: 6.14s\n",
      "875: learn: 0.2333967\ttotal: 43s\tremaining: 6.09s\n",
      "876: learn: 0.2331954\ttotal: 43.1s\tremaining: 6.04s\n",
      "877: learn: 0.2329307\ttotal: 43.1s\tremaining: 5.99s\n",
      "878: learn: 0.2327105\ttotal: 43.2s\tremaining: 5.94s\n",
      "879: learn: 0.2325967\ttotal: 43.2s\tremaining: 5.89s\n",
      "880: learn: 0.2324049\ttotal: 43.3s\tremaining: 5.84s\n",
      "881: learn: 0.232216\ttotal: 43.3s\tremaining: 5.79s\n",
      "882: learn: 0.2320826\ttotal: 43.3s\tremaining: 5.74s\n",
      "883: learn: 0.231772\ttotal: 43.4s\tremaining: 5.69s\n",
      "884: learn: 0.2316155\ttotal: 43.4s\tremaining: 5.64s\n",
      "885: learn: 0.2314438\ttotal: 43.5s\tremaining: 5.59s\n",
      "886: learn: 0.2312324\ttotal: 43.5s\tremaining: 5.54s\n",
      "887: learn: 0.2311809\ttotal: 43.6s\tremaining: 5.5s\n",
      "888: learn: 0.2310991\ttotal: 43.6s\tremaining: 5.45s\n",
      "889: learn: 0.2309873\ttotal: 43.7s\tremaining: 5.4s\n",
      "890: learn: 0.2307497\ttotal: 43.7s\tremaining: 5.35s\n",
      "891: learn: 0.2305951\ttotal: 43.8s\tremaining: 5.3s\n",
      "892: learn: 0.2304699\ttotal: 43.8s\tremaining: 5.25s\n",
      "893: learn: 0.2302966\ttotal: 43.9s\tremaining: 5.2s\n",
      "894: learn: 0.2301168\ttotal: 43.9s\tremaining: 5.15s\n",
      "895: learn: 0.230068\ttotal: 44s\tremaining: 5.1s\n",
      "896: learn: 0.2297774\ttotal: 44s\tremaining: 5.05s\n",
      "897: learn: 0.2295958\ttotal: 44.1s\tremaining: 5s\n",
      "898: learn: 0.2294732\ttotal: 44.1s\tremaining: 4.95s\n",
      "899: learn: 0.2293195\ttotal: 44.2s\tremaining: 4.91s\n",
      "900: learn: 0.2290613\ttotal: 44.2s\tremaining: 4.86s\n",
      "901: learn: 0.2289021\ttotal: 44.2s\tremaining: 4.81s\n",
      "902: learn: 0.2286374\ttotal: 44.3s\tremaining: 4.76s\n",
      "903: learn: 0.2285225\ttotal: 44.3s\tremaining: 4.71s\n",
      "904: learn: 0.2283501\ttotal: 44.4s\tremaining: 4.66s\n",
      "905: learn: 0.2281554\ttotal: 44.4s\tremaining: 4.61s\n",
      "906: learn: 0.2279215\ttotal: 44.5s\tremaining: 4.56s\n",
      "907: learn: 0.2277333\ttotal: 44.5s\tremaining: 4.51s\n",
      "908: learn: 0.2276253\ttotal: 44.6s\tremaining: 4.46s\n",
      "909: learn: 0.2273826\ttotal: 44.6s\tremaining: 4.41s\n",
      "910: learn: 0.2273514\ttotal: 44.7s\tremaining: 4.37s\n",
      "911: learn: 0.2271362\ttotal: 44.7s\tremaining: 4.32s\n",
      "912: learn: 0.2267935\ttotal: 44.8s\tremaining: 4.27s\n",
      "913: learn: 0.2264965\ttotal: 44.8s\tremaining: 4.22s\n",
      "914: learn: 0.2263279\ttotal: 44.9s\tremaining: 4.17s\n",
      "915: learn: 0.2262025\ttotal: 44.9s\tremaining: 4.12s\n",
      "916: learn: 0.2259083\ttotal: 45s\tremaining: 4.07s\n",
      "917: learn: 0.2257028\ttotal: 45s\tremaining: 4.02s\n",
      "918: learn: 0.2256549\ttotal: 45.1s\tremaining: 3.97s\n",
      "919: learn: 0.2254914\ttotal: 45.1s\tremaining: 3.92s\n",
      "920: learn: 0.2254623\ttotal: 45.2s\tremaining: 3.87s\n",
      "921: learn: 0.2253334\ttotal: 45.2s\tremaining: 3.82s\n",
      "922: learn: 0.2250501\ttotal: 45.3s\tremaining: 3.77s\n",
      "923: learn: 0.2249293\ttotal: 45.3s\tremaining: 3.73s\n",
      "924: learn: 0.2246773\ttotal: 45.3s\tremaining: 3.68s\n",
      "925: learn: 0.2245756\ttotal: 45.4s\tremaining: 3.63s\n",
      "926: learn: 0.2245371\ttotal: 45.4s\tremaining: 3.58s\n",
      "927: learn: 0.2242795\ttotal: 45.5s\tremaining: 3.53s\n",
      "928: learn: 0.2240881\ttotal: 45.5s\tremaining: 3.48s\n",
      "929: learn: 0.2238031\ttotal: 45.6s\tremaining: 3.43s\n",
      "930: learn: 0.2235966\ttotal: 45.6s\tremaining: 3.38s\n",
      "931: learn: 0.2235091\ttotal: 45.7s\tremaining: 3.33s\n",
      "932: learn: 0.223448\ttotal: 45.7s\tremaining: 3.28s\n",
      "933: learn: 0.2232871\ttotal: 45.8s\tremaining: 3.23s\n",
      "934: learn: 0.2231485\ttotal: 45.8s\tremaining: 3.19s\n",
      "935: learn: 0.2230233\ttotal: 45.9s\tremaining: 3.14s\n",
      "936: learn: 0.2229809\ttotal: 45.9s\tremaining: 3.09s\n",
      "937: learn: 0.2227224\ttotal: 46s\tremaining: 3.04s\n",
      "938: learn: 0.2225769\ttotal: 46s\tremaining: 2.99s\n",
      "939: learn: 0.2224174\ttotal: 46.1s\tremaining: 2.94s\n",
      "940: learn: 0.2223087\ttotal: 46.1s\tremaining: 2.89s\n",
      "941: learn: 0.2220788\ttotal: 46.2s\tremaining: 2.84s\n",
      "942: learn: 0.2219972\ttotal: 46.2s\tremaining: 2.79s\n",
      "943: learn: 0.2218507\ttotal: 46.3s\tremaining: 2.74s\n",
      "944: learn: 0.2216281\ttotal: 46.3s\tremaining: 2.69s\n",
      "945: learn: 0.2214233\ttotal: 46.4s\tremaining: 2.65s\n",
      "946: learn: 0.2212439\ttotal: 46.4s\tremaining: 2.6s\n",
      "947: learn: 0.2211194\ttotal: 46.5s\tremaining: 2.55s\n",
      "948: learn: 0.221047\ttotal: 46.5s\tremaining: 2.5s\n",
      "949: learn: 0.2208846\ttotal: 46.6s\tremaining: 2.45s\n",
      "950: learn: 0.2207066\ttotal: 46.6s\tremaining: 2.4s\n",
      "951: learn: 0.2205177\ttotal: 46.6s\tremaining: 2.35s\n",
      "952: learn: 0.2202886\ttotal: 46.7s\tremaining: 2.3s\n",
      "953: learn: 0.2202192\ttotal: 46.7s\tremaining: 2.25s\n",
      "954: learn: 0.2201399\ttotal: 46.8s\tremaining: 2.2s\n",
      "955: learn: 0.2199405\ttotal: 46.8s\tremaining: 2.15s\n",
      "956: learn: 0.2197283\ttotal: 46.9s\tremaining: 2.11s\n",
      "957: learn: 0.2196146\ttotal: 46.9s\tremaining: 2.06s\n",
      "958: learn: 0.2194339\ttotal: 47s\tremaining: 2.01s\n",
      "959: learn: 0.2193091\ttotal: 47s\tremaining: 1.96s\n",
      "960: learn: 0.2191245\ttotal: 47.1s\tremaining: 1.91s\n",
      "961: learn: 0.2189819\ttotal: 47.1s\tremaining: 1.86s\n",
      "962: learn: 0.2188169\ttotal: 47.2s\tremaining: 1.81s\n",
      "963: learn: 0.2187129\ttotal: 47.2s\tremaining: 1.76s\n",
      "964: learn: 0.2185608\ttotal: 47.3s\tremaining: 1.71s\n",
      "965: learn: 0.2185229\ttotal: 47.3s\tremaining: 1.66s\n",
      "966: learn: 0.2184436\ttotal: 47.4s\tremaining: 1.62s\n"
     ]
    },
    {
     "name": "stdout",
     "output_type": "stream",
     "text": [
      "967: learn: 0.2183514\ttotal: 47.4s\tremaining: 1.57s\n",
      "968: learn: 0.2182689\ttotal: 47.4s\tremaining: 1.52s\n",
      "969: learn: 0.2182277\ttotal: 47.5s\tremaining: 1.47s\n",
      "970: learn: 0.2179435\ttotal: 47.5s\tremaining: 1.42s\n",
      "971: learn: 0.2177933\ttotal: 47.6s\tremaining: 1.37s\n",
      "972: learn: 0.2176615\ttotal: 47.6s\tremaining: 1.32s\n",
      "973: learn: 0.217585\ttotal: 47.7s\tremaining: 1.27s\n",
      "974: learn: 0.2174664\ttotal: 47.8s\tremaining: 1.23s\n",
      "975: learn: 0.2173021\ttotal: 47.8s\tremaining: 1.18s\n",
      "976: learn: 0.2171223\ttotal: 47.9s\tremaining: 1.13s\n",
      "977: learn: 0.2168279\ttotal: 47.9s\tremaining: 1.08s\n",
      "978: learn: 0.2167776\ttotal: 48s\tremaining: 1.03s\n",
      "979: learn: 0.2167065\ttotal: 48s\tremaining: 980ms\n",
      "980: learn: 0.2166089\ttotal: 48.1s\tremaining: 931ms\n",
      "981: learn: 0.2163266\ttotal: 48.1s\tremaining: 882ms\n",
      "982: learn: 0.2162313\ttotal: 48.2s\tremaining: 833ms\n",
      "983: learn: 0.2159851\ttotal: 48.2s\tremaining: 784ms\n",
      "984: learn: 0.2158381\ttotal: 48.3s\tremaining: 735ms\n",
      "985: learn: 0.2156746\ttotal: 48.3s\tremaining: 686ms\n",
      "986: learn: 0.2156402\ttotal: 48.4s\tremaining: 637ms\n",
      "987: learn: 0.215492\ttotal: 48.4s\tremaining: 588ms\n",
      "988: learn: 0.215365\ttotal: 48.4s\tremaining: 539ms\n",
      "989: learn: 0.2153247\ttotal: 48.5s\tremaining: 490ms\n",
      "990: learn: 0.215204\ttotal: 48.5s\tremaining: 441ms\n",
      "991: learn: 0.2150415\ttotal: 48.6s\tremaining: 392ms\n",
      "992: learn: 0.215014\ttotal: 48.6s\tremaining: 343ms\n",
      "993: learn: 0.2149773\ttotal: 48.7s\tremaining: 294ms\n",
      "994: learn: 0.2149043\ttotal: 48.7s\tremaining: 245ms\n",
      "995: learn: 0.2148195\ttotal: 48.8s\tremaining: 196ms\n",
      "996: learn: 0.2147496\ttotal: 48.8s\tremaining: 147ms\n",
      "997: learn: 0.2146227\ttotal: 48.9s\tremaining: 98ms\n",
      "998: learn: 0.2145381\ttotal: 48.9s\tremaining: 49ms\n",
      "999: learn: 0.2144946\ttotal: 49s\tremaining: 0us\n"
     ]
    }
   ],
   "source": [
    "clf = CatBoostClassifier().fit(X, y)"
   ]
  },
  {
   "cell_type": "code",
   "execution_count": 544,
   "metadata": {
    "scrolled": false
   },
   "outputs": [
    {
     "name": "stdout",
     "output_type": "stream",
     "text": [
      "Confusion Matrix:\n",
      "[[5083  193]\n",
      " [2256  612]]\n",
      "\n",
      "\n",
      "ROC_AUC:  0.5884041891759003\n",
      "Gini:  0.17680837835180063\n",
      "F1_score:  0.33324258099646065\n",
      "\n",
      "\n",
      "Classification_report: \n",
      "              precision    recall  f1-score   support\n",
      "\n",
      "        0.0       0.69      0.96      0.81      5276\n",
      "        1.0       0.76      0.21      0.33      2868\n",
      "\n",
      "avg / total       0.72      0.70      0.64      8144\n",
      "\n",
      "\n",
      "\n"
     ]
    },
    {
     "data": {
      "image/png": "[encoded data removed]",
      "text/plain": [
       "<matplotlib.figure.Figure at 0x2d83088b278>"
      ]
     },
     "metadata": {},
     "output_type": "display_data"
    },
    {
     "data": {
      "image/png": "[encoded data removed]",
      "text/plain": [
       "<matplotlib.figure.Figure at 0x2d884b32710>"
      ]
     },
     "metadata": {},
     "output_type": "display_data"
    }
   ],
   "source": [
    "#IDF.plot_score(gs, X_test, y_test)\n",
    "IDF.plot_score(clf, X_test, y_test)"
   ]
  },
  {
   "cell_type": "code",
   "execution_count": 80,
   "metadata": {
    "collapsed": true
   },
   "outputs": [],
   "source": [
    "joblib.dump(clf, 'BR_DD_alg.pkl');"
   ]
  },
  {
   "cell_type": "code",
   "execution_count": 545,
   "metadata": {
    "collapsed": true
   },
   "outputs": [],
   "source": [
    "df_test['prediction_proba'] = clf.predict_proba(X_test)[:,1]\n",
    "writer = pd.ExcelWriter('V1_BR_DD.xlsx')\n",
    "df_test[['amount','success', 'prediction_proba']].to_excel(writer,'BR_DD_TEST_DATA', index=False)\n",
    "writer.save()"
   ]
  },
  {
   "cell_type": "code",
   "execution_count": 554,
   "metadata": {},
   "outputs": [
    {
     "name": "stdout",
     "output_type": "stream",
     "text": [
      "             precision    recall  f1-score   support\n",
      "\n",
      "          0       0.34      0.98      0.51      2545\n",
      "          1       0.95      0.14      0.24      5599\n",
      "\n",
      "avg / total       0.76      0.40      0.32      8144\n",
      "\n"
     ]
    }
   ],
   "source": [
    "#df_test\n",
    "print (classification_report(pd.Series(clf.predict_proba(X_test)[:,1]).apply(lambda x: 1 if x>0.1 else 0), y_test))"
   ]
  },
  {
   "cell_type": "markdown",
   "metadata": {},
   "source": [
    "# Clusters"
   ]
  },
  {
   "cell_type": "code",
   "execution_count": 45,
   "metadata": {},
   "outputs": [
    {
     "name": "stdout",
     "output_type": "stream",
     "text": [
      "Wall time: 2min 41s\n"
     ]
    }
   ],
   "source": [
    "%%time\n",
    "df = pd.read_sql('''\n",
    "SELECT\n",
    "    c.id AS credit_id,    \n",
    "    ibat.*\n",
    "FROM br_release_moneyman.credit c\n",
    "    INNER JOIN br_release_moneyman.credit_risk_filter crf\n",
    "        ON crf.credit_id = c.id\n",
    "    INNER JOIN br_release_moneyman.instantor_bank_account iba\n",
    "        ON iba.instantor_user_details_id = crf.instantor_user_details_id\n",
    "    INNER JOIN br_release_moneyman.instantor_bank_account_transaction ibat\n",
    "        ON ibat.instantor_bank_account_id = iba.id\n",
    "WHERE c.date_requested>'2017-01-01'\n",
    "''', con=con())"
   ]
  },
  {
   "cell_type": "code",
   "execution_count": 46,
   "metadata": {
    "collapsed": true
   },
   "outputs": [],
   "source": [
    "def clusters(x):\n",
    "    if x.find('ENCARGOS') != -1 or x.find('Enc') != -1  or x.find('ITAU') != -1  and x.find('SOB') != -1  or x.find('SOB') != -1  and x.find('MED') != -1  or x.find('SOB') != -1  and x.find('MEDIDA-MULTA') != -1: \n",
    "        d = 'BANK CHARGES'\n",
    "    elif x.find('LIS') != -1 or x.find('LIS/JUROS') != -1 or x.find('RECUPERACAO') != -1:\n",
    "        d = 'BANK INTERESTS'\n",
    "    elif x.find('DEB') != -1 and x.find('CESTA') != -1 or x.find('Tarifa') != -1 or x.find('TARIFA') != -1 or x.find('TAR') != -1 or x.find('Taxa') != -1 or x.find('Histórico') != -1 and x.find('Tarifa') != -1 or x.find('Histórico') != -1 and x.find('Tar') != -1 or x.find('Histórico') != -1 and x.find('Serviços') != -1 or x.find('Cart') != -1 or x.find('ANUIDADE') != -1:\n",
    "        d = 'BANK TAXES'\n",
    "    elif x.find('DEBITO') != -1 and x.find('AUTOM') != -1 or x.find('DEBITO') != -1 and x.find('AUT') != -1 or x.find('AUT.') != -1 and x.find('DEBITO') != -1 or x.find('DB') != -1 and x.find('AT') != -1:\n",
    "        d = 'DIRECT DEBIT'\n",
    "    elif x.find('DEBITO') != -1 and x.find('AUTOM') != -1 and x.find('EMPRESAS') != -1 and x.find('CONVENIADAS') != -1 and x.find('CREFISA') != -1:\n",
    "        d = 'DIRECT DEBIT CREFISA'\n",
    "    elif x.find('DEBITO') != -1 and x.find('AUTOM') != -1 and x.find('EMPRESAS') != -1 and x.find('CONVENIADAS') != -1 and x.find('SOROCRED') != -1:\n",
    "        d = 'DIRECT DEBIT SOROCRED'\n",
    "    elif x.find('CX.SEGUROS') != -1 or x.find('DEB') != -1 and x.find('AUTOR') != -1 and (x.find('PORTO') != -1 or x.find('LIBERTY') != -1 or x.find('TOKIO') != -1 or x.find('SUL') != -1 or x.find('MITSUI') != -1 or x.find('AZUL') != -1 or x.find('PORTOSEGMONITO') != -1) or x.find('MENSALIDADE') != -1 and x.find('SEGURO') != -1 or x.find('PGTO') != -1 and x.find('PROTECAO') != -1 or x.find('Seg') != -1 or x.find('SEGURO') != -1:\n",
    "        d = 'INSURANCE'\n",
    "    elif x.find('CEP') != -1 or x.find('CEP/JUROS') != -1 or x.find('DEB.JUROS') != -1 or x.find('JUROS') != -1 or x.find('Mora') != -1 or x.find('MULTA') != -1:\n",
    "        d = 'INTERESTS'\n",
    "    elif x.find('APL') != -1 or x.find('Apl.invest') != -1 or x.find('APLIC') != -1 or x.find('Aplic.em') != -1 and x.find('Papeis') != -1 or x.find('APLICACAO') != -1 or x.find('DEB') != -1 and x.find('CDC') != -1 or x.find('DEBITO') != -1 and x.find('CAPITALIZACAO') != -1 or x.find('Histórico') != -1 and x.find('Ourocap') != -1 or x.find('Histórico') != -1 and x.find('Aplicação') != -1 or x.find('PIC') != -1 or x.find('PREMIO') != -1 and x.find('VGBL') != -1 or x.find('PREST') != -1 and x.find('CDC') != -1:\n",
    "        d = 'INVESTMENT'\n",
    "    elif x.find('DEB.IOF') != -1 or x.find('Histórico') != -1 and x.find('I.O.F.') != -1 or x.find('IOF') != -1:\n",
    "        d = 'IOF'\n",
    "    elif x.find('Pagto') != -1 and x.find('Cobranca') != -1 and x.find('Agiplan') != -1:\n",
    "        d = 'LOAN AGIPLAN'\n",
    "    elif x.find('Bx.ant.fin/emp') != -1 or x.find('LIQUIDACAO') != -1 or x.find('Histórico') != -1  and x.find('Empréstimo') != -1 or x.find('EMPRESTIMO') != -1 and x.find('CONSIGNADO') != -1 or x.find('CREDITO') != -1 and x.find('CONSIGNADO') != -1 or x.find('PARCELA') != -1 and x.find('CONSIGNADO') != -1 or x.find('PREST') != -1 and x.find('EMPREST') != -1 or x.find('PREST') != -1 and x.find('EMPR') != -1 or x.find('PREST') != -1 and x.find('HAB') != -1 or x.find('PREST') != -1 and x.find('EMPRESTIMOS/FINANCIAMENTOS') != -1 or x.find('DEB') != -1 and x.find('AUTOR') != -1 and x.find('CETELEM') != -1 or x.find('Pagto') != -1 and x.find('Cobranca') != -1 and x.find('Acordo') != -1 and x.find('Cetelem') != -1:\n",
    "        d = 'LOAN BANK'\n",
    "    elif x.find('Histórico') != -1 and x.find('BV') != -1:\n",
    "        d = 'LOAN BV'\n",
    "    elif x.find('Pagto') != -1 and x.find('Cobranca') != -1 and x.find('Crefisa') != -1 or x.find('DB') != -1 and x.find('CREFISA') != -1 or x.find('DEB') != -1 and x.find('AUTOR') != -1 and x.find('CREFISA') != -1 or x.find('Crefisa') != -1:\n",
    "        d = 'LOAN CREFISA'   \n",
    "    elif x.find('Pagto') != -1 and x.find('Cobranca') != -1 and x.find('Geru') != -1 or x.find('Geru') != -1:\n",
    "        d = 'LOAN GERU'  \n",
    "    elif x.find('Pagto') != -1 and x.find('Cobranca') != -1 and x.find('Jbcred') != -1 or x.find('Jbcred') != -1:\n",
    "        d = 'LOAN JBCRED'   \n",
    "    elif x.find('Pagto') != -1 and x.find('Cobranca') != -1 and x.find('Omni') != -1 or x.find('Omni') != -1:\n",
    "        d = 'LOAN OMNI'   \n",
    "    elif x.find('Pagto') != -1 and x.find('Cobranca') != -1 and x.find('Simplic') != -1 or x.find('Simplic') != -1:\n",
    "        d = 'LOAN SIMPLIC' \n",
    "    elif x.find('Pagto') != -1 and x.find('Cobranca') != -1  and x.find('Sorocred') != -1  or x.find('DEB') != -1  and x.find('AUTOR') != -1  and x.find('SOROCRED') != -1  or x.find('Sorocred') != -1:\n",
    "        d = 'LOAN SOROCRED'\n",
    "    elif x.find('PAGAMENTO') != -1  and x.find('CONTA') != -1  and x.find('CELULAR') != -1 :\n",
    "        d = 'MOBILE BILL'\n",
    "    elif x.find('Pague') != -1  and x.find('Recarga') != -1  or x.find('RECARGA') != -1 :\n",
    "        d = 'MOBILE CREDITS'\n",
    "    elif x.find('Prev-seg.vida') != -1  or x.find('DEBITO') != -1  and x.find('PREVIDENCIA') != -1 :\n",
    "        d = 'RETIRENMENT'\n",
    "    elif x.find('Histórico') != -1  and x.find('Aplicação') != -1  and x.find('Poupança') != -1  or x.find('APLIC') != -1  and x.find('POUP') != -1  or x.find('TRANSFERENCIA') != -1  and x.find('POUPANCA') != -1 :\n",
    "        d = 'SAVINGS'\n",
    "    elif x.find('DOC') != -1 or x.find('DOC/TED') != -1 or x.find('Doc/tedinternet') != -1 or x.find('EMISSAO') != -1  and x.find('DE') != -1  and x.find('DOC') != -1  or x.find('ENVIO') != -1  and x.find('TED') != -1  or x.find('Histórico') != -1  and x.find('TRANSF.RECURSO') != -1  or x.find('TBI') != -1  or x.find('TED') != -1  or x.find('Ted-e') != -1  or x.find('Ted-t') != -1 or x.find('TEF') != -1  or x.find('TEL') != -1  and x.find('TED') != -1  or x.find('TEV') != -1  and x.find('MESM') != -1  or x.find('TRANSF.RECURSO(E/') != -1  or x.find('TRANSF') != -1  or x.find('TRANSFERENCIA') != -1:\n",
    "        d = 'TRANSFER'\n",
    "    elif x.find('DEBITO') != -1 and x.find('VALE-TRANSPORTE') != -1:\n",
    "        d = 'TRANSPORT'\n",
    "    elif x.find('SAQUE') != -1  or x.find('SAQUETERMINAL') != -1  or x.find('ENVIO') != -1  and x.find('TEV') != -1  or x.find('CP') != -1  and x.find('ELECTRO') != -1  or x.find('SAQUECORRESPONDEN') != -1  or x.find('RETIRADA') != -1  or x.find('SQ') != -1  and x.find('CX') != -1  or x.find('SAQ') != -1  or x.find('RECIBO') != -1  and x.find('RETIRADA') != -1  or x.find('SAQUEPESSOAL') != -1  or x.find('CXE') != -1  and x.find('SAQUE') != -1  or x.find('Histórico') != -1  and x.find('Banco') != -1  and x.find('24') != -1 :\n",
    "        d = 'WITHDRAWAL'\n",
    "    #end of negative\n",
    "    elif x.find('BOLSA') != -1 and x.find('FAMI') != -1:\n",
    "        d = 'BOLSA FAMILIA'\n",
    "    elif x.find('ESTORNO') != -1 or x.find('Histórico') != -1 and x.find('Estorno') != -1 or x.find('EST') != -1 or x.find('DOC') != -1 and x.find('DEVOLVIDO') != -1 or x.find('DEVOLUCAO') != -1 or x.find('DEVOL.') != -1 or x.find('DEVOLUC') != -1:\n",
    "        d = 'CHARGEBACK'\n",
    "    elif x.find('CHEQUE') != -1 and x.find('DEVOLVIDO') != -1 or x.find('Histórico') != -1 and x.find('Cheque') != -1 and x.find('Devolv') != -1 or x.find('Dev') != -1 and x.find('ch') != -1 or x.find('CH') != -1 and x.find('DEV') != -1 or x.find('DEV') != -1 and x.find('SEM') != -1 and x.find('FUNDOS') != -1:\n",
    "        d = 'CHECK RETURN'\n",
    "    elif x.find('dp') != -1 or x.find('depósito') != -1 or x.find('DEP') != -1  or x.find('Dep') != -1 or x.find('CEI') != -1 and x.find('DINHEIRO') != -1 or x.find('Dep') != -1 and x.find('Dinheiro') != -1 or x.find('Dep') != -1 and x.find('c/c') != -1 or x.find('DEP.DINH.') != -1 or x.find('Depos') != -1 or x.find('DEPOSITO') != -1 or x.find('Deposito') != -1 or x.find('DP') != -1 or x.find('TEC') != -1 and x.find('DEP') != -1 or x.find('TEC') != -1 and x.find('DEPOSITO') != -1 or x.find('DEPOSITO') != -1 and x.find('DINHEIRO') != -1:\n",
    "        d = 'DEPOSIT'\n",
    "    elif x.find('CRED') != -1 and x.find('FGTS') != -1 or x.find('PAGAMENTO') != -1 and x.find('BENEFICIOS') != -1 or x.find('Histórico') != -1 and x.find('Resgate') != -1 and x.find('Fundo') != -1:\n",
    "        d = 'FGTS'\n",
    "    elif x.find('CRED') != -1 and x.find('INSS') != -1 or x.find('Credito') != -1 and x.find('Inss') != -1:\n",
    "        d = 'INSS'\n",
    "    elif x.find('CRED') != -1 and x.find('JUROS') != -1:\n",
    "        d = 'INTERESTS RETURN'\n",
    "    elif x.find('FT') != -1 or x.find('PIC') != -1 or x.find('REND') != -1 or x.find('RES') != -1 or x.find('Resg.mer.aberto') != -1 or x.find('Resg.tit.capit.') != -1 or x.find('RESGATE') != -1 or x.find('Resgate') != -1 or x.find('REMUNERACAO') != -1 and x.find('CONTAMAX') != -1 or x.find('Resg') != -1 and x.find('Invest') != -1 or x.find('Resg') != -1 and x.find('Investplus') != -1:\n",
    "        d = 'INVESTMENT'\n",
    "    elif x.find('TED') != -1 and x.find('Alfa') != -1 or x.find('Alfa') != -1:\n",
    "        d = 'LOAN ALFA'\n",
    "    elif x.find('CONTRATACAO') != -1 or x.find('EMPR') != -1 or x.find('Emprest') != -1 or x.find('REST') != -1 or x.find('SOB') != -1 or x.find('CRED') != -1 and x.find('EMPR') != -1 or x.find('CREDITO') != -1 and x.find('CONTRATADO') != -1 or x.find('CREDITO') != -1 and x.find('CONSIGNADO') != -1 or x.find('CREDITO') != -1 and x.find('ITAUCOR') != -1:\n",
    "        d = 'LOAN BANK'\n",
    "    elif x.find('TED') != -1 and x.find('BV') != -1 or x.find('TED') != -1 and x.find('655.0001BV') != -1 or x.find('BV') != -1:\n",
    "        d = 'LOAN BV'\n",
    "    elif x.find('TED') != -1 and x.find('CETELEM') != -1 or x.find('CETELEM') != -1:\n",
    "        d = 'LOAN CETELEM'\n",
    "    elif x.find('TED') != -1 and x.find('COOPERATIVA') != -1:\n",
    "        d = 'LOAN COOP'\n",
    "    elif x.find('TED') != -1 and x.find('CREFISA') != -1 or x.find('CREFISA') != -1:\n",
    "        d = 'LOAN CREFISA'\n",
    "    elif x.find('TED') != -1 and x.find('JBCRED') != -1:\n",
    "        d = 'LOAN JBCRED'\n",
    "    elif x.find('TED') != -1 and x.find('LECCA') != -1 or x.find('LECCA') != -1:\n",
    "        d = 'LOAN LECCA'\n",
    "    elif x.find('TED') != -1 and x.find('OMNI') != -1 or x.find('OMNI') != -1:\n",
    "        d = 'LOAN OMNI'\n",
    "    elif x.find('SISPAG') != -1 and x.find('SOCINAL') != -1 or x.find('SOCINAL') != -1:\n",
    "        d = 'LOAN SOCINAL'\n",
    "    elif x.find('SISPAG') != -1 and x.find('SOROCRED') != -1 or x.find('SOROCRED') != -1 or x.find('Sorocred') != -1 or x.find('Receb') != -1 and x.find('Sorocred') != -1:\n",
    "        d = 'LOAN SOROCRED'\n",
    "    elif x.find('Brad') != -1 or x.find('CAIXA') != -1 and x.find('PREV') != -1 or x.find('CREDITO') != -1 and x.find('PREVIDENCIA') != -1 or x.find('Histórico') != -1 and x.find('Brasilprev') != -1 or x.find('Histórico') != -1 and x.find('PREVI') != -1 or x.find('Histórico') != -1 and x.find('PREVIDENCIA') != -1:\n",
    "        d = 'RETIRENMENT'\n",
    "    elif x.find('Trans Sal') != -1 or x.find('Ted Csal') != -1 or x.find('SALARIO') != -1 or x.find('ADIANTAMENTO') != -1 and x.find('SALARIO') != -1   or x.find('CONSOLIDACAO') != -1   and x.find('SALARIO') != -1   or x.find('Cred') != -1   and x.find('Salario') != -1   or x.find('Credt') != -1   and x.find('Salario') != -1   or x.find('CT') != -1   and x.find('SALARIO') != -1   or x.find('PAGTO') != -1   and x.find('SALARIO') != -1   or x.find('TEC') != -1   and x.find('SALARIO') != -1   or x.find('REMUNERACAO/SALARIO') != -1   or x.find('LIQUIDO') != -1   and x.find('VENCIMENTO') != -1   or x.find('PAGTO') != -1   and x.find('ADIANT') != -1   or x.find('FOLHA') != -1:\n",
    "        d = 'SALARY'\n",
    "    elif x.find('bx') != -1 or x.find('Histórico') != -1and x.find('Resgate') != -1  and x.find('Poupança') != -1  or x.find('Histórico') != -1  and x.find('Resgate') != -1  and x.find('Fundo') != -1  or x.find('INT') != -1  and x.find('RESGATE') != -1  or x.find('REM') != -1  and x.find('BASICA') != -1  or x.find('REMUNER') != -1  and x.find('BASICA') != -1  or x.find('Rendimentos') != -1  and x.find('Poup') != -1  or x.find('RESG') != -1  and x.find('POUP') != -1  or x.find('Resgate') != -1  and x.find('Fundos') != -1:\n",
    "        d = 'SAVINGS'\n",
    "    elif x.find('CRED') != -1 and x.find('TED') != -1 or x.find('DOC') != -1 and x.find('ELET') != -1 or x.find('TBI') != -1 or x.find('TRANSFERENCIA') != -1  or x.find('Transf') != -1  or x.find('AG.') != -1  and x.find('TEF') != -1  or x.find('CEI') != -1  and x.find('TEF') != -1  or x.find('CXE') != -1  and x.find('TEF') != -1  or x.find('DEC') != -1  and x.find('TEF') != -1  or x.find('Deb') != -1  and x.find('Transf') != -1  or x.find('DI') != -1  and x.find('DIN') != -1  or x.find('DOC') != -1  and x.find('RECEBIDO-TIT') != -1  or x.find('Doc') != -1  and x.find('Cred') != -1  or x.find('Doc') != -1  and x.find('Cred.autom*') != -1:\n",
    "        d = 'TRANSFER'\n",
    "    elif x.find('PARSEG-DES') != -1:\n",
    "        d = 'UNEMPLOYMENT SUBSIDARY'\n",
    "    #I made:\n",
    "    elif x.find('CRED') != -1 or x.find('CRED TEV') != -1 or x.find('Crédito') != -1:\n",
    "        d = 'Credit'\n",
    "    elif x.find('CREDIARIO') != -1 or x.find('Estorno de Débito') != -1 or x.find('PAGTO DEV_CONTR') != -1:\n",
    "        d = 'Refund' \n",
    "    elif x.find('Depósito Online') != -1:\n",
    "        d = 'Deposit Online'\n",
    "    elif x.find('FUND.COORD.DE') != -1:\n",
    "        d = 'Student scholarship'  \n",
    "    elif x.find('COMPRA INTER') != -1:\n",
    "        d = 'International purchase' \n",
    "    elif x.find('fake transaction') != -1 or x.find('Histórico: Saldo Anterior, Documento: null') != -1 or x.find('INT PRE-PAGOXXXXX') != -1 or x.find('INT PAG TIT') != -1:\n",
    "        d = 'Error'   \n",
    "    else:\n",
    "        d = 'Other'\n",
    "    return d "
   ]
  },
  {
   "cell_type": "code",
   "execution_count": 47,
   "metadata": {
    "scrolled": true
   },
   "outputs": [
    {
     "name": "stdout",
     "output_type": "stream",
     "text": [
      "Wall time: 3min 35s\n"
     ]
    }
   ],
   "source": [
    "%%time\n",
    "df.description = df.description.map(lambda x: x.replace('Description:', ' '))\n",
    "df['cluster'] = df['description'].apply(lambda x: clusters(x))"
   ]
  },
  {
   "cell_type": "code",
   "execution_count": 48,
   "metadata": {
    "collapsed": true
   },
   "outputs": [],
   "source": [
    "df_aft_clust = df.copy()"
   ]
  },
  {
   "cell_type": "code",
   "execution_count": 49,
   "metadata": {
    "collapsed": true
   },
   "outputs": [],
   "source": [
    "#with date of request\n",
    "df['day_of_month_of_tr'] = df.date.map(lambda x: x.day)\n",
    "df['day_of_week_of_tr'] = df.date.map(lambda x: x.weekday())\n",
    "df['isweekday'] = df.day_of_week_of_tr.map(lambda x: 1 if x==5 or x==6 else 0)"
   ]
  },
  {
   "cell_type": "code",
   "execution_count": 50,
   "metadata": {
    "collapsed": true
   },
   "outputs": [],
   "source": [
    "salaries = df[(df.cluster=='SALARY') & (df.amount>=150)][['credit_id', 'day_of_month_of_tr']].drop_duplicates()\n",
    "salaries['day_of_month_of_tr'] = salaries['day_of_month_of_tr'].map(lambda x: str(x)+',')\n",
    "salaries['salarie_dates'] = salaries.groupby(['credit_id'])['day_of_month_of_tr'].transform('sum')\n",
    "salaries = salaries[['credit_id', 'salarie_dates']].drop_duplicates()"
   ]
  },
  {
   "cell_type": "code",
   "execution_count": 51,
   "metadata": {
    "collapsed": true
   },
   "outputs": [],
   "source": [
    "df['max_sum'] = df.groupby(['credit_id'])['amount'].transform('max')\n",
    "day_of_sal = df[df.max_sum==df.amount][['credit_id', 'day_of_month_of_tr']]\n",
    "day_of_sal = day_of_sal.rename(columns={'day_of_month_of_tr':'day_of_max_trans'})"
   ]
  },
  {
   "cell_type": "code",
   "execution_count": 52,
   "metadata": {
    "collapsed": true
   },
   "outputs": [],
   "source": [
    "df.drop(['day_of_month_of_tr','day_of_week_of_tr','isweekday'], axis=1, inplace=True)"
   ]
  },
  {
   "cell_type": "markdown",
   "metadata": {},
   "source": [
    "# 2nd processing"
   ]
  },
  {
   "cell_type": "code",
   "execution_count": 53,
   "metadata": {
    "collapsed": true
   },
   "outputs": [],
   "source": [
    "#delete shit\n",
    "df = df[df.cluster!='Error']\n",
    "df.index = range(len(df.index))"
   ]
  },
  {
   "cell_type": "markdown",
   "metadata": {},
   "source": [
    "## feature generation"
   ]
  },
  {
   "cell_type": "code",
   "execution_count": 54,
   "metadata": {
    "scrolled": true
   },
   "outputs": [
    {
     "name": "stdout",
     "output_type": "stream",
     "text": [
      "Wall time: 2min 10s\n"
     ]
    }
   ],
   "source": [
    "%%time\n",
    "#dates\n",
    "df['min_date_month'] = df.groupby(['credit_id'])['date'].transform('min').apply(lambda x: x.month)\n",
    "df['max_date_month'] = df.groupby(['credit_id'])['date'].transform('max').apply(lambda x: x.month)\n",
    "df['min_date_day'] = df.groupby(['credit_id'])['date'].transform('min').apply(lambda x: x.day)\n",
    "df['max_date_day'] = df.groupby(['credit_id'])['date'].transform('max').apply(lambda x: x.day)\n",
    "df['min_date_year'] = df.groupby(['credit_id'])['date'].transform('min').apply(lambda x: x.year)\n",
    "df['max_date_year'] = df.groupby(['credit_id'])['date'].transform('max').apply(lambda x: x.year)\n",
    "\n",
    "df['count_transactions'] = df.groupby(['credit_id'])['credit_id'].transform('count')\n",
    "#df['count_distinct_clusters'] = df.groupby(['credit_id'])['cluster'].transform('count').nunique()\n",
    "#df['count_dates'] = df.groupby(['credit_id'])['date'].transform('count')\n",
    "\n",
    "#amount \n",
    "df['mean_amount'] = df.groupby(['credit_id'])['amount'].transform('mean')\n",
    "df['min_amount'] = df.groupby(['credit_id'])['amount'].transform('min')\n",
    "df['max_amount'] = df.groupby(['credit_id'])['amount'].transform('max')\n",
    "df['median_amount'] = df.groupby(['credit_id'])['amount'].transform('median')\n",
    "df['sum_amount'] = df.groupby(['credit_id'])['amount'].transform('sum')\n",
    "df['amount_type'] = df.amount.apply(lambda x: 1 if x>0 else 0)\n",
    "df['amount_count_pos'] = df.groupby(['credit_id'])['amount_type'].transform('sum')\n",
    "df['amount_count_neg'] = df['count_transactions'] - df['amount_count_pos']\n",
    "df.drop('amount_type', axis = 1, inplace = True)\n",
    "#balance\n",
    "df['mean_balance'] = df.groupby(['credit_id'])['balance'].transform('mean')\n",
    "df['min_balance'] = df.groupby(['credit_id'])['balance'].transform('min')\n",
    "df['max_balance'] = df.groupby(['credit_id'])['balance'].transform('max')\n",
    "df['median_balance'] = df.groupby(['credit_id'])['balance'].transform('median')\n",
    "df['sum_balance'] = df.groupby(['credit_id'])['balance'].transform('sum')\n",
    "df['balance_type'] = df.balance.apply(lambda x: 1 if x>0 else 0)\n",
    "df['balance_count_pos'] = df.groupby(['credit_id'])['balance_type'].transform('sum')\n",
    "df['balance_count_neg'] = df['count_transactions'] - df['balance_count_pos']\n",
    "df.drop('balance_type', axis = 1, inplace = True)\n",
    "\n",
    "df['balance_type'] = df['amount'].map(lambda x: 'pos' if x > 0 else 'neg' )"
   ]
  },
  {
   "cell_type": "markdown",
   "metadata": {},
   "source": [
    "# Work with all features and concat them"
   ]
  },
  {
   "cell_type": "markdown",
   "metadata": {},
   "source": [
    "## start with generated features"
   ]
  },
  {
   "cell_type": "code",
   "execution_count": 55,
   "metadata": {
    "collapsed": true
   },
   "outputs": [],
   "source": [
    "#делаем уникальные по каждому кредиту\n",
    "df['date_day'] = df.date.apply(lambda x: x.day)\n",
    "df1 = df.drop(['id', 'date', 'description', 'amount', 'balance', \n",
    "                'cluster', 'balance_type','date_day', 'instantor_bank_account_id'], axis = 1)\n",
    "df1 = df1.drop_duplicates().reset_index().drop('index', axis = 1).set_index('credit_id')"
   ]
  },
  {
   "cell_type": "code",
   "execution_count": 56,
   "metadata": {
    "collapsed": true
   },
   "outputs": [],
   "source": [
    "#count distinct dates\n",
    "df1['count_distinct_dates'] = df.groupby('credit_id').agg({'date_day': 'nunique'})\n",
    "#count distinct clusteдаrs\n",
    "df1['count_distinct_clusters'] = df.groupby('credit_id').agg({'cluster': 'nunique'})\n",
    "#all descr grouped by credit_id\n",
    "#df1['all_desc'] = df.groupby('credit_id').agg({'description': 'sum'}).description.map(lambda x: \" \".join(x.split()))"
   ]
  },
  {
   "cell_type": "markdown",
   "metadata": {},
   "source": [
    "## make transposed with transactions by amount and type features and work with them"
   ]
  },
  {
   "cell_type": "code",
   "execution_count": 57,
   "metadata": {
    "collapsed": true
   },
   "outputs": [],
   "source": [
    "def transponir_new(df):\n",
    "        #columns pos\n",
    "        poscols = ['credit_id','BANK CHARGES', 'BANK INTERESTS', 'BANK TAXES',\n",
    "               'BOLSA FAMILIA', 'CHARGEBACK', 'CHECK RETURN', 'Credit', 'DEPOSIT',\n",
    "               'DIRECT DEBIT', 'FGTS', 'INSS', 'INSURANCE', 'INTERESTS', 'INVESTMENT',\n",
    "               'IOF', 'International purchase', 'LOAN ALFA', 'LOAN BANK', 'LOAN BV','LOAN CREFISA',\n",
    "               'LOAN GERU', 'LOAN JBCRED', 'LOAN LECCA', 'LOAN OMNI', 'LOAN SIMPLIC','LOAN SOCINAL',\n",
    "               'LOAN SOROCRED', 'MOBILE CREDITS','Other', 'RETIRENMENT', 'Refund', 'SALARY', 'SAVINGS',\n",
    "               'Student scholarship', 'TRANSFER', 'UNEMPLOYMENT SUBSIDARY',\n",
    "               'WITHDRAWAL']\n",
    "        negcols = ['credit_id','BANK CHARGES', 'BANK INTERESTS', 'BANK TAXES',\n",
    "               'CHARGEBACK', 'CHECK RETURN', 'Credit', 'DEPOSIT', 'DIRECT DEBIT',\n",
    "               'INSURANCE', 'INTERESTS', 'INVESTMENT', 'IOF', 'International purchase',\n",
    "               'LOAN AGIPLAN', 'LOAN ALFA', 'LOAN BANK', 'LOAN BV', 'LOAN CETELEM',\n",
    "               'LOAN CREFISA', 'LOAN GERU', 'LOAN JBCRED', 'LOAN OMNI', 'LOAN SIMPLIC',\n",
    "               'LOAN SOROCRED', 'MOBILE BILL', 'MOBILE CREDITS', 'Other',\n",
    "               'RETIRENMENT', 'SALARY', 'SAVINGS', 'TRANSFER', 'TRANSPORT',\n",
    "               'WITHDRAWAL']\n",
    "        #df make summ positive\n",
    "        df_sp = df[['credit_id', 'id', 'cluster', 'amount']][df.balance_type == 'pos']\n",
    "        #считаем общую сумму по каждому кластеру и клиенту\n",
    "        df_sp = df_sp.groupby(['credit_id', 'cluster']).agg({'amount': 'sum'})\n",
    "        df_sp.reset_index(level=['credit_id', 'cluster'], inplace=True)\n",
    "        df_sp = df_sp.pivot(index='credit_id', columns='cluster', values='amount').reset_index()\n",
    "        q_pos = pd.DataFrame(columns=poscols)\n",
    "        df_sp = pd.concat([q_pos, df_sp], axis=0, join='outer')\n",
    "        df_sp.columns = 'sum_pos_' + df_sp.columns\n",
    "        df_sp = df_sp.rename(columns = {'sum_pos_credit_id':'credit_id'})\n",
    "\n",
    "        #df make summ negative\n",
    "        df_sn = df[['credit_id', 'id', 'cluster', 'amount']][df.balance_type == 'neg']\n",
    "        #считаем общую сумму по каждому кластеру и клиенту\n",
    "        df_sn = df_sn.groupby(['credit_id', 'cluster']).agg({'amount': 'sum'})\n",
    "        df_sn.reset_index(level=['credit_id', 'cluster'], inplace=True)\n",
    "        df_sn = df_sn.pivot(index='credit_id', columns='cluster', values='amount').reset_index()\n",
    "        q_neg = pd.DataFrame(columns=negcols)\n",
    "        df_sn = pd.concat([q_neg, df_sn], axis=0, join='outer')\n",
    "        df_sn.columns = 'sum_neg_' + df_sn.columns\n",
    "        df_sn = df_sn.rename(columns = {'sum_neg_credit_id':'credit_id'})\n",
    "\n",
    "        #df make count positive\n",
    "        df_cp = df[['credit_id', 'id', 'cluster', 'amount']][df.balance_type == 'pos']\n",
    "        #считаем общую сумму по каждому кластеру и клиенту\n",
    "        df_cp = df_cp.groupby(['credit_id', 'cluster']).agg({'amount': 'count'})\n",
    "        df_cp.reset_index(level=['credit_id', 'cluster'], inplace=True)\n",
    "        df_cp = df_cp.pivot(index='credit_id', columns='cluster', values='amount').reset_index()\n",
    "        q_pos = pd.DataFrame(columns=poscols)\n",
    "        df_cp = pd.concat([q_pos, df_cp], axis=0, join='outer')\n",
    "        df_cp.columns = 'cnt_pos_' + df_cp.columns\n",
    "        df_cp = df_cp.rename(columns = {'cnt_pos_credit_id':'credit_id'})\n",
    "\n",
    "        #df make count negative\n",
    "        df_cn = df[['credit_id', 'id', 'cluster', 'amount']][df.balance_type == 'neg']\n",
    "        #считаем общую сумму по каждому кластеру и клиенту\n",
    "        df_cn = df_cn.groupby(['credit_id', 'cluster']).agg({'amount': 'count'})\n",
    "        df_cn.reset_index(level=['credit_id', 'cluster'], inplace=True)\n",
    "        df_cn = df_cn.pivot(index='credit_id', columns='cluster', values='amount').reset_index()\n",
    "        q_neg = pd.DataFrame(columns=negcols)\n",
    "        df_cn = pd.concat([q_neg, df_cn], axis=0, join='outer')\n",
    "        df_cn.columns = 'cnt_neg_' + df_cn.columns\n",
    "        df_cn = df_cn.rename(columns = {'cnt_neg_credit_id':'credit_id'})\n",
    "\n",
    "        df_sum = pd.merge(df_sp, df_sn, on='credit_id', how ='outer').fillna(0).set_index('credit_id')\n",
    "        cnt = pd.merge(df_cp, df_cn, on='credit_id', how = 'outer').fillna(0)\n",
    "        return df_sum, cnt"
   ]
  },
  {
   "cell_type": "code",
   "execution_count": 58,
   "metadata": {
    "collapsed": true
   },
   "outputs": [],
   "source": [
    "df_sum, cnt = transponir_new(df)"
   ]
  },
  {
   "cell_type": "code",
   "execution_count": 59,
   "metadata": {},
   "outputs": [
    {
     "data": {
      "text/plain": [
       "(86899, 71)"
      ]
     },
     "execution_count": 59,
     "metadata": {},
     "output_type": "execute_result"
    }
   ],
   "source": [
    "cnt.shape"
   ]
  },
  {
   "cell_type": "code",
   "execution_count": 60,
   "metadata": {
    "collapsed": true
   },
   "outputs": [],
   "source": [
    "df2 = pd.merge(df1.reset_index(), df_sum.reset_index(), on='credit_id', how ='outer')\n",
    "df3 = pd.merge(df2, cnt, on='credit_id', how ='outer')\n",
    "df4 = pd.merge(df3, salaries, on='credit_id', how ='outer')"
   ]
  },
  {
   "cell_type": "code",
   "execution_count": 62,
   "metadata": {
    "collapsed": true,
    "scrolled": true
   },
   "outputs": [],
   "source": [
    "#here join df with data\n",
    "df = pd.merge(df, df4, left_on='credit_id', right_on='credit_id', how ='left')"
   ]
  },
  {
   "cell_type": "code",
   "execution_count": 63,
   "metadata": {
    "collapsed": true
   },
   "outputs": [],
   "source": [
    "df_1 = pd.merge(df, day_of_sal.drop_duplicates(), left_on='credit_id', right_on='credit_id', how ='left')"
   ]
  },
  {
   "cell_type": "code",
   "execution_count": 64,
   "metadata": {
    "collapsed": true,
    "scrolled": true
   },
   "outputs": [],
   "source": [
    "df_1['max_sum_to_amount'] = df_1['max_sum']/df_1['amount'].map(lambda x: float(x))\n",
    "df_1['is_date_eq_sal_date'] = np.where(df_1['day_of_month_of_spisanie'] == df_1['day_of_max_trans'], 1, 0)\n",
    "df_1['dif_inst_sal'] = df_1['day_of_month_of_spisanie'] - df_1['day_of_max_trans']"
   ]
  },
  {
   "cell_type": "code",
   "execution_count": 65,
   "metadata": {
    "collapsed": true
   },
   "outputs": [],
   "source": [
    "df_1.salarie_dates = df_1.salarie_dates.map(lambda x: str(x)).replace('nan', 'Nonenone')"
   ]
  },
  {
   "cell_type": "code",
   "execution_count": 66,
   "metadata": {
    "collapsed": true
   },
   "outputs": [],
   "source": [
    "df_2 = df_1.copy()"
   ]
  },
  {
   "cell_type": "code",
   "execution_count": 67,
   "metadata": {
    "collapsed": true,
    "scrolled": true
   },
   "outputs": [],
   "source": [
    "def if_salary(df):\n",
    "    q = []\n",
    "    for i in range(len(df)):\n",
    "        if df.salarie_dates[i].find(str(df.day_of_month_of_spisanie[i])) != -1:\n",
    "            q.append(1)\n",
    "        else:\n",
    "            q.append(0)\n",
    "    df['is_date_salary'] = q\n",
    "    return df "
   ]
  },
  {
   "cell_type": "code",
   "execution_count": 68,
   "metadata": {
    "collapsed": true
   },
   "outputs": [],
   "source": [
    "df_1 = if_salary(df_1)"
   ]
  },
  {
   "cell_type": "code",
   "execution_count": null,
   "metadata": {
    "collapsed": true
   },
   "outputs": [],
   "source": []
  },
  {
   "cell_type": "code",
   "execution_count": null,
   "metadata": {
    "collapsed": true
   },
   "outputs": [],
   "source": []
  },
  {
   "cell_type": "code",
   "execution_count": null,
   "metadata": {
    "collapsed": true
   },
   "outputs": [],
   "source": []
  },
  {
   "cell_type": "code",
   "execution_count": null,
   "metadata": {
    "collapsed": true
   },
   "outputs": [],
   "source": []
  },
  {
   "cell_type": "code",
   "execution_count": null,
   "metadata": {
    "collapsed": true
   },
   "outputs": [],
   "source": []
  },
  {
   "cell_type": "code",
   "execution_count": null,
   "metadata": {
    "collapsed": true
   },
   "outputs": [],
   "source": []
  },
  {
   "cell_type": "code",
   "execution_count": null,
   "metadata": {
    "collapsed": true
   },
   "outputs": [],
   "source": []
  },
  {
   "cell_type": "code",
   "execution_count": null,
   "metadata": {
    "collapsed": true
   },
   "outputs": [],
   "source": []
  },
  {
   "cell_type": "code",
   "execution_count": 30,
   "metadata": {},
   "outputs": [
    {
     "name": "stdout",
     "output_type": "stream",
     "text": [
      "      Iter       Train Loss   Remaining Time \n",
      "         1           1.2029            1.49m\n",
      "         2           1.1701            1.42m\n",
      "         3           1.1441            1.39m\n",
      "         4           1.1207            1.38m\n",
      "         5           1.1012            1.36m\n",
      "         6           1.0832            1.34m\n",
      "         7           1.0653            1.33m\n",
      "         8           1.0514            1.31m\n",
      "         9           1.0360            1.30m\n",
      "        10           1.0230            1.28m\n",
      "        20           0.9355            1.13m\n",
      "        30           0.8756           58.90s\n",
      "        40           0.8264           50.28s\n",
      "        50           0.7842           41.82s\n",
      "        60           0.7418           33.43s\n",
      "        70           0.7022           25.11s\n",
      "        80           0.6677           16.72s\n",
      "        90           0.6387            8.35s\n",
      "       100           0.6121            0.00s\n"
     ]
    }
   ],
   "source": [
    "clf = GradientBoostingClassifier(random_state=0, verbose = 1)\n",
    "clf.fit(X_train, y_train)      \n",
    "tuned_parameters = [{'learning_rate':np.arange(0.2, 1, 0.2)},\n",
    "                     {'n_estimators':np.arange(60, 200, 20)},\n",
    "                      {'max_depth':np.arange(2, 6, 1)}]\n",
    "gs = GridSearchCV(clf, tuned_parameters, cv=5, verbose=True) "
   ]
  },
  {
   "cell_type": "code",
   "execution_count": 172,
   "metadata": {
    "collapsed": true
   },
   "outputs": [],
   "source": [
    "gs.fit(X_train, y_train)"
   ]
  },
  {
   "cell_type": "code",
   "execution_count": 62,
   "metadata": {
    "collapsed": true
   },
   "outputs": [],
   "source": [
    "writer = pd.ExcelWriter('Inst_DATA.xlsx')\n",
    "final.to_excel(writer,'Inst', index=False)\n",
    "writer.save()"
   ]
  }
 ],
 "metadata": {
  "kernelspec": {
   "display_name": "Python 3",
   "language": "python",
   "name": "python3"
  },
  "language_info": {
   "codemirror_mode": {
    "name": "ipython",
    "version": 3
   },
   "file_extension": ".py",
   "mimetype": "text/x-python",
   "name": "python",
   "nbconvert_exporter": "python",
   "pygments_lexer": "ipython3",
   "version": "3.6.3"
  },
  "notify_time": "10",
  "toc": {
   "nav_menu": {},
   "number_sections": false,
   "sideBar": true,
   "skip_h1_title": false,
   "title_cell": "Table of Contents",
   "title_sidebar": "Contents",
   "toc_cell": false,
   "toc_position": {},
   "toc_section_display": true,
   "toc_window_display": true
  },
  "widgets": {
   "application/vnd.jupyter.widget-state+json": {
    "state": {},
    "version_major": 2,
    "version_minor": 0
   }
  }
 },
 "nbformat": 4,
 "nbformat_minor": 2
}
