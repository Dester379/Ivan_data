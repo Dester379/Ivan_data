{
 "cells": [
  {
   "cell_type": "code",
   "execution_count": 267,
   "metadata": {
    "collapsed": true,
    "hide_input": false
   },
   "outputs": [],
   "source": [
    "#processing\n",
    "import scikitplot as skplt\n",
    "from xgboost.sklearn import XGBClassifier\n",
    "from sklearn.decomposition import TruncatedSVD\n",
    "import pandas as pd\n",
    "import numpy as np\n",
    "from sklearn.preprocessing import StandardScaler\n",
    "from sklearn.preprocessing import LabelEncoder\n",
    "import matplotlib.pyplot as plt\n",
    "from pandas import ExcelWriter\n",
    "import scipy\n",
    "scaler = StandardScaler()\n",
    "label = LabelEncoder()\n",
    "#sql\n",
    "import pymysql.cursors \n",
    "#NLP\n",
    "import nltk\n",
    "import re\n",
    "import pymorphy2\n",
    "from nltk.tokenize import sent_tokenize, RegexpTokenizer\n",
    "from nltk.stem.snowball import RussianStemmer\n",
    "from nltk.util import ngrams\n",
    "from nltk.corpus import stopwords\n",
    "from nltk.tokenize import word_tokenize\n",
    "#warnings\n",
    "import warnings\n",
    "warnings.filterwarnings('ignore')\n",
    "#visualisation\n",
    "import seaborn as sns\n",
    "import matplotlib.pyplot as plt\n",
    "sns.set(style=\"white\", color_codes=True)\n",
    "%matplotlib inline\n",
    "#vectorization\n",
    "from sklearn.feature_extraction.text import CountVectorizer\n",
    "from sklearn.feature_extraction.text import TfidfTransformer\n",
    "#model \n",
    "from sklearn.grid_search import GridSearchCV, RandomizedSearchCV\n",
    "from sklearn.cluster import KMeans\n",
    "from sklearn.cross_validation import cross_val_score\n",
    "from sklearn.cross_validation import train_test_split\n",
    "from sklearn.cross_validation import KFold\n",
    "from sklearn.metrics import roc_auc_score, roc_curve, log_loss, f1_score, confusion_matrix, precision_score, recall_score, classification_report, accuracy_score\n",
    "#classificators\n",
    "from sklearn.ensemble import RandomForestClassifier\n",
    "from sklearn.ensemble import GradientBoostingClassifier\n",
    "from sklearn.metrics import confusion_matrix\n",
    "import datetime\n",
    "from sklearn.externals import joblib\n",
    "import IDF\n",
    "from catboost import CatBoostClassifier"
   ]
  },
  {
   "cell_type": "code",
   "execution_count": 268,
   "metadata": {
    "collapsed": true
   },
   "outputs": [],
   "source": [
    "#Подключиться к базе данных\n",
    "def con():\n",
    "    conn = pymysql.connect(host='192.168.64.1', port=3306, user='i.serov', password=\"X3*1Uy(F\", db='mysql')\n",
    "    return conn"
   ]
  },
  {
   "cell_type": "code",
   "execution_count": 269,
   "metadata": {
    "scrolled": false
   },
   "outputs": [
    {
     "name": "stdout",
     "output_type": "stream",
     "text": [
      "Wall time: 27.4 s\n"
     ]
    }
   ],
   "source": [
    "%%time\n",
    "socdem = pd.read_sql('''\n",
    "    select c.date_requested, \n",
    "    datediff(w.next_salary_date, c.date_requested) as days_bef_sal,\n",
    "        c.id as credit_id,\n",
    "                      ifnull(IF(c.status IN ('active','completed','expired'),\n",
    "                      (SELECT\n",
    "                        IF((COUNT(credit_payment.id) > 0 OR CURDATE() < LEAST(c.due_date,DATE(c.date_received) + INTERVAL 31 DAY) + INTERVAL 16 DAY),0,1)\n",
    "                      FROM br_release_moneyman.credit_payment\n",
    "                      WHERE ((credit_payment.credit_id = c.id) AND (credit_payment.payment_date <(LEAST(c.due_date,DATE(c.date_received) + INTERVAL 31 DAY) + INTERVAL 16 DAY)))),NULL),0)\n",
    "                      AS npl15,\n",
    "        pd.id, pd.full_name, pd.birthday, pd.marital_status, pd.sex,\n",
    "       pd.doc_identification_number, pd.mothers_name, pd.place_of_birth,\n",
    "       pd.nationality, pd.insurance_number, pd.doc_issuance_date, pd.doc_issuer,\n",
    "       pd.doc_issuer_state, pd.timezone_utc_offset, pd.net_worth,\n",
    "       \n",
    "        ua.email,\n",
    "        a.id, a.zip_code, a.home_phone, a.city, a.street, a.state,\n",
    "       a.house_number, a.apartments, a.housing_type, a.neighborhood,\n",
    "       \n",
    "        w.id, w.education, w.attested_income, w.next_salary_date, w.work_phone,\n",
    "       w.employment, w.company, w.monthly_expenses, w.loan_reason,\n",
    "       \n",
    "        ba.bank_account_type, ba.has_online_banking, ba.bank_id,\n",
    "        \n",
    "        io.id, io.date, io.response_date, io.result, io.reason, io.trackingnumber,\n",
    "       io.endblackbox, io.faultstring, io.device_alias, io.device_firstseen,\n",
    "       io.device_new, io.device_screen, io.device_type, io.device_os, io.device_tz,\n",
    "       io.device_js_enabled, io.device_flash_enabled, io.device_flash_installed,\n",
    "       io.device_flash_version, io.device_flash_storage_enabled,\n",
    "       io.device_flash_cookie_enabled, io.device_browser_type,\n",
    "       io.device_browser_version, io.device_browser_charset,\n",
    "       io.device_browser_configured_lang, io.device_browser_lang,\n",
    "       io.device_trust_score, io.ipaddress, io.ipaddress_org, io.ipaddress_isp,\n",
    "       io.ipaddress_proxy, io.ipaddress_loc_lat, io.ipaddress_loc_lng,\n",
    "       io.ipaddress_loc_city, io.ipaddress_loc_country_code,\n",
    "       io.ipaddress_loc_country, io.ipaddressLoc_region, io.realipaddress,\n",
    "       io.realipaddress_source, io.realipaddress_org, io.realipaddress_isp,\n",
    "       io.realipaddress_proxy, io.realipaddress_loc_lat, io.realipaddress_loc_lng,\n",
    "       io.realipaddress_loc_city, io.realipaddress_loc_country_code,\n",
    "       io.realipaddress_loc_country, io.realipaddress_loc_region,\n",
    "       io.registration_check_matchstatus, io.registration_check_measureofchange,\n",
    "       io.ruleset_rulesmatched, io.ruleset_score, io.borrower_id\n",
    "       \n",
    "from br_release_moneyman.credit c\n",
    "\tleft join br_release_moneyman.borrower b on c.borrower_id = b.id\n",
    "\tleft join br_release_moneyman.personal_data pd on b.personal_data_id = pd.id\n",
    "\tleft join br_release_moneyman.work w on b.work_id = w.id\n",
    "\tleft join br_release_moneyman.address a on b.address_id = a.id\n",
    "\tleft join br_release_moneyman.user_account ua on b.user_account_id = ua.id\n",
    "\tleft join br_release_moneyman.bank_account ba on c.id = ba.credit_id\n",
    " \tleft join br_release_moneyman.iovation io on c.id = io.credit_id   \n",
    "WHERE c.date_requested>'2017-09-01' and c.date_requested<'2018-03-01' \n",
    "''', con=con())"
   ]
  },
  {
   "cell_type": "code",
   "execution_count": 270,
   "metadata": {
    "collapsed": true
   },
   "outputs": [],
   "source": [
    "df_all = socdem.copy()"
   ]
  },
  {
   "cell_type": "code",
   "execution_count": 271,
   "metadata": {
    "collapsed": true,
    "scrolled": true
   },
   "outputs": [],
   "source": [
    "#ids = pd.merge(all_credits, pd.merge(verum_credits, inst_credits, how ='outer', on = 'credit_id'), how ='outer', on = 'credit_id')"
   ]
  },
  {
   "cell_type": "markdown",
   "metadata": {},
   "source": [
    "# Preprocessing"
   ]
  },
  {
   "cell_type": "code",
   "execution_count": 272,
   "metadata": {
    "collapsed": true,
    "hide_input": false
   },
   "outputs": [],
   "source": [
    "df = socdem.copy()"
   ]
  },
  {
   "cell_type": "code",
   "execution_count": 273,
   "metadata": {
    "collapsed": true
   },
   "outputs": [],
   "source": [
    "def city(x):\n",
    "    if x.lower().find('paulo') != -1:\n",
    "        d = 'Sao Paulo'\n",
    "    elif x.lower().find('rio') != -1:\n",
    "        d = 'Rio de Janeiro'\n",
    "    else:\n",
    "        d = x\n",
    "    return d\n",
    "def city_prep(x):\n",
    "    if x=='Sao Paulo':\n",
    "        return 1\n",
    "    elif x=='Rio de Janeiro':\n",
    "        return 2\n",
    "    elif x=='Salvador':\n",
    "        return 3\n",
    "    else:\n",
    "        return 4\n",
    "def state_prep(x):\n",
    "    if x=='SP':\n",
    "        return 1\n",
    "    elif x=='RJ':\n",
    "        return 2\n",
    "    elif x=='MG':\n",
    "        return 3\n",
    "    elif x=='PR':\n",
    "        return 4\n",
    "    elif x=='BA':\n",
    "        return 5\n",
    "    elif x=='RS':\n",
    "        return 6\n",
    "    elif x=='GO':\n",
    "        return 7\n",
    "    else:\n",
    "        return 8\n",
    "    \n",
    "def doc_issuer_prep(x):\n",
    "    if x=='SSP':\n",
    "        return 1\n",
    "    elif x=='DETRAN':\n",
    "        return 2\n",
    "    elif x=='OTHER':\n",
    "        return 3\n",
    "    elif x=='IFP':\n",
    "        return 4\n",
    "    elif x=='CONSELHOS_DE_CLASSE':\n",
    "        return 5\n",
    "    else:\n",
    "        return 8\n",
    "\n",
    "def bank_account_type_prep(x):\n",
    "    if x=='CURRENT_ACCOUNT':\n",
    "        return 1\n",
    "    elif x=='SAVING_ACCOUNT':\n",
    "        return 2\n",
    "    elif x=='CAIXA013':\n",
    "        return 3\n",
    "    elif x=='CAIXA001':\n",
    "        return 4\n",
    "    elif x=='CAIXA023':\n",
    "        return 5\n",
    "    else:\n",
    "        return 8\n",
    "\n",
    "def marial_status_prep(x):\n",
    "    if x=='UNMARRIED':\n",
    "        return 1\n",
    "    elif x=='MARRIED':\n",
    "        return 2\n",
    "    elif x=='DIVORCED':\n",
    "        return 3\n",
    "    else:\n",
    "        return 4    \n",
    "def loan_reason_prep(x):\n",
    "    if x=='UNEXPECTED_EXPENSES':\n",
    "        return 1\n",
    "    elif x=='LIABILITIES':\n",
    "        return 2\n",
    "    elif x=='PAY_INVOICES':\n",
    "        return 3\n",
    "    elif x=='REPAIR':\n",
    "        return 4\n",
    "    elif x=='BUSINESS':\n",
    "        return 5\n",
    "    elif x=='EDUCATION':\n",
    "        return 6\n",
    "    elif x=='TRAVEL':\n",
    "        return 7\n",
    "    elif x=='OTHER':\n",
    "        return 8\n",
    "    elif x=='CAR':\n",
    "        return 9\n",
    "    else:\n",
    "        return 10\n",
    "\n",
    "def housing_type_prep(x):\n",
    "    if x=='OWNER_WITHOUT_MORTGAGE':\n",
    "        return 1\n",
    "    elif x=='WITH_PARENTS':\n",
    "        return 2\n",
    "    elif x=='RENT':\n",
    "        return 3\n",
    "    elif x=='OTHER':\n",
    "        return 4\n",
    "    elif x=='OWNER_WITH_MORTGAGE':\n",
    "        return 5\n",
    "    elif x=='SHARED_APARTMENT':\n",
    "        return 6\n",
    "    elif x=='missing':\n",
    "        return 7\n",
    "    else:\n",
    "        return 10\n",
    "def device_browser_type_prep(x):\n",
    "    if x=='CHROME':\n",
    "        return 1\n",
    "    elif x=='SAFARI':\n",
    "        return 2\n",
    "    elif x=='FIREFOX':\n",
    "        return 3\n",
    "    elif x=='SAMSUNGBROWSER':\n",
    "        return 4\n",
    "    elif x=='missing':\n",
    "        return 5\n",
    "    else:\n",
    "        return 8\n",
    "def device_type_prep(x):\n",
    "    if x=='WINDOWS':\n",
    "        return 1\n",
    "    elif x=='ANDROID':\n",
    "        return 2\n",
    "    elif x=='IPHONE':\n",
    "        return 3\n",
    "    elif x=='MAC':\n",
    "        return 4\n",
    "    elif x=='LINUX':\n",
    "        return 5\n",
    "    elif x=='IPAD':\n",
    "        return 6\n",
    "    elif x=='missing':\n",
    "        return 7\n",
    "    else:\n",
    "        return 10 \n"
   ]
  },
  {
   "cell_type": "code",
   "execution_count": 274,
   "metadata": {
    "collapsed": true
   },
   "outputs": [],
   "source": [
    "def feat_gen(df):\n",
    "    df.nationality = df.nationality.map(lambda x: 1 if x=='Brasil' else 0)\n",
    "    #df['rare_issuer_state'] = df.groupby('doc_issuer_state')['doc_issuer_state'].transform('count').map(lambda x: 1 if x<50 else 0)\n",
    "    #df['rare_issuer_ipregion'] = df.groupby('realipaddress_loc_region')['realipaddress_loc_region'].transform('count').map(lambda x: 1 if x<20 else 0)\n",
    "    #df['realipaddress_loc_country'] = df.groupby('realipaddress_loc_country')['realipaddress_loc_country'].transform('count').map(lambda x: 1 if x<50 else 0)\n",
    "    df.apartments = df.apartments.map(lambda x: 1 if x =='' or x =='None' else 0)\n",
    "    df.neighborhood = df.neighborhood.map(lambda x: 1 if x.lower().find('centro') != -1 else 0)\n",
    "    df['age'] = datetime.datetime.now().year - df['birthday'].apply(lambda x: x.year)\n",
    "    df['doc_issuance_date'] = datetime.datetime.now().year - df['doc_issuance_date'].apply(lambda x: x.year)\n",
    "    df['net_worth'] = df['net_worth'].map({'NO': 0, 'SMALL': 1, 'MEDIUM': 2, 'LARGE': 3})\n",
    "    df['is_big_city'] = df.city.map(lambda x: 1 if x.lower().find('paulo')!=-1 or x.lower().find('rio')!=-1 or x.lower().find('salvador')!=-1 else 0)\n",
    "    df['education'] = df['education'].map({'BASIC_EDUCATION': 0, 'SECONDARY': 1, 'BACCALAUREATE': 2})\n",
    "    df['employment'] = df['employment'].map({'UNEMPLOYED': 0, 'PENSIONER': 1, 'RETIRED': 2,\n",
    "                                            'PUBLIC_MILITARY': 3, 'INFORMAL': 4, 'OTHER': 5, 'CONTRACT' : 6})\n",
    "    #df['is_rare_account'] = df.bank_account_type.map(lambda x: 1 if x.find('CAIXA')!=-1 else 0)\n",
    "    df.company = df.company.isna().replace({False: 0, True : 1})\n",
    "    df.realipaddress_loc_city = df.realipaddress_loc_city.fillna('dontknow').map(lambda x: city(x))\n",
    "    df['city_match'] = (df.realipaddress_loc_city.map(lambda x: x.lower())== df['city'].map(lambda x: x.lower())).replace({False: 0, True : 1})\n",
    "    df.city = df.city.map(lambda x: city(x))\n",
    "    return df\n",
    "\n",
    "df = feat_gen(df)"
   ]
  },
  {
   "cell_type": "code",
   "execution_count": 275,
   "metadata": {
    "collapsed": true
   },
   "outputs": [],
   "source": [
    "def drop_fill(df):\n",
    "    cols_with_miss = ['place_of_birth', 'marital_status', 'bank_account_type',\n",
    "        'doc_issuer', 'doc_issuer_state', 'state', 'city', 'loan_reason', 'housing_type', 'realipaddress_loc_region',\n",
    "         'realipaddress_isp', 'realipaddress_org', 'realipaddress_source','device_browser_lang', 'device_browser_type',\n",
    "          'device_os', 'device_type', 'device_screen', 'reason', 'result','realipaddress_loc_city', 'realipaddress_loc_country']\n",
    "    df[cols_with_miss] = df[cols_with_miss].fillna('missing')\n",
    "    df.drop(['id', 'doc_identification_number', 'insurance_number', 'timezone_utc_offset', 'work_phone',\n",
    "            'email', 'home_phone', 'street', 'next_salary_date',  'birthday', 'zip_code', 'mothers_name',\n",
    "            'borrower_id', 'registration_check_measureofchange', 'registration_check_matchstatus', 'realipaddress_loc_country_code',\n",
    "             'realipaddress_proxy', 'realipaddress', 'ipaddressLoc_region', 'ipaddress_loc_country','ipaddress_loc_city',\n",
    "             'ipaddress_loc_lng', 'ipaddress_loc_lat', 'ipaddress_proxy','ipaddress_isp', 'ipaddress_org', 'ipaddress', \n",
    "             'device_trust_score','faultstring', 'device_alias', 'device_firstseen', 'response_date',\n",
    "             'device_browser_configured_lang', 'device_browser_charset', 'device_browser_version', 'device_flash_cookie_enabled',\n",
    "             'device_flash_storage_enabled','device_flash_version', 'trackingnumber', 'endblackbox', 'date','house_number',\n",
    "             'ipaddress_loc_country_code','full_name',\n",
    "             #new_to_delete\n",
    "             'realipaddress_loc_region', 'realipaddress_isp','realipaddress_source','realipaddress_org', 'device_browser_lang',\n",
    "             'device_os', 'device_screen','result','reason','realipaddress_loc_country'\n",
    "           ], axis = 1, inplace=True)\n",
    "    df.has_online_banking.fillna(3, inplace=True)\n",
    "    # NEW\n",
    "    df.city = df.city.map(city_prep)  \n",
    "    df.state = df.state.map(state_prep)  \n",
    "    df.doc_issuer_state = df.doc_issuer_state.map(state_prep) \n",
    "    df.doc_issuer = df.doc_issuer.map(doc_issuer_prep) \n",
    "    df.bank_account_type = df.bank_account_type.map(bank_account_type_prep) \n",
    "    df.marital_status = df.marital_status.map(marial_status_prep) \n",
    "    df.place_of_birth = df.place_of_birth.map(state_prep) \n",
    "    df.loan_reason = df.loan_reason.map(loan_reason_prep) \n",
    "    df.housing_type = df.housing_type.map(housing_type_prep) \n",
    "    df.device_browser_type = df.device_browser_type.map(device_browser_type_prep) \n",
    "    df.device_type = df.device_type.map(device_type_prep) \n",
    "    df.realipaddress_loc_city = df.realipaddress_loc_city.map(city_prep)\n",
    "    \n",
    "    return df\n",
    "\n",
    "df = drop_fill(df)\n",
    "df.fillna(0, inplace=True)"
   ]
  },
  {
   "cell_type": "markdown",
   "metadata": {},
   "source": [
    "# INSTANTOR"
   ]
  },
  {
   "cell_type": "code",
   "execution_count": 276,
   "metadata": {
    "collapsed": true
   },
   "outputs": [],
   "source": [
    "import NEW_module_inst_end\n",
    "import NEW_module_VV_end\n",
    "import NEW_module_appdata_end"
   ]
  },
  {
   "cell_type": "code",
   "execution_count": 277,
   "metadata": {
    "collapsed": true
   },
   "outputs": [],
   "source": [
    "clf_vv = joblib.load('clf_vv_tt.pkl')\n",
    "clf_appdata = joblib.load('clf_appdata_tt.pkl')\n",
    "clf_inst = joblib.load('clf_inst_tt.pkl')\n",
    "clf_end = joblib.load('final_algorithm_tt_2.pkl')"
   ]
  },
  {
   "cell_type": "code",
   "execution_count": 280,
   "metadata": {
    "collapsed": true
   },
   "outputs": [],
   "source": [
    "df['Appdata_pred_proba'] = clf_appdata.predict_proba(df.drop(['date_requested','credit_id','npl15'], axis=1))[:,1]"
   ]
  },
  {
   "cell_type": "code",
   "execution_count": 279,
   "metadata": {
    "collapsed": true
   },
   "outputs": [],
   "source": [
    "appdata = df[['credit_id','Appdata_pred_proba']]"
   ]
  },
  {
   "cell_type": "code",
   "execution_count": 264,
   "metadata": {},
   "outputs": [
    {
     "name": "stderr",
     "output_type": "stream",
     "text": [
      "ERROR:root:An unexpected error occurred while tokenizing input\n",
      "The following traceback may be corrupted or invalid\n",
      "The error message is: ('EOF in multi-line string', (1, 0))\n",
      "\n"
     ]
    },
    {
     "ename": "KeyboardInterrupt",
     "evalue": "",
     "output_type": "error",
     "traceback": [
      "\u001b[1;31m---------------------------------------------------------------------------\u001b[0m",
      "\u001b[1;31mKeyboardInterrupt\u001b[0m                         Traceback (most recent call last)",
      "\u001b[1;32m<ipython-input-264-04feb5f73182>\u001b[0m in \u001b[0;36m<module>\u001b[1;34m()\u001b[0m\n\u001b[0;32m     31\u001b[0m \u001b[0minner\u001b[0m \u001b[0mjoin\u001b[0m \u001b[0mbr_release_moneyman\u001b[0m\u001b[1;33m.\u001b[0m\u001b[0minstantor_bank_account_transaction\u001b[0m \u001b[0mibat\u001b[0m \u001b[0mon\u001b[0m \u001b[0mibat\u001b[0m\u001b[1;33m.\u001b[0m\u001b[0minstantor_bank_account_id\u001b[0m \u001b[1;33m=\u001b[0m \u001b[0miba\u001b[0m\u001b[1;33m.\u001b[0m\u001b[0mid\u001b[0m\u001b[1;33m\u001b[0m\u001b[0m\n\u001b[0;32m     32\u001b[0m \u001b[0mwhere\u001b[0m \u001b[0mc\u001b[0m\u001b[1;33m.\u001b[0m\u001b[0mdate_requested\u001b[0m\u001b[1;33m>\u001b[0m\u001b[1;34m'2017-09-01'\u001b[0m \u001b[1;32mand\u001b[0m \u001b[0mc\u001b[0m\u001b[1;33m.\u001b[0m\u001b[0mdate_requested\u001b[0m\u001b[1;33m<\u001b[0m\u001b[1;34m'2018-03-01'\u001b[0m\u001b[1;33m\u001b[0m\u001b[0m\n\u001b[1;32m---> 33\u001b[1;33m ''', con=con())\n\u001b[0m",
      "\u001b[1;32m~\\AppData\\Local\\Continuum\\anaconda3\\lib\\site-packages\\pandas\\io\\sql.py\u001b[0m in \u001b[0;36mread_sql\u001b[1;34m(sql, con, index_col, coerce_float, params, parse_dates, columns, chunksize)\u001b[0m\n\u001b[0;32m    398\u001b[0m             \u001b[0msql\u001b[0m\u001b[1;33m,\u001b[0m \u001b[0mindex_col\u001b[0m\u001b[1;33m=\u001b[0m\u001b[0mindex_col\u001b[0m\u001b[1;33m,\u001b[0m \u001b[0mparams\u001b[0m\u001b[1;33m=\u001b[0m\u001b[0mparams\u001b[0m\u001b[1;33m,\u001b[0m\u001b[1;33m\u001b[0m\u001b[0m\n\u001b[0;32m    399\u001b[0m             \u001b[0mcoerce_float\u001b[0m\u001b[1;33m=\u001b[0m\u001b[0mcoerce_float\u001b[0m\u001b[1;33m,\u001b[0m \u001b[0mparse_dates\u001b[0m\u001b[1;33m=\u001b[0m\u001b[0mparse_dates\u001b[0m\u001b[1;33m,\u001b[0m\u001b[1;33m\u001b[0m\u001b[0m\n\u001b[1;32m--> 400\u001b[1;33m             chunksize=chunksize)\n\u001b[0m\u001b[0;32m    401\u001b[0m \u001b[1;33m\u001b[0m\u001b[0m\n\u001b[0;32m    402\u001b[0m     \u001b[1;32mtry\u001b[0m\u001b[1;33m:\u001b[0m\u001b[1;33m\u001b[0m\u001b[0m\n",
      "\u001b[1;32m~\\AppData\\Local\\Continuum\\anaconda3\\lib\\site-packages\\pandas\\io\\sql.py\u001b[0m in \u001b[0;36mread_query\u001b[1;34m(self, sql, index_col, coerce_float, params, parse_dates, chunksize)\u001b[0m\n\u001b[0;32m   1442\u001b[0m \u001b[1;33m\u001b[0m\u001b[0m\n\u001b[0;32m   1443\u001b[0m         \u001b[0margs\u001b[0m \u001b[1;33m=\u001b[0m \u001b[0m_convert_params\u001b[0m\u001b[1;33m(\u001b[0m\u001b[0msql\u001b[0m\u001b[1;33m,\u001b[0m \u001b[0mparams\u001b[0m\u001b[1;33m)\u001b[0m\u001b[1;33m\u001b[0m\u001b[0m\n\u001b[1;32m-> 1444\u001b[1;33m         \u001b[0mcursor\u001b[0m \u001b[1;33m=\u001b[0m \u001b[0mself\u001b[0m\u001b[1;33m.\u001b[0m\u001b[0mexecute\u001b[0m\u001b[1;33m(\u001b[0m\u001b[1;33m*\u001b[0m\u001b[0margs\u001b[0m\u001b[1;33m)\u001b[0m\u001b[1;33m\u001b[0m\u001b[0m\n\u001b[0m\u001b[0;32m   1445\u001b[0m         \u001b[0mcolumns\u001b[0m \u001b[1;33m=\u001b[0m \u001b[1;33m[\u001b[0m\u001b[0mcol_desc\u001b[0m\u001b[1;33m[\u001b[0m\u001b[1;36m0\u001b[0m\u001b[1;33m]\u001b[0m \u001b[1;32mfor\u001b[0m \u001b[0mcol_desc\u001b[0m \u001b[1;32min\u001b[0m \u001b[0mcursor\u001b[0m\u001b[1;33m.\u001b[0m\u001b[0mdescription\u001b[0m\u001b[1;33m]\u001b[0m\u001b[1;33m\u001b[0m\u001b[0m\n\u001b[0;32m   1446\u001b[0m \u001b[1;33m\u001b[0m\u001b[0m\n",
      "\u001b[1;32m~\\AppData\\Local\\Continuum\\anaconda3\\lib\\site-packages\\pandas\\io\\sql.py\u001b[0m in \u001b[0;36mexecute\u001b[1;34m(self, *args, **kwargs)\u001b[0m\n\u001b[0;32m   1407\u001b[0m                 \u001b[0mcur\u001b[0m\u001b[1;33m.\u001b[0m\u001b[0mexecute\u001b[0m\u001b[1;33m(\u001b[0m\u001b[1;33m*\u001b[0m\u001b[0margs\u001b[0m\u001b[1;33m,\u001b[0m \u001b[1;33m**\u001b[0m\u001b[0mkwargs\u001b[0m\u001b[1;33m)\u001b[0m\u001b[1;33m\u001b[0m\u001b[0m\n\u001b[0;32m   1408\u001b[0m             \u001b[1;32melse\u001b[0m\u001b[1;33m:\u001b[0m\u001b[1;33m\u001b[0m\u001b[0m\n\u001b[1;32m-> 1409\u001b[1;33m                 \u001b[0mcur\u001b[0m\u001b[1;33m.\u001b[0m\u001b[0mexecute\u001b[0m\u001b[1;33m(\u001b[0m\u001b[1;33m*\u001b[0m\u001b[0margs\u001b[0m\u001b[1;33m)\u001b[0m\u001b[1;33m\u001b[0m\u001b[0m\n\u001b[0m\u001b[0;32m   1410\u001b[0m             \u001b[1;32mreturn\u001b[0m \u001b[0mcur\u001b[0m\u001b[1;33m\u001b[0m\u001b[0m\n\u001b[0;32m   1411\u001b[0m         \u001b[1;32mexcept\u001b[0m \u001b[0mException\u001b[0m \u001b[1;32mas\u001b[0m \u001b[0mexc\u001b[0m\u001b[1;33m:\u001b[0m\u001b[1;33m\u001b[0m\u001b[0m\n",
      "\u001b[1;32m~\\AppData\\Local\\Continuum\\anaconda3\\lib\\site-packages\\pymysql\\cursors.py\u001b[0m in \u001b[0;36mexecute\u001b[1;34m(self, query, args)\u001b[0m\n\u001b[0;32m    164\u001b[0m         \u001b[0mquery\u001b[0m \u001b[1;33m=\u001b[0m \u001b[0mself\u001b[0m\u001b[1;33m.\u001b[0m\u001b[0mmogrify\u001b[0m\u001b[1;33m(\u001b[0m\u001b[0mquery\u001b[0m\u001b[1;33m,\u001b[0m \u001b[0margs\u001b[0m\u001b[1;33m)\u001b[0m\u001b[1;33m\u001b[0m\u001b[0m\n\u001b[0;32m    165\u001b[0m \u001b[1;33m\u001b[0m\u001b[0m\n\u001b[1;32m--> 166\u001b[1;33m         \u001b[0mresult\u001b[0m \u001b[1;33m=\u001b[0m \u001b[0mself\u001b[0m\u001b[1;33m.\u001b[0m\u001b[0m_query\u001b[0m\u001b[1;33m(\u001b[0m\u001b[0mquery\u001b[0m\u001b[1;33m)\u001b[0m\u001b[1;33m\u001b[0m\u001b[0m\n\u001b[0m\u001b[0;32m    167\u001b[0m         \u001b[0mself\u001b[0m\u001b[1;33m.\u001b[0m\u001b[0m_executed\u001b[0m \u001b[1;33m=\u001b[0m \u001b[0mquery\u001b[0m\u001b[1;33m\u001b[0m\u001b[0m\n\u001b[0;32m    168\u001b[0m         \u001b[1;32mreturn\u001b[0m \u001b[0mresult\u001b[0m\u001b[1;33m\u001b[0m\u001b[0m\n",
      "\u001b[1;32m~\\AppData\\Local\\Continuum\\anaconda3\\lib\\site-packages\\pymysql\\cursors.py\u001b[0m in \u001b[0;36m_query\u001b[1;34m(self, q)\u001b[0m\n\u001b[0;32m    320\u001b[0m         \u001b[0mconn\u001b[0m \u001b[1;33m=\u001b[0m \u001b[0mself\u001b[0m\u001b[1;33m.\u001b[0m\u001b[0m_get_db\u001b[0m\u001b[1;33m(\u001b[0m\u001b[1;33m)\u001b[0m\u001b[1;33m\u001b[0m\u001b[0m\n\u001b[0;32m    321\u001b[0m         \u001b[0mself\u001b[0m\u001b[1;33m.\u001b[0m\u001b[0m_last_executed\u001b[0m \u001b[1;33m=\u001b[0m \u001b[0mq\u001b[0m\u001b[1;33m\u001b[0m\u001b[0m\n\u001b[1;32m--> 322\u001b[1;33m         \u001b[0mconn\u001b[0m\u001b[1;33m.\u001b[0m\u001b[0mquery\u001b[0m\u001b[1;33m(\u001b[0m\u001b[0mq\u001b[0m\u001b[1;33m)\u001b[0m\u001b[1;33m\u001b[0m\u001b[0m\n\u001b[0m\u001b[0;32m    323\u001b[0m         \u001b[0mself\u001b[0m\u001b[1;33m.\u001b[0m\u001b[0m_do_get_result\u001b[0m\u001b[1;33m(\u001b[0m\u001b[1;33m)\u001b[0m\u001b[1;33m\u001b[0m\u001b[0m\n\u001b[0;32m    324\u001b[0m         \u001b[1;32mreturn\u001b[0m \u001b[0mself\u001b[0m\u001b[1;33m.\u001b[0m\u001b[0mrowcount\u001b[0m\u001b[1;33m\u001b[0m\u001b[0m\n",
      "\u001b[1;32m~\\AppData\\Local\\Continuum\\anaconda3\\lib\\site-packages\\pymysql\\connections.py\u001b[0m in \u001b[0;36mquery\u001b[1;34m(self, sql, unbuffered)\u001b[0m\n\u001b[0;32m    854\u001b[0m                 \u001b[0msql\u001b[0m \u001b[1;33m=\u001b[0m \u001b[0msql\u001b[0m\u001b[1;33m.\u001b[0m\u001b[0mencode\u001b[0m\u001b[1;33m(\u001b[0m\u001b[0mself\u001b[0m\u001b[1;33m.\u001b[0m\u001b[0mencoding\u001b[0m\u001b[1;33m,\u001b[0m \u001b[1;34m'surrogateescape'\u001b[0m\u001b[1;33m)\u001b[0m\u001b[1;33m\u001b[0m\u001b[0m\n\u001b[0;32m    855\u001b[0m         \u001b[0mself\u001b[0m\u001b[1;33m.\u001b[0m\u001b[0m_execute_command\u001b[0m\u001b[1;33m(\u001b[0m\u001b[0mCOMMAND\u001b[0m\u001b[1;33m.\u001b[0m\u001b[0mCOM_QUERY\u001b[0m\u001b[1;33m,\u001b[0m \u001b[0msql\u001b[0m\u001b[1;33m)\u001b[0m\u001b[1;33m\u001b[0m\u001b[0m\n\u001b[1;32m--> 856\u001b[1;33m         \u001b[0mself\u001b[0m\u001b[1;33m.\u001b[0m\u001b[0m_affected_rows\u001b[0m \u001b[1;33m=\u001b[0m \u001b[0mself\u001b[0m\u001b[1;33m.\u001b[0m\u001b[0m_read_query_result\u001b[0m\u001b[1;33m(\u001b[0m\u001b[0munbuffered\u001b[0m\u001b[1;33m=\u001b[0m\u001b[0munbuffered\u001b[0m\u001b[1;33m)\u001b[0m\u001b[1;33m\u001b[0m\u001b[0m\n\u001b[0m\u001b[0;32m    857\u001b[0m         \u001b[1;32mreturn\u001b[0m \u001b[0mself\u001b[0m\u001b[1;33m.\u001b[0m\u001b[0m_affected_rows\u001b[0m\u001b[1;33m\u001b[0m\u001b[0m\n\u001b[0;32m    858\u001b[0m \u001b[1;33m\u001b[0m\u001b[0m\n",
      "\u001b[1;32m~\\AppData\\Local\\Continuum\\anaconda3\\lib\\site-packages\\pymysql\\connections.py\u001b[0m in \u001b[0;36m_read_query_result\u001b[1;34m(self, unbuffered)\u001b[0m\n\u001b[0;32m   1055\u001b[0m         \u001b[1;32melse\u001b[0m\u001b[1;33m:\u001b[0m\u001b[1;33m\u001b[0m\u001b[0m\n\u001b[0;32m   1056\u001b[0m             \u001b[0mresult\u001b[0m \u001b[1;33m=\u001b[0m \u001b[0mMySQLResult\u001b[0m\u001b[1;33m(\u001b[0m\u001b[0mself\u001b[0m\u001b[1;33m)\u001b[0m\u001b[1;33m\u001b[0m\u001b[0m\n\u001b[1;32m-> 1057\u001b[1;33m             \u001b[0mresult\u001b[0m\u001b[1;33m.\u001b[0m\u001b[0mread\u001b[0m\u001b[1;33m(\u001b[0m\u001b[1;33m)\u001b[0m\u001b[1;33m\u001b[0m\u001b[0m\n\u001b[0m\u001b[0;32m   1058\u001b[0m         \u001b[0mself\u001b[0m\u001b[1;33m.\u001b[0m\u001b[0m_result\u001b[0m \u001b[1;33m=\u001b[0m \u001b[0mresult\u001b[0m\u001b[1;33m\u001b[0m\u001b[0m\n\u001b[0;32m   1059\u001b[0m         \u001b[1;32mif\u001b[0m \u001b[0mresult\u001b[0m\u001b[1;33m.\u001b[0m\u001b[0mserver_status\u001b[0m \u001b[1;32mis\u001b[0m \u001b[1;32mnot\u001b[0m \u001b[1;32mNone\u001b[0m\u001b[1;33m:\u001b[0m\u001b[1;33m\u001b[0m\u001b[0m\n",
      "\u001b[1;32m~\\AppData\\Local\\Continuum\\anaconda3\\lib\\site-packages\\pymysql\\connections.py\u001b[0m in \u001b[0;36mread\u001b[1;34m(self)\u001b[0m\n\u001b[0;32m   1345\u001b[0m                 \u001b[0mself\u001b[0m\u001b[1;33m.\u001b[0m\u001b[0m_read_load_local_packet\u001b[0m\u001b[1;33m(\u001b[0m\u001b[0mfirst_packet\u001b[0m\u001b[1;33m)\u001b[0m\u001b[1;33m\u001b[0m\u001b[0m\n\u001b[0;32m   1346\u001b[0m             \u001b[1;32melse\u001b[0m\u001b[1;33m:\u001b[0m\u001b[1;33m\u001b[0m\u001b[0m\n\u001b[1;32m-> 1347\u001b[1;33m                 \u001b[0mself\u001b[0m\u001b[1;33m.\u001b[0m\u001b[0m_read_result_packet\u001b[0m\u001b[1;33m(\u001b[0m\u001b[0mfirst_packet\u001b[0m\u001b[1;33m)\u001b[0m\u001b[1;33m\u001b[0m\u001b[0m\n\u001b[0m\u001b[0;32m   1348\u001b[0m         \u001b[1;32mfinally\u001b[0m\u001b[1;33m:\u001b[0m\u001b[1;33m\u001b[0m\u001b[0m\n\u001b[0;32m   1349\u001b[0m             \u001b[0mself\u001b[0m\u001b[1;33m.\u001b[0m\u001b[0mconnection\u001b[0m \u001b[1;33m=\u001b[0m \u001b[1;32mNone\u001b[0m\u001b[1;33m\u001b[0m\u001b[0m\n",
      "\u001b[1;32m~\\AppData\\Local\\Continuum\\anaconda3\\lib\\site-packages\\pymysql\\connections.py\u001b[0m in \u001b[0;36m_read_result_packet\u001b[1;34m(self, first_packet)\u001b[0m\n\u001b[0;32m   1411\u001b[0m         \u001b[0mself\u001b[0m\u001b[1;33m.\u001b[0m\u001b[0mfield_count\u001b[0m \u001b[1;33m=\u001b[0m \u001b[0mfirst_packet\u001b[0m\u001b[1;33m.\u001b[0m\u001b[0mread_length_encoded_integer\u001b[0m\u001b[1;33m(\u001b[0m\u001b[1;33m)\u001b[0m\u001b[1;33m\u001b[0m\u001b[0m\n\u001b[0;32m   1412\u001b[0m         \u001b[0mself\u001b[0m\u001b[1;33m.\u001b[0m\u001b[0m_get_descriptions\u001b[0m\u001b[1;33m(\u001b[0m\u001b[1;33m)\u001b[0m\u001b[1;33m\u001b[0m\u001b[0m\n\u001b[1;32m-> 1413\u001b[1;33m         \u001b[0mself\u001b[0m\u001b[1;33m.\u001b[0m\u001b[0m_read_rowdata_packet\u001b[0m\u001b[1;33m(\u001b[0m\u001b[1;33m)\u001b[0m\u001b[1;33m\u001b[0m\u001b[0m\n\u001b[0m\u001b[0;32m   1414\u001b[0m \u001b[1;33m\u001b[0m\u001b[0m\n\u001b[0;32m   1415\u001b[0m     \u001b[1;32mdef\u001b[0m \u001b[0m_read_rowdata_packet_unbuffered\u001b[0m\u001b[1;33m(\u001b[0m\u001b[0mself\u001b[0m\u001b[1;33m)\u001b[0m\u001b[1;33m:\u001b[0m\u001b[1;33m\u001b[0m\u001b[0m\n",
      "\u001b[1;32m~\\AppData\\Local\\Continuum\\anaconda3\\lib\\site-packages\\pymysql\\connections.py\u001b[0m in \u001b[0;36m_read_rowdata_packet\u001b[1;34m(self)\u001b[0m\n\u001b[0;32m   1445\u001b[0m         \u001b[0mrows\u001b[0m \u001b[1;33m=\u001b[0m \u001b[1;33m[\u001b[0m\u001b[1;33m]\u001b[0m\u001b[1;33m\u001b[0m\u001b[0m\n\u001b[0;32m   1446\u001b[0m         \u001b[1;32mwhile\u001b[0m \u001b[1;32mTrue\u001b[0m\u001b[1;33m:\u001b[0m\u001b[1;33m\u001b[0m\u001b[0m\n\u001b[1;32m-> 1447\u001b[1;33m             \u001b[0mpacket\u001b[0m \u001b[1;33m=\u001b[0m \u001b[0mself\u001b[0m\u001b[1;33m.\u001b[0m\u001b[0mconnection\u001b[0m\u001b[1;33m.\u001b[0m\u001b[0m_read_packet\u001b[0m\u001b[1;33m(\u001b[0m\u001b[1;33m)\u001b[0m\u001b[1;33m\u001b[0m\u001b[0m\n\u001b[0m\u001b[0;32m   1448\u001b[0m             \u001b[1;32mif\u001b[0m \u001b[0mself\u001b[0m\u001b[1;33m.\u001b[0m\u001b[0m_check_packet_is_eof\u001b[0m\u001b[1;33m(\u001b[0m\u001b[0mpacket\u001b[0m\u001b[1;33m)\u001b[0m\u001b[1;33m:\u001b[0m\u001b[1;33m\u001b[0m\u001b[0m\n\u001b[0;32m   1449\u001b[0m                 \u001b[0mself\u001b[0m\u001b[1;33m.\u001b[0m\u001b[0mconnection\u001b[0m \u001b[1;33m=\u001b[0m \u001b[1;32mNone\u001b[0m  \u001b[1;31m# release reference to kill cyclic reference.\u001b[0m\u001b[1;33m\u001b[0m\u001b[0m\n",
      "\u001b[1;32m~\\AppData\\Local\\Continuum\\anaconda3\\lib\\site-packages\\pymysql\\connections.py\u001b[0m in \u001b[0;36m_read_packet\u001b[1;34m(self, packet_type)\u001b[0m\n\u001b[0;32m    985\u001b[0m         \u001b[0mbuff\u001b[0m \u001b[1;33m=\u001b[0m \u001b[1;34mb''\u001b[0m\u001b[1;33m\u001b[0m\u001b[0m\n\u001b[0;32m    986\u001b[0m         \u001b[1;32mwhile\u001b[0m \u001b[1;32mTrue\u001b[0m\u001b[1;33m:\u001b[0m\u001b[1;33m\u001b[0m\u001b[0m\n\u001b[1;32m--> 987\u001b[1;33m             \u001b[0mpacket_header\u001b[0m \u001b[1;33m=\u001b[0m \u001b[0mself\u001b[0m\u001b[1;33m.\u001b[0m\u001b[0m_read_bytes\u001b[0m\u001b[1;33m(\u001b[0m\u001b[1;36m4\u001b[0m\u001b[1;33m)\u001b[0m\u001b[1;33m\u001b[0m\u001b[0m\n\u001b[0m\u001b[0;32m    988\u001b[0m             \u001b[1;32mif\u001b[0m \u001b[0mDEBUG\u001b[0m\u001b[1;33m:\u001b[0m \u001b[0mdump_packet\u001b[0m\u001b[1;33m(\u001b[0m\u001b[0mpacket_header\u001b[0m\u001b[1;33m)\u001b[0m\u001b[1;33m\u001b[0m\u001b[0m\n\u001b[0;32m    989\u001b[0m \u001b[1;33m\u001b[0m\u001b[0m\n",
      "\u001b[1;32m~\\AppData\\Local\\Continuum\\anaconda3\\lib\\site-packages\\pymysql\\connections.py\u001b[0m in \u001b[0;36m_read_bytes\u001b[1;34m(self, num_bytes)\u001b[0m\n\u001b[0;32m   1016\u001b[0m \u001b[1;33m\u001b[0m\u001b[0m\n\u001b[0;32m   1017\u001b[0m     \u001b[1;32mdef\u001b[0m \u001b[0m_read_bytes\u001b[0m\u001b[1;33m(\u001b[0m\u001b[0mself\u001b[0m\u001b[1;33m,\u001b[0m \u001b[0mnum_bytes\u001b[0m\u001b[1;33m)\u001b[0m\u001b[1;33m:\u001b[0m\u001b[1;33m\u001b[0m\u001b[0m\n\u001b[1;32m-> 1018\u001b[1;33m         \u001b[0mself\u001b[0m\u001b[1;33m.\u001b[0m\u001b[0m_sock\u001b[0m\u001b[1;33m.\u001b[0m\u001b[0msettimeout\u001b[0m\u001b[1;33m(\u001b[0m\u001b[0mself\u001b[0m\u001b[1;33m.\u001b[0m\u001b[0m_read_timeout\u001b[0m\u001b[1;33m)\u001b[0m\u001b[1;33m\u001b[0m\u001b[0m\n\u001b[0m\u001b[0;32m   1019\u001b[0m         \u001b[1;32mwhile\u001b[0m \u001b[1;32mTrue\u001b[0m\u001b[1;33m:\u001b[0m\u001b[1;33m\u001b[0m\u001b[0m\n\u001b[0;32m   1020\u001b[0m             \u001b[1;32mtry\u001b[0m\u001b[1;33m:\u001b[0m\u001b[1;33m\u001b[0m\u001b[0m\n",
      "\u001b[1;31mKeyboardInterrupt\u001b[0m: "
     ]
    }
   ],
   "source": [
    "inst = pd.read_sql('''select #if(c.status in ('ACTIVE', 'COMPLETED', 'EXPIRED', 'SOLD'), 'Approved', 'Rejected') as is_appr,\n",
    "c.id as credit_id, c.date_requested \n",
    ",ifnull(IF(\n",
    "   c.status IN ('active'\n",
    "               ,'completed'\n",
    "               ,'expired')\n",
    "  ,(SELECT\n",
    "     IF(\n",
    "       (COUNT(credit_payment.id) > 0 OR\n",
    "        CURDATE() < LEAST(\n",
    "                      c.due_date\n",
    "                     ,DATE(c.date_received) + INTERVAL 31 DAY) +\n",
    "                    INTERVAL 16 DAY)\n",
    "      ,0\n",
    "      ,1)\n",
    "    FROM\n",
    "     br_release_moneyman.credit_payment\n",
    "    WHERE\n",
    "     ((credit_payment.credit_id = c.id) AND\n",
    "      (credit_payment.payment_date <\n",
    "         (LEAST(\n",
    "            c.due_date\n",
    "           ,DATE(c.date_received) + INTERVAL 31 DAY) +\n",
    "          INTERVAL 16 DAY))))\n",
    "  ,NULL),0)\n",
    "   AS npl15  \n",
    ",ibat.*\n",
    "from br_release_moneyman.credit c\n",
    "inner join br_release_moneyman.credit_risk_filter crf on crf.credit_id = c.id\n",
    "inner join br_release_moneyman.instantor_bank_account iba on iba.instantor_user_details_id = crf.instantor_user_details_id\n",
    "inner join br_release_moneyman.instantor_bank_account_transaction ibat on ibat.instantor_bank_account_id = iba.id\n",
    "where c.date_requested>'2017-09-01' and c.date_requested<'2018-03-01' \n",
    "''', con=con())"
   ]
  },
  {
   "cell_type": "code",
   "execution_count": null,
   "metadata": {
    "collapsed": true
   },
   "outputs": [],
   "source": [
    "inst = NEW_module_inst_end.all_preproc(inst)"
   ]
  },
  {
   "cell_type": "code",
   "execution_count": null,
   "metadata": {
    "collapsed": true
   },
   "outputs": [],
   "source": [
    "inst['Inst_pred_proba'] = clf_inst.predict_proba(inst.drop(['credit_id','sum_pos_LOAN SOCINAL','cnt_pos_LOAN SOCINAL'], axis=1))[:,1]\n",
    "inst = inst[['credit_id', 'Inst_pred_proba']]"
   ]
  },
  {
   "cell_type": "code",
   "execution_count": null,
   "metadata": {
    "collapsed": true
   },
   "outputs": [],
   "source": [
    "%%time\n",
    "vv = pd.read_sql('''\n",
    "SELECT\n",
    "  c.id as credit_id,\n",
    "  c.date_requested,\n",
    "  #if(c.status in ('ACTIVE', 'COMPLETED', 'EXPIRED', 'SOLD'), 1, 0) as is_accepted,\n",
    "  #c.status,\n",
    "                  ifnull(IF(c.status IN ('active','completed','expired'),\n",
    "                  (SELECT\n",
    "                    IF((COUNT(credit_payment.id) > 0 OR CURDATE() < LEAST(c.due_date,DATE(c.date_received) + INTERVAL 31 DAY) + INTERVAL 16 DAY),0,1)\n",
    "                  FROM br_release_moneyman.credit_payment\n",
    "                  WHERE ((credit_payment.credit_id = c.id) AND (credit_payment.payment_date <(LEAST(c.due_date,DATE(c.date_received) + INTERVAL 31 DAY) + INTERVAL 16 DAY)))),NULL),0)\n",
    "                  AS npl15,\n",
    "  vr.*,\n",
    "  va.*,\n",
    "  vi.*,\n",
    "  vo.*,\n",
    "  vd.*,\n",
    "  vam.*\n",
    "FROM\n",
    "  br_release_moneyman.credit c \n",
    "  INNER JOIN br_release_moneyman.borrower b on b.id = c.borrower_id\n",
    "  INNER JOIN br_release_moneyman.verumview_report vr on vr.user_account_id=b.user_account_id\n",
    "  LEFT JOIN br_release_moneyman.verumview_addressmatch va on vr.id = va.verumview_report_id\n",
    "  LEFT JOIN br_release_moneyman.verumview_income vi on vr.id = vi.verumview_report_id\n",
    "  LEFT JOIN br_release_moneyman.verumview_overduebills vo on vr.id = vo.verumview_report_id\n",
    "  LEFT JOIN (\n",
    "              SELECT\n",
    "                Count(DISTINCT id) as cnt_id,\n",
    "                sum(number_of_msgs) as number_of_msgs,\n",
    "                min(days_since_last_msg) as min_days_since_last_msg,\n",
    "                min(domain_name) as min_name,\n",
    "                verumview_report_id\n",
    "              FROM\n",
    "                br_release_moneyman.verumview_dispute\n",
    "              GROUP BY\n",
    "                verumview_report_id) vd\n",
    "      on vr.id = vd.verumview_report_id\n",
    "  LEFT JOIN (\n",
    "              SELECT\n",
    "                sum(spend_amount) as sum_spend_amount,\n",
    "                sum(transactions) as sum_transactions,\n",
    "                #count_transactions\n",
    "                sum(if(months_back=5, transactions, 0)) as cnt_Trans_5,\n",
    "                sum(if(months_back=4, transactions, 0)) as cnt_Trans_4,\n",
    "                sum(if(months_back=3, transactions, 0)) as cnt_Trans_3,\n",
    "                sum(if(months_back=2, transactions, 0)) as cnt_Trans_2,\n",
    "                sum(if(months_back=1, transactions, 0)) as cnt_Trans_1,\n",
    "                sum(if(months_back=0, transactions, 0)) as cnt_Trans_0,\n",
    "                #sum_transactions\n",
    "                sum(if(months_back=5, spend_amount, 0)) as sum_Trans_5,\n",
    "                sum(if(months_back=4, spend_amount, 0)) as sum_Trans_4,\n",
    "                sum(if(months_back=3, spend_amount, 0)) as sum_Trans_3,\n",
    "                sum(if(months_back=2, spend_amount, 0)) as sum_Trans_2,\n",
    "                sum(if(months_back=1, spend_amount, 0)) as sum_Trans_1,\n",
    "                sum(if(months_back=0, spend_amount, 0)) as sum_Trans_0,\n",
    "                verumview_report_id\n",
    "              FROM\n",
    "                br_release_moneyman.verumview_amount\n",
    "              GROUP BY\n",
    "                verumview_report_id) vam\n",
    "      on vr.id = vam.verumview_report_id\n",
    "where c.date_requested>'2017-09-01' and c.date_requested<'2018-03-01' \n",
    "#WHERE c.status in ('ACTIVE', 'COMPLETED', 'EXPIRED', 'SOLD', 'CANCELLED');\n",
    "''', con=con())"
   ]
  },
  {
   "cell_type": "code",
   "execution_count": null,
   "metadata": {
    "collapsed": true
   },
   "outputs": [],
   "source": [
    "vv = NEW_module_VV_end.preproc(vv)"
   ]
  },
  {
   "cell_type": "code",
   "execution_count": null,
   "metadata": {
    "collapsed": true
   },
   "outputs": [],
   "source": [
    "vv['VV_pred_proba'] = clf_vv.predict_proba(vv.drop(['credit_id'], axis=1))[:,1]\n",
    "vv = vv[['credit_id','VV_pred_proba']]"
   ]
  },
  {
   "cell_type": "code",
   "execution_count": null,
   "metadata": {
    "collapsed": true
   },
   "outputs": [],
   "source": [
    "df_end = pd.merge(appdata, pd.merge(inst, vv, on='credit_id', how = 'outer'), on='credit_id', how = 'left')"
   ]
  },
  {
   "cell_type": "code",
   "execution_count": 167,
   "metadata": {
    "collapsed": true
   },
   "outputs": [],
   "source": [
    "df_end = pd.merge(df, pd.merge(inst, vv, on='credit_id', how = 'outer'), on='credit_id', how = 'left')"
   ]
  },
  {
   "cell_type": "code",
   "execution_count": 233,
   "metadata": {
    "collapsed": true
   },
   "outputs": [],
   "source": [
    "df_end.fillna(-1, inplace=True)"
   ]
  },
  {
   "cell_type": "code",
   "execution_count": 240,
   "metadata": {
    "collapsed": true
   },
   "outputs": [
    {
     "ename": "AttributeError",
     "evalue": "'DataFrame' object has no attribute 'npl15'",
     "output_type": "error",
     "traceback": [
      "\u001b[1;31m---------------------------------------------------------------------------\u001b[0m",
      "\u001b[1;31mAttributeError\u001b[0m                            Traceback (most recent call last)",
      "\u001b[1;32m<ipython-input-240-c16d62a6e118>\u001b[0m in \u001b[0;36m<module>\u001b[1;34m()\u001b[0m\n\u001b[1;32m----> 1\u001b[1;33m \u001b[0my\u001b[0m \u001b[1;33m=\u001b[0m \u001b[0mdf_end\u001b[0m\u001b[1;33m.\u001b[0m\u001b[0mnpl15\u001b[0m\u001b[1;33m\u001b[0m\u001b[0m\n\u001b[0m\u001b[0;32m      2\u001b[0m \u001b[0mX\u001b[0m \u001b[1;33m=\u001b[0m \u001b[0mdf_end\u001b[0m\u001b[1;33m.\u001b[0m\u001b[0mdrop\u001b[0m\u001b[1;33m(\u001b[0m\u001b[1;33m[\u001b[0m\u001b[1;34m'date_requested'\u001b[0m\u001b[1;33m,\u001b[0m \u001b[1;34m'credit_id'\u001b[0m\u001b[1;33m]\u001b[0m\u001b[1;33m,\u001b[0m \u001b[0maxis\u001b[0m\u001b[1;33m=\u001b[0m\u001b[1;36m1\u001b[0m\u001b[1;33m)\u001b[0m\u001b[1;33m\u001b[0m\u001b[0m\n",
      "\u001b[1;32m~\\AppData\\Local\\Continuum\\anaconda3\\lib\\site-packages\\pandas\\core\\generic.py\u001b[0m in \u001b[0;36m__getattr__\u001b[1;34m(self, name)\u001b[0m\n\u001b[0;32m   3612\u001b[0m             \u001b[1;32mif\u001b[0m \u001b[0mname\u001b[0m \u001b[1;32min\u001b[0m \u001b[0mself\u001b[0m\u001b[1;33m.\u001b[0m\u001b[0m_info_axis\u001b[0m\u001b[1;33m:\u001b[0m\u001b[1;33m\u001b[0m\u001b[0m\n\u001b[0;32m   3613\u001b[0m                 \u001b[1;32mreturn\u001b[0m \u001b[0mself\u001b[0m\u001b[1;33m[\u001b[0m\u001b[0mname\u001b[0m\u001b[1;33m]\u001b[0m\u001b[1;33m\u001b[0m\u001b[0m\n\u001b[1;32m-> 3614\u001b[1;33m             \u001b[1;32mreturn\u001b[0m \u001b[0mobject\u001b[0m\u001b[1;33m.\u001b[0m\u001b[0m__getattribute__\u001b[0m\u001b[1;33m(\u001b[0m\u001b[0mself\u001b[0m\u001b[1;33m,\u001b[0m \u001b[0mname\u001b[0m\u001b[1;33m)\u001b[0m\u001b[1;33m\u001b[0m\u001b[0m\n\u001b[0m\u001b[0;32m   3615\u001b[0m \u001b[1;33m\u001b[0m\u001b[0m\n\u001b[0;32m   3616\u001b[0m     \u001b[1;32mdef\u001b[0m \u001b[0m__setattr__\u001b[0m\u001b[1;33m(\u001b[0m\u001b[0mself\u001b[0m\u001b[1;33m,\u001b[0m \u001b[0mname\u001b[0m\u001b[1;33m,\u001b[0m \u001b[0mvalue\u001b[0m\u001b[1;33m)\u001b[0m\u001b[1;33m:\u001b[0m\u001b[1;33m\u001b[0m\u001b[0m\n",
      "\u001b[1;31mAttributeError\u001b[0m: 'DataFrame' object has no attribute 'npl15'"
     ]
    }
   ],
   "source": [
    "y = df_end.npl15\n",
    "X = df_end.drop(['date_requested', 'credit_id', 'npl15'], axis=1)"
   ]
  },
  {
   "cell_type": "code",
   "execution_count": null,
   "metadata": {
    "collapsed": true
   },
   "outputs": [],
   "source": [
    "df_end.VV_pred_proba.fillna(0.6, inplace=True)\n",
    "df_end.Inst_pred_proba.fillna(0.34, inplace=True)"
   ]
  },
  {
   "cell_type": "code",
   "execution_count": 245,
   "metadata": {
    "collapsed": true
   },
   "outputs": [],
   "source": [
    "df_end['prediction'] = clf_end.predict_proba(df_end.drop(['credit_id'], axis=1))[:,1]"
   ]
  },
  {
   "cell_type": "code",
   "execution_count": 246,
   "metadata": {
    "collapsed": true
   },
   "outputs": [],
   "source": [
    "df_end.prediction = df_end.prediction.map(lambda x: round(float(x) * 1000))"
   ]
  },
  {
   "cell_type": "code",
   "execution_count": 247,
   "metadata": {
    "collapsed": true
   },
   "outputs": [],
   "source": [
    "vigr = df_end[['credit_id', 'prediction']]"
   ]
  },
  {
   "cell_type": "code",
   "execution_count": 250,
   "metadata": {
    "collapsed": true
   },
   "outputs": [],
   "source": [
    "writer = pd.ExcelWriter('credits_sep_feb_2018_04_16.xlsx')\n",
    "vigr.to_excel(writer,'ES', index=False)\n",
    "writer.save()"
   ]
  },
  {
   "cell_type": "markdown",
   "metadata": {},
   "source": [
    "# Model for Test Metrics"
   ]
  },
  {
   "cell_type": "code",
   "execution_count": 171,
   "metadata": {
    "collapsed": true
   },
   "outputs": [],
   "source": [
    "X_train, X_test, y_train, y_test = train_test_split(X, y, test_size=0.33, random_state=1)"
   ]
  },
  {
   "cell_type": "code",
   "execution_count": 172,
   "metadata": {
    "collapsed": true
   },
   "outputs": [],
   "source": [
    "clf = GradientBoostingClassifier(random_state=0, verbose = 0,\n",
    "                                 learning_rate = 0.1,\n",
    "                                 max_depth = 5,\n",
    "                                 n_estimators = 100).fit(X_train, y_train)"
   ]
  },
  {
   "cell_type": "code",
   "execution_count": 173,
   "metadata": {},
   "outputs": [
    {
     "name": "stdout",
     "output_type": "stream",
     "text": [
      "ROC_AUC:   0.6366966722806202\n",
      "Gini:      0.2733933445612404\n",
      "F1_score:  0.3293838862559242\n",
      "\n",
      "\n",
      "Classification_report: \n",
      "              precision    recall  f1-score   support\n",
      "\n",
      "          0       0.91      0.73      0.81      1675\n",
      "          1       0.24      0.54      0.33       257\n",
      "\n",
      "avg / total       0.82      0.71      0.75      1932\n",
      "\n",
      "\n",
      "\n"
     ]
    },
    {
     "data": {
      "image/png": "[encoded data removed]",
      "text/plain": [
       "<matplotlib.figure.Figure at 0x17da1a67588>"
      ]
     },
     "metadata": {},
     "output_type": "display_data"
    },
    {
     "data": {
      "image/png": "[encoded data removed]",
      "text/plain": [
       "<matplotlib.figure.Figure at 0x17da823efd0>"
      ]
     },
     "metadata": {},
     "output_type": "display_data"
    }
   ],
   "source": [
    "IDF.plot_score(clf, X_test, y_test)"
   ]
  },
  {
   "cell_type": "markdown",
   "metadata": {},
   "source": [
    "# Model for Train"
   ]
  },
  {
   "cell_type": "code",
   "execution_count": 27,
   "metadata": {
    "collapsed": true
   },
   "outputs": [],
   "source": [
    "clf = GradientBoostingClassifier(random_state=0, verbose = 0,\n",
    "                                 learning_rate = 0.1,\n",
    "                                 max_depth = 5,\n",
    "                                 n_estimators = 100).fit(X, y)"
   ]
  },
  {
   "cell_type": "code",
   "execution_count": 28,
   "metadata": {
    "collapsed": true
   },
   "outputs": [],
   "source": [
    "joblib.dump(clf, 'appdata_algorithm_2018_04_11.pkl');"
   ]
  },
  {
   "cell_type": "code",
   "execution_count": 29,
   "metadata": {
    "collapsed": true
   },
   "outputs": [],
   "source": [
    "clf = joblib.load('appdata_algorithm_2018_04_11.pkl')"
   ]
  },
  {
   "cell_type": "markdown",
   "metadata": {},
   "source": [
    "# ALL TABLES"
   ]
  },
  {
   "cell_type": "code",
   "execution_count": 62,
   "metadata": {
    "collapsed": true
   },
   "outputs": [],
   "source": [
    "appdata_exp = socdem['credit_id'].iloc[:,:1]\n",
    "appdata_exp['Appdata_pred_proba'] = clf.predict_proba(X)[:,1]\n",
    "appdata_exp['npl15'] = socdem['npl15']"
   ]
  },
  {
   "cell_type": "code",
   "execution_count": 98,
   "metadata": {
    "collapsed": true
   },
   "outputs": [],
   "source": [
    "vv = pd.read_excel('VV_DATA_2018_04_16.xlsx')\n",
    "inst = pd.read_excel('Inst_DATA_16.xlsx')\n",
    "df_end = pd.merge(appdata_exp, pd.merge(inst, vv, on ='credit_id', how='outer'), on ='credit_id', how='outer')"
   ]
  },
  {
   "cell_type": "code",
   "execution_count": 111,
   "metadata": {
    "collapsed": true
   },
   "outputs": [],
   "source": [
    "#df_end_to_copy = df_end.copy()\n",
    "df_end = df_end_to_copy.copy()"
   ]
  },
  {
   "cell_type": "code",
   "execution_count": 113,
   "metadata": {
    "collapsed": true
   },
   "outputs": [],
   "source": [
    "df_end.VV_pred_proba.fillna(0.6, inplace=True)\n",
    "df_end.Inst_pred_proba.fillna(0.34, inplace=True)"
   ]
  },
  {
   "cell_type": "code",
   "execution_count": 114,
   "metadata": {
    "collapsed": true
   },
   "outputs": [],
   "source": [
    "y_end = df_end.npl15\n",
    "df_end.drop(['npl15'], axis = 1, inplace=True)"
   ]
  },
  {
   "cell_type": "code",
   "execution_count": 115,
   "metadata": {
    "collapsed": true
   },
   "outputs": [],
   "source": [
    "X_train, X_test, y_train, y_test = train_test_split(df_end, y_end, test_size=0.33, random_state=1)"
   ]
  },
  {
   "cell_type": "code",
   "execution_count": 116,
   "metadata": {
    "collapsed": true
   },
   "outputs": [],
   "source": [
    "train = X_train.copy()\n",
    "test = X_test.copy()\n",
    "X_train.drop('credit_id', inplace=True, axis=1)\n",
    "X_test.drop('credit_id', inplace=True, axis=1)"
   ]
  },
  {
   "cell_type": "code",
   "execution_count": null,
   "metadata": {
    "collapsed": true
   },
   "outputs": [],
   "source": [
    "#df_end.drop('credit_id', inplace=True, axis=1)"
   ]
  },
  {
   "cell_type": "markdown",
   "metadata": {},
   "source": [
    "# Early Scoring Test"
   ]
  },
  {
   "cell_type": "code",
   "execution_count": 117,
   "metadata": {
    "collapsed": true
   },
   "outputs": [],
   "source": [
    "#clf4 = CatBoostClassifier(verbose=False).fit(X_train, y_train)\n",
    "clf5 = GradientBoostingClassifier(random_state=0, verbose = 0,\n",
    "                                 learning_rate = 0.1,\n",
    "                                 max_depth = 5,\n",
    "                                 n_estimators = 100).fit(X_train, y_train)\n",
    "clf6 = XGBClassifier(objective='binary:logistic', eval_metric=\"auc\", nthreads=2).fit(X_train, y_train)"
   ]
  },
  {
   "cell_type": "code",
   "execution_count": 118,
   "metadata": {},
   "outputs": [
    {
     "name": "stdout",
     "output_type": "stream",
     "text": [
      "ROC_AUC:   0.8299031347560194\n",
      "Gini:      0.6598062695120388\n",
      "F1_score:  0.7429577464788732\n",
      "\n",
      "\n",
      "Classification_report: \n",
      "              precision    recall  f1-score   support\n",
      "\n",
      "          0       0.91      0.87      0.89      1396\n",
      "          1       0.70      0.79      0.74       536\n",
      "\n",
      "avg / total       0.86      0.85      0.85      1932\n",
      "\n",
      "\n",
      "\n"
     ]
    },
    {
     "data": {
      "image/png": "[encoded data removed]",
      "text/plain": [
       "<matplotlib.figure.Figure at 0x25eb12c6438>"
      ]
     },
     "metadata": {},
     "output_type": "display_data"
    },
    {
     "data": {
      "image/png": "[encoded data removed]",
      "text/plain": [
       "<matplotlib.figure.Figure at 0x25ec85e8048>"
      ]
     },
     "metadata": {},
     "output_type": "display_data"
    }
   ],
   "source": [
    "IDF.plot_score(clf6, X_test, y_test)"
   ]
  },
  {
   "cell_type": "markdown",
   "metadata": {
    "collapsed": true
   },
   "source": [
    "# Early Scoring Train"
   ]
  },
  {
   "cell_type": "code",
   "execution_count": 95,
   "metadata": {
    "collapsed": true
   },
   "outputs": [],
   "source": [
    "clf6 = XGBClassifier(objective='binary:logistic', eval_metric=\"auc\", nthreads=2).fit(df_end, y_end)"
   ]
  },
  {
   "cell_type": "code",
   "execution_count": 96,
   "metadata": {
    "collapsed": true
   },
   "outputs": [],
   "source": [
    "joblib.dump(clf6, 'final_algorithm_2018_04_11.pkl');"
   ]
  },
  {
   "cell_type": "markdown",
   "metadata": {},
   "source": [
    "# Export scores"
   ]
  },
  {
   "cell_type": "code",
   "execution_count": null,
   "metadata": {
    "collapsed": true
   },
   "outputs": [],
   "source": [
    "train = X_train.copy()\n",
    "test = X_test.copy()\n",
    "X_train.drop('credit_id', inplace=True, axis=1)\n",
    "X_test.drop('credit_id', inplace=True, axis=1)"
   ]
  },
  {
   "cell_type": "code",
   "execution_count": 126,
   "metadata": {
    "collapsed": true
   },
   "outputs": [],
   "source": [
    "train['score'] = clf6.predict_proba(X_train)[:,1]\n",
    "test['score'] = clf6.predict_proba(X_test)[:,1]"
   ]
  },
  {
   "cell_type": "code",
   "execution_count": 128,
   "metadata": {
    "collapsed": true
   },
   "outputs": [],
   "source": [
    "train = train[['credit_id', 'score']]\n",
    "test = test[['credit_id', 'score']]"
   ]
  },
  {
   "cell_type": "code",
   "execution_count": 133,
   "metadata": {
    "collapsed": true
   },
   "outputs": [],
   "source": [
    "test.score = test.score.map(lambda x: round(float(x) * 1000))\n",
    "train.score = train.score.map(lambda x: round(float(x) * 1000))"
   ]
  },
  {
   "cell_type": "code",
   "execution_count": 135,
   "metadata": {
    "collapsed": true
   },
   "outputs": [],
   "source": [
    "writer = pd.ExcelWriter('train_2018_04_11.xlsx')\n",
    "train.to_excel(writer,'ES', index=False)\n",
    "writer.save()\n",
    "writer = pd.ExcelWriter('test_2018_04_11.xlsx')\n",
    "test.to_excel(writer,'ES', index=False)\n",
    "writer.save()"
   ]
  },
  {
   "cell_type": "code",
   "execution_count": 10,
   "metadata": {
    "collapsed": true
   },
   "outputs": [],
   "source": [
    "writer = pd.ExcelWriter('npl15.xlsx')\n",
    "socdem.to_excel(writer,'ES', index=False)\n",
    "writer.save()"
   ]
  },
  {
   "cell_type": "code",
   "execution_count": null,
   "metadata": {
    "collapsed": true
   },
   "outputs": [],
   "source": []
  },
  {
   "cell_type": "code",
   "execution_count": null,
   "metadata": {
    "collapsed": true
   },
   "outputs": [],
   "source": []
  }
 ],
 "metadata": {
  "kernelspec": {
   "display_name": "Python 3",
   "language": "python",
   "name": "python3"
  },
  "language_info": {
   "codemirror_mode": {
    "name": "ipython",
    "version": 3
   },
   "file_extension": ".py",
   "mimetype": "text/x-python",
   "name": "python",
   "nbconvert_exporter": "python",
   "pygments_lexer": "ipython3",
   "version": "3.6.3"
  },
  "notify_time": "30",
  "toc": {
   "nav_menu": {},
   "number_sections": true,
   "sideBar": true,
   "skip_h1_title": false,
   "title_cell": "Table of Contents",
   "title_sidebar": "Contents",
   "toc_cell": false,
   "toc_position": {},
   "toc_section_display": true,
   "toc_window_display": true
  }
 },
 "nbformat": 4,
 "nbformat_minor": 2
}
